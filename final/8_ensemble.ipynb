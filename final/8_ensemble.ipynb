{
 "cells": [
  {
   "cell_type": "code",
   "execution_count": 130,
   "metadata": {},
   "outputs": [
    {
     "name": "stdout",
     "output_type": "stream",
     "text": [
      "(2000, 2000) (2000, 2000) (2000, 2000) (2000, 2000)\n"
     ]
    }
   ],
   "source": [
    "import numpy as np\n",
    "\n",
    "pool = np.load('dist_pool.npy')\n",
    "fc = np.load('dist_fc.npy')\n",
    "svc = np.load('dist_svc.npy')\n",
    "rf = np.load('dist_rf.npy')\n",
    "print(pool.shape, fc.shape, svc.shape, rf.shape)"
   ]
  },
  {
   "cell_type": "code",
   "execution_count": 131,
   "metadata": {},
   "outputs": [
    {
     "name": "stdout",
     "output_type": "stream",
     "text": [
      "[[455.37819714 458.0571065  365.6534987  ... 476.31869644 443.3609892\n",
      "  567.07139512]\n",
      " [524.21136051 491.75576992 505.99195514 ... 549.618939   504.29571074\n",
      "  456.88988769]\n",
      " [501.51763504 448.95889382 482.58490483 ... 450.4204595  329.03561044\n",
      "  615.68636852]\n",
      " [488.34731084 388.66924168 402.30922996 ... 439.21128276 347.32749609\n",
      "  575.85551353]\n",
      " [481.28829158 445.20120723 383.32672712 ... 475.79779355 428.72469978\n",
      "  566.65340188]]\n",
      "(2000, 2000)\n"
     ]
    }
   ],
   "source": [
    "dist = [pool, fc, svc, rf]\n",
    "# weight = [5,1,30, 0]\n",
    "weight = [10,1,30,50]\n",
    "\n",
    "weighted_dist = []\n",
    "for d, w in zip(dist, weight):\n",
    "    weighted_dist.append(w*d)\n",
    "    \n",
    "final_dist = []\n",
    "for i in range(2000):\n",
    "    fd = 0\n",
    "    for wd in weighted_dist:\n",
    "        fd += wd[i]\n",
    "    final_dist.append(fd)\n",
    "final_dist = np.asarray(final_dist)\n",
    "\n",
    "print(final_dist[:5])\n",
    "print(final_dist.shape)"
   ]
  },
  {
   "cell_type": "code",
   "execution_count": 132,
   "metadata": {},
   "outputs": [
    {
     "name": "stdout",
     "output_type": "stream",
     "text": [
      "['1862.jpg 1131.jpg 1231.jpg 36.jpg 124.jpg 292.jpg 484.jpg 95.jpg 760.jpg 1535.jpg 1698.jpg 942.jpg 912.jpg 359.jpg 1480.jpg 1479.jpg 1117.jpg 46.jpg 153.jpg 1380.jpg', '833.jpg 589.jpg 1907.jpg 1714.jpg 758.jpg 1529.jpg 818.jpg 1143.jpg 355.jpg 1039.jpg 997.jpg 435.jpg 1071.jpg 1742.jpg 457.jpg 1807.jpg 1741.jpg 753.jpg 1134.jpg 482.jpg', '598.jpg 445.jpg 159.jpg 838.jpg 1866.jpg 1651.jpg 953.jpg 720.jpg 1183.jpg 1471.jpg 1840.jpg 1724.jpg 184.jpg 1713.jpg 1998.jpg 1033.jpg 1107.jpg 1421.jpg 1464.jpg 1665.jpg', '1513.jpg 799.jpg 654.jpg 1486.jpg 800.jpg 1035.jpg 75.jpg 397.jpg 1922.jpg 836.jpg 1514.jpg 1865.jpg 770.jpg 469.jpg 1727.jpg 1207.jpg 1215.jpg 1218.jpg 417.jpg 267.jpg', '1231.jpg 1131.jpg 36.jpg 359.jpg 292.jpg 942.jpg 1698.jpg 484.jpg 760.jpg 95.jpg 1862.jpg 1117.jpg 1535.jpg 1092.jpg 912.jpg 1743.jpg 46.jpg 1816.jpg 594.jpg 141.jpg']\n"
     ]
    }
   ],
   "source": [
    "tops = []\n",
    "for i in range(2000):\n",
    "    top = np.argsort(final_dist[i])[:20]\n",
    "    tops.append(' '.join([str(iid) + '.jpg' for iid in top]))\n",
    "print(tops[:5])"
   ]
  },
  {
   "cell_type": "code",
   "execution_count": 133,
   "metadata": {},
   "outputs": [],
   "source": [
    "import csv\n",
    "out_files = []\n",
    "for i in range(2000):\n",
    "    out_files.append(str(i)+'.txt')\n",
    "with open('5_1_30.csv', 'w') as f:\n",
    "    writer = csv.writer(f)\n",
    "    writer.writerow(['Descritpion_ID', 'Top_20_Image_IDs'])\n",
    "    writer.writerows(zip(out_files, tops))"
   ]
  },
  {
   "cell_type": "code",
   "execution_count": null,
   "metadata": {},
   "outputs": [],
   "source": []
  }
 ],
 "metadata": {
  "kernelspec": {
   "display_name": "Python 3",
   "language": "python",
   "name": "python3"
  },
  "language_info": {
   "codemirror_mode": {
    "name": "ipython",
    "version": 3
   },
   "file_extension": ".py",
   "mimetype": "text/x-python",
   "name": "python",
   "nbconvert_exporter": "python",
   "pygments_lexer": "ipython3",
   "version": "3.6.5"
  }
 },
 "nbformat": 4,
 "nbformat_minor": 2
}
