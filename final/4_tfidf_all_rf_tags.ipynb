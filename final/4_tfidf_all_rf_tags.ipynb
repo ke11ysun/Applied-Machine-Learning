{
 "cells": [
  {
   "cell_type": "markdown",
   "metadata": {},
   "source": [
    "## This file used to preprocess description\n",
    "### [{man: 2, skateboard: 3, ...},{},{}]"
   ]
  },
  {
   "cell_type": "code",
   "execution_count": 54,
   "metadata": {},
   "outputs": [],
   "source": [
    "import numpy as np\n",
    "import re\n",
    "from nltk.corpus import stopwords # Import the stop word list\n",
    "from nltk.stem.wordnet import WordNetLemmatizer\n",
    "from nltk.stem import LancasterStemmer\n",
    "import pprint\n",
    "from autocorrect import spell\n",
    "import string\n",
    "plural = WordNetLemmatizer()"
   ]
  },
  {
   "cell_type": "code",
   "execution_count": 55,
   "metadata": {},
   "outputs": [],
   "source": [
    "# deal with five descriptions under one image\n",
    "def preprocess(lines):\n",
    "    res = []\n",
    "    # stopword\n",
    "    for i, line in enumerate(lines):\n",
    "        line = re.sub(\"[^a-zA-Z]\", \" \", line).lower()\n",
    "        line = ' '.join([w for w in line.split() if not w in stopwords.words(\"english\")])\n",
    "        line = ' '.join([w for w in line.split() if not w in string.punctuation])\n",
    "        res.append(line)\n",
    "    # lemmatizere  \n",
    "    for i, sentence in enumerate(res):\n",
    "        temp = []\n",
    "        for word in sentence.split(\" \"):\n",
    "            word2 = spell(word)\n",
    "            word2 = plural.lemmatize(word2,'n')\n",
    "            word2 = plural.lemmatize(word2,'v')\n",
    "            word2 = plural.lemmatize(word2,'a')\n",
    "            word2 = plural.lemmatize(word2,'r')\n",
    "            temp.append(word2)\n",
    "        res[i] = ' '.join(temp)\n",
    "    return res"
   ]
  },
  {
   "cell_type": "code",
   "execution_count": 56,
   "metadata": {},
   "outputs": [],
   "source": [
    "def load_description(isTrain):\n",
    "    res = []\n",
    "    if isTrain:\n",
    "        folder_path = \"data/descriptions_train/\"\n",
    "        num = 10000\n",
    "    else:\n",
    "        folder_path = \"data/descriptions_test/\"\n",
    "        num = 2000\n",
    "        \n",
    "    for n in range(num):\n",
    "        path = folder_path + str(n) + \".txt\"\n",
    "        txtfile = open(path, \"r\")\n",
    "        lines = txtfile.read().split('\\n')\n",
    "        processed_lines = preprocess(lines)\n",
    "#         print(lines)\n",
    "#         print(processed_lines)\n",
    "#         if n > 5:\n",
    "#             break\n",
    "        res.append(processed_lines)\n",
    "    return res"
   ]
  },
  {
   "cell_type": "code",
   "execution_count": 78,
   "metadata": {},
   "outputs": [],
   "source": [
    "def flatten_descrip(all_data):\n",
    "    words = []\n",
    "    for sentence in all_data:\n",
    "        cur_word = []\n",
    "        for line in sentence:\n",
    "            for w in line.split():\n",
    "                cur_word.append(w)\n",
    "        words.append(cur_word)\n",
    "    return words\n",
    "            "
   ]
  },
  {
   "cell_type": "code",
   "execution_count": 57,
   "metadata": {},
   "outputs": [],
   "source": [
    "description_train = load_description(True)\n"
   ]
  },
  {
   "cell_type": "code",
   "execution_count": 79,
   "metadata": {},
   "outputs": [],
   "source": [
    "des_train_flat = flatten_descrip(description_train)"
   ]
  },
  {
   "cell_type": "code",
   "execution_count": 81,
   "metadata": {},
   "outputs": [
    {
     "name": "stdout",
     "output_type": "stream",
     "text": [
      "['brown crack crust bake berry pie', 'brown crust pie strawberry file', 'top pie look crusty good', 'close cook fruit flavor muffin', 'image sort strawberry flaky mastery display', 'a']\n",
      "['brown', 'crack', 'crust', 'bake', 'berry', 'pie', 'brown', 'crust', 'pie', 'strawberry', 'file', 'top', 'pie', 'look', 'crusty', 'good', 'close', 'cook', 'fruit', 'flavor', 'muffin', 'image', 'sort', 'strawberry', 'flaky', 'mastery', 'display', 'a']\n"
     ]
    }
   ],
   "source": [
    "np.save('param/description_train', des_train_flat)\n",
    "print(description_train[100])\n",
    "print(des_train_flat[100])"
   ]
  },
  {
   "cell_type": "code",
   "execution_count": 82,
   "metadata": {},
   "outputs": [],
   "source": [
    "description_test = load_description(False)\n",
    "des_test_flat = flatten_descrip(description_test)\n",
    "np.save('param/description_test', des_test_flat)\n"
   ]
  },
  {
   "cell_type": "code",
   "execution_count": 83,
   "metadata": {},
   "outputs": [
    {
     "name": "stdout",
     "output_type": "stream",
     "text": [
      "['leave', 'turn', 'sign', 'hang', 'side', 'wooden', 'pole', 'sign', 'road', 'many', 'vehicle', 'park', 'picture', 'street', 'busy', 'city', 'street', 'green', 'traffic', 'light', 'sit', 'near', 'park', 'lot', 'white', 'build', 'right', 'turn', 'sign', 'turn', 'upside', 'pole', 'a']\n"
     ]
    }
   ],
   "source": [
    "print(des_test_flat[10])"
   ]
  },
  {
   "cell_type": "markdown",
   "metadata": {},
   "source": [
    "### Build Inside BoW"
   ]
  },
  {
   "cell_type": "code",
   "execution_count": 88,
   "metadata": {},
   "outputs": [],
   "source": [
    "# for each image\n",
    "def build_BoW_inside(descriptions):\n",
    "    word_dict = {}\n",
    "    for descipt in descriptions:\n",
    "        for word in descipt.split():\n",
    "#             if len(word) < 2:\n",
    "#                 continue\n",
    "            hasRepeat, repeatWord = check_repeat(word, word_dict)\n",
    "            if hasRepeat:\n",
    "                word_dict[repeatWord] += 1\n",
    "            else:\n",
    "                word_dict[word] = 1\n",
    "    return word_dict\n",
    "\n",
    "def check_repeat(word, word_dict):\n",
    "    if word_dict is None:\n",
    "        return False, None\n",
    "    for dict_w in word_dict:\n",
    "        if dict_w.startswith(word):\n",
    "            return True, dict_w\n",
    "    return False, None\n",
    "    "
   ]
  },
  {
   "cell_type": "code",
   "execution_count": 91,
   "metadata": {},
   "outputs": [],
   "source": [
    "description_dict_train = []\n",
    "for line in description_train:\n",
    "    cur_dict = build_BoW_inside(line)\n",
    "    description_dict_train.append(cur_dict)"
   ]
  },
  {
   "cell_type": "code",
   "execution_count": 93,
   "metadata": {},
   "outputs": [
    {
     "name": "stdout",
     "output_type": "stream",
     "text": [
      "{'skateboarder': 5, 'put': 1, 'show': 1, 'use': 1, 'picnic': 4, 'table': 5, 'stage': 1, 'pull': 1, 'trick': 2, 'top': 2, 'man': 1, 'rid': 2, 'boarder': 1, 'person': 1, 'crowd': 1, 'watch': 1, 'a': 1}\n"
     ]
    }
   ],
   "source": [
    "print(description_dict_train[0])"
   ]
  },
  {
   "cell_type": "code",
   "execution_count": 106,
   "metadata": {},
   "outputs": [],
   "source": [
    "# deal with \"skate board\" -- \"skateboard\"\n",
    "def restore_description(dic):\n",
    "    res = []\n",
    "    for line in dic:\n",
    "        cur_res = []\n",
    "        for key, val in line.items():\n",
    "            for i in range(val):\n",
    "                cur_res.append(key)\n",
    "        res.append(' '.join(cur_res))\n",
    "    return res"
   ]
  },
  {
   "cell_type": "code",
   "execution_count": 107,
   "metadata": {},
   "outputs": [],
   "source": [
    "restore_descrip_train = restore_description(description_dict_train)"
   ]
  },
  {
   "cell_type": "code",
   "execution_count": 108,
   "metadata": {},
   "outputs": [
    {
     "name": "stdout",
     "output_type": "stream",
     "text": [
      "skateboarder skateboarder skateboarder skateboarder skateboarder put show use picnic picnic picnic picnic table table table table table stage pull trick trick top top man rid rid boarder person crowd watch a\n"
     ]
    }
   ],
   "source": [
    "print(restore_descrip_train[0])\n",
    "np.save('param/restore_descrip_train', restore_descrip_train)"
   ]
  },
  {
   "cell_type": "code",
   "execution_count": 109,
   "metadata": {},
   "outputs": [],
   "source": [
    "description_dict_test = []\n",
    "for line in description_test:\n",
    "    cur_dict = build_BoW_inside(line)\n",
    "    description_dict_test.append(cur_dict)\n",
    "restore_descrip_test = restore_description(description_dict_test)\n",
    "np.save('param/restore_descrip_test', restore_descrip_test)"
   ]
  },
  {
   "cell_type": "code",
   "execution_count": 110,
   "metadata": {},
   "outputs": [
    {
     "name": "stdout",
     "output_type": "stream",
     "text": [
      "{'woman': 5, 'walk': 4, 'street': 1, 'past': 2, 'doorway': 2, 'sidewalk': 4, 'talk': 2, 'cell': 2, 'phone': 3, 'check': 2, 'watch': 2, 'wear': 1, 'blue': 1, 'along': 2, 'front': 1, 'build': 1, 'black': 1, 'planter': 1, 'entrance': 1}\n"
     ]
    }
   ],
   "source": [
    "print(description_dict_test[0])"
   ]
  },
  {
   "cell_type": "markdown",
   "metadata": {},
   "source": [
    "### Build the BoW of all descriptions\n"
   ]
  },
  {
   "cell_type": "code",
   "execution_count": 70,
   "metadata": {},
   "outputs": [],
   "source": [
    "def build_Bow_outside(dics):\n",
    "    bag_word = []\n",
    "    bag_word_dict = {}\n",
    "    for one_dic in dics:\n",
    "        for key, val in one_dic.items():\n",
    "            bag_word.append(key)\n",
    "            if key not in bag_word_dict:\n",
    "                bag_word_dict[key] = 0\n",
    "            bag_word_dict[key] += val\n",
    "    return list(set(bag_word)), bag_word_dict"
   ]
  },
  {
   "cell_type": "code",
   "execution_count": 71,
   "metadata": {},
   "outputs": [],
   "source": [
    "bag_of_words, bag_of_dict = build_Bow_outside(description_dict_train)"
   ]
  },
  {
   "cell_type": "code",
   "execution_count": 72,
   "metadata": {},
   "outputs": [
    {
     "name": "stdout",
     "output_type": "stream",
     "text": [
      "{'skateboarder': 292, 'put': 99, 'show': 471, 'use': 324, 'picnic': 69, 'table': 2603, 'stage': 20, 'pull': 284, 'trick': 333, 'top': 2238, 'man': 5961, 'rid': 1357, 'boarder': 58, 'person': 2054, 'crowd': 345, 'watch': 475, 'bowl': 507, 'soup': 61, 'carrot': 216, 'shrimp': 9, 'noodle': 29, 'healthy': 10, 'food': 1123, 'ready': 326, 'eat': 954, 'sit': 5568, 'next': 3133, 'chopstick': 12, 'tasty': 25, 'ramen': 3, 'serve': 183, 'someone': 245, 'enjoy': 92, 'asian': 68, 'walk': 1544, 'across': 300, 'street': 2656, 'busy': 205, 'intersection': 182, 'ice': 74, 'cream': 58, 'truck': 624, 'drive': 391, 'behind': 554, 'cross': 278, 'near': 1673, 'icecream': 1, 'concession': 1, 'young': 1479, 'boy': 1058, 'throw': 241, 'frisbee': 780, 'grassy': 512, 'field': 1818, 'park': 2132, 'tree': 1190, 'line': 380, 'kid': 293, 'city': 927, 'bright': 119, 'green': 1122, 'child': 790, 'yard': 135, 'hold': 2809, 'bat': 413, 'raring': 2, 'back': 453, 'baseball': 1225, 'little': 558, 'black': 1746, 'clothe': 108, 'shoulder': 37, 'fence': 532, 'play': 1245, 'small': 1683, 'bedroom': 329, 'desk': 575, 'computer': 787, 'chair': 714, 'front': 1566, 'brown': 727, 'beside': 327, 'window': 683, 'big': 490, 'donut': 227, 'feed': 76, 'another': 421, 'hand': 625, 'blonde': 24, 'look': 1448, 'hole': 54, 'doughnut': 167, 'powder': 17, 'sugar': 27, 'face': 305, 'power': 36, 'cover': 717, 'flood': 16, 'part': 55, 'frost': 49, 'stand': 4332, 'wood': 263, 'wear': 899, 'hat': 336, 'glass': 770, 'sunglass': 59, 'grass': 1054, 'tie': 493, 'weave': 5, 'crown': 14, 'blue': 1171, 'shirt': 455, 'weird': 11, 'around': 736, 'hate': 5, 'brick': 289, 'build': 1504, 'sign': 1389, 'right': 77, 'outside': 709, 'white': 3075, 'image': 360, 'empty': 261, 'old': 690, 'picture': 909, 'tent': 58, 'forest': 153, 'silver': 134, 'rv': 2, 'camp': 6, 'site': 9, 'trailer': 34, 'road': 838, 'two': 4029, 'bus': 1251, 'juxtapose': 2, 'motor': 41, 'home': 174, 'photo': 464, 'bunch': 513, 'luggage': 280, 'lay': 903, 'area': 810, 'rug': 62, 'several': 844, 'piece': 427, 'floor': 492, 'persian': 2, 'travel': 359, 'bag': 258, 'carpet': 54, 'player': 1155, 'game': 799, 'guy': 319, 'plate': 1655, 'take': 570, 'pitch': 86, 'attempt': 55, 'hit': 365, 'catcher': 99, 'umpire': 47, 'people': 3569, 'squat': 22, 'group': 1908, 'four': 346, 'stack': 96, 'set': 368, 'background': 507, 'traffic': 396, 'unite': 6, 'kingdom': 2, 'give': 55, 'direction': 63, 'display': 495, 'boston': 2, 'red': 1541, 'sox': 2, 'fill': 550, 'helmet': 104, 'batter': 224, 'first': 23, 'men': 907, 'car': 981, 'tunnel': 20, 'pass': 119, 'middle': 368, 'go': 334, 'wine': 269, 'bottle': 245, 'woman': 3067, 'surround': 202, 'eager': 2, 'exhibition': 1, 'many': 646, 'tall': 395, 'structure': 44, 'lot': 589, 'school': 80, 'student': 28, 'towards': 127, 'pair': 266, 'far': 25, 'away': 54, 'view': 503, 'backpack': 87, 'like': 199, 'college': 11, 'cluster': 16, 'rise': 55, 'foreground': 36, 'series': 26, 'snowboarder': 205, 'descent': 1, 'slope': 281, 'photograph': 180, 'time': 119, 'lapse': 9, 'glide': 19, 'forward': 17, 'six': 41, 'board': 746, 'hill': 311, 'different': 428, 'cake': 641, 'light': 848, 'candle': 115, 'birthday': 115, 'yellow': 739, 'train': 1861, 'past': 166, 'station': 386, 'track': 725, 'single': 89, 'stop': 692, 'large': 2173, 'long': 303, 'steel': 71, 'commuter': 56, 'rail': 141, 'cat': 1591, 'monitor': 149, 'kitten': 79, 'try': 126, 'interact': 11, 'television': 237, 'curiously': 4, 'screen': 182, 'clock': 1150, 'statue': 127, 'tower': 516, 'european': 11, 'embed': 4, 'giraffe': 1102, 'dirt': 334, 'expanse': 8, 'hot': 258, 'sun': 93, 'dry': 146, 'landscape': 34, 'gaze': 11, 'side': 1131, 'desert': 67, 'crouch': 26, 'mid': 63, 'air': 537, 'catch': 217, 'flight': 25, 'fly': 1098, 'jump': 387, 'snowy': 357, 'mountain': 386, 'grab': 32, 'church': 69, 'litter': 8, 'automobile': 7, 'cathedral': 12, 'mark': 21, 'bed': 998, 'bird': 768, 'appear': 56, 'machinery': 6, 'fluffy': 20, 'feather': 16, 'nest': 20, 'head': 410, 'newborn': 3, 'baby': 420, 'quietly': 3, 'dog': 1883, 'grind': 404, 'snooze': 1, 'bike': 458, 'edge': 137, 'cobblestone': 12, 'bicycle': 240, 'sidewalk': 482, 'sleep': 238, 'puppy': 34, 'rest': 188, 'surfboard': 814, 'close': 649, 'shore': 104, 'surfer': 361, 'wave': 578, 'onto': 142, 'beach': 957, 'multiple': 100, 'today': 10, 'live': 654, 'room': 1502, 'checkout': 2, 'counter': 446, 'laptop': 901, 'advertisement': 33, 'say': 77, 'butt': 2, 'arrange': 47, 'lock': 12, 'chain': 45, 'rack': 72, 'designate': 2, 'lady': 236, 'soccer': 255, 'girl': 961, 'kick': 65, 'ball': 986, 'run': 311, 'competitive': 9, 'stuff': 371, 'animal': 404, 'pedal': 7, 'tan': 45, 'teddy': 399, 'bear': 961, 'gas': 29, 'brake': 3, 'pad': 23, 'floorboard': 1, 'vehicle': 154, 'position': 43, 'though': 7, 'push': 51, 'cute': 82, 'foot': 104, 'beautiful': 107, 'talk': 258, 'phone': 814, 'smile': 335, 'lanyard': 3, 'name': 37, 'tag': 28, 'cell': 413, 'corner': 247, 'curtain': 82, 'call': 18, 'telephone': 27, 'crate': 12, 'hay': 62, 'hound': 3, 'peek': 33, 'latticed': 2, 'gate': 39, 'hunt': 4, 'case': 109, 'beagle': 2, 'pen': 77, 'open': 687, 'splintery': 1, 'slat': 6, 'tennis': 1659, 'court': 519, 'racquet': 233, 'pick': 65, 'three': 820, 'racket': 469, 'scoop': 3, 'container': 110, 'sweet': 12, 'sandwich': 573, 'bun': 72, 'lunchmeat': 3, 'grape': 16, 'box': 299, 'dinner': 110, 'tray': 225, 'cheese': 231, 'include': 142, 'variety': 87, 'salami': 4, 'motorcycle': 978, 'along': 357, 'number': 184, 'motorbike': 36, 'kitchen': 1109, 'scene': 132, 'focus': 21, 'refrigerator': 299, 'fridge': 82, 'contain': 134, 'freezer': 28, 'stainless': 50, 'new': 55, 'winter': 26, 'sky': 565, 'cloudy': 154, 'day': 376, 'center': 69, 'fresh': 79, 'tulip': 18, 'vase': 424, 'flower': 518, 'colorful': 251, 'sand': 144, 'lifeguard': 4, 'shoreline': 22, 'dress': 328, 'ride': 373, 'horse': 941, 'pink': 258, 'saddle': 10, 'loft': 7, 'dresser': 36, 'underneath': 113, 'wooden': 756, 'bunk': 9, 'narrow': 58, 'shelf': 184, 'couple': 837, 'bench': 843, 'wild': 63, 'dock': 186, 'waterway': 20, 'heron': 3, 'wharf': 1, 'keep': 31, 'indoors': 18, 'star': 99, 'enclose': 34, 'din': 124, 'full': 375, 'shower': 208, 'bathroom': 1241, 'stall': 70, 'wall': 726, 'see': 179, 'perch': 134, 'twig': 4, 'bare': 20, 'limb': 12, 'eight': 17, 'branch': 134, 'overcast': 14, 'mother': 65, 'parkland': 4, 'embrace': 12, 'romantic': 1, 'smooch': 1, 'pedestrian': 63, 'kiss': 24, 'hug': 31, 'check': 57, 'pas': 22, 'hair': 164, 'dye': 3, 'purple': 135, 'spot': 35, 'shade': 69, 'dark': 164, 'necktie': 11, 'decorate': 166, 'folk': 4, 'load': 100, 'unload': 13, 'passenger': 314, 'space': 71, 'low': 66, 'ceiling': 69, 'sunlight': 20, 'angle': 13, 'style': 79, 'slant': 5, 'skylight': 6, 'mouse': 167, 'type': 169, 'else': 6, 'operate': 10, 'arm': 85, 'one': 759, 'work': 165, 'slyly': 1, 'camera': 298, 'blanket': 153, 'cellphone': 178, 'toddler': 40, 'frontal': 2, 'ostrich': 8, 'bend': 75, 'neck': 86, 'stretch': 25, 'zoo': 165, 'also': 27, 'various': 229, 'broccoli': 315, 'slice': 339, 'dish': 173, 'start': 18, 'straight': 15, 'ahead': 21, 'grey': 143, 'pose': 342, 'fashionable': 2, 'adult': 215, 'female': 113, 'mound': 39, 'chicago': 2, 'cub': 12, 'plane': 437, 'jet': 184, 'airplane': 484, 'clear': 131, 'jumbo': 22, 'cloudless': 7, 'graffiti': 118, 'write': 65, 'paint': 243, 'door': 283, 'care': 10, 'mar': 1, 'pause': 7, 'colorfully': 4, 'entrance': 27, 'pea': 10, 'salad': 115, 'corn': 19, 'gravy': 11, 'pie': 47, 'bread': 155, 'steam': 36, 'roll': 101, 'husky': 6, 'seat': 238, 'interest': 13, 'metal': 193, 'bush': 109, 'garden': 66, 'inside': 450, 'walkway': 43, 'gray': 168, 'mesh': 6, 'peaceful': 3, 'plant': 177, 'bakery': 26, 'customer': 18, 'shop': 128, 'treat': 15, 'suitcase': 228, 'hotel': 102, 'king': 12, 'size': 68, 'furniture': 132, 'distance': 90, 'together': 464, 'plain': 49, 'pitcher': 126, 'coach': 19, 'tell': 10, 'uniform': 112, 'engage': 12, 'diamond': 12, 'alone': 75, 'chest': 15, 'gloved': 8, 'beverage': 52, 'seven': 12, 'drink': 374, 'party': 42, 'friend': 55, 'chat': 6, 'square': 81, 'hang': 379, 'organize': 21, 'platter': 26, 'vegetable': 417, 'paste': 11, 'prepare': 272, 'consumption': 3, 'sauce': 85, 'tomato': 105, 'fire': 536, 'hydrant': 472, 'place': 202, 'wooded': 57, 'break': 53, 'water': 1451, 'pot': 171, 'carnation': 5, 'bald': 14, 'umbrella': 904, 'protect': 7, 'rain': 142, 'leave': 94, 'rainy': 40, 'wait': 281, 'aerial': 22, 'parallel': 6, 'tabby': 25, 'orange': 543, 'lie': 221, 'strip': 104, 'brightly': 29, 'color': 252, 'downward': 6, 'domed': 3, 'chandelier': 16, 'atrium': 2, 'upside': 33, 'controller': 181, 'video': 226, 'equipment': 66, 'remote': 265, 'enjoyingplaying': 1, 'toilet': 939, 'paper': 269, 'directly': 13, 'roof': 50, 'double': 250, 'decker': 179, 'tour': 34, 'vivid': 2, 'ad': 12, 'enter': 25, 'downtown': 14, 'extend': 28, 'advertise': 22, 'pan': 196, 'make': 350, 'glaze': 24, 'cookie': 15, 'sheet': 80, 'machine': 53, 'suit': 312, 'maroon': 8, 'emblem': 3, 'outdoor': 163, 'event': 54, 'design': 57, 'sink': 728, 'mirror': 478, 'consist': 22, 'fixture': 14, 'parker': 1, 'either': 23, 'haired': 37, 'office': 119, 'atop': 74, 'get': 321, 'fur': 8, 'wire': 103, 'shoe': 128, 'sandal': 6, 'slide': 40, 'footwear': 1, 'basket': 153, 'outdoors': 53, 'curl': 47, 'besides': 10, 'commemorative': 1, 'archway': 13, 'figure': 23, 'pretty': 76, 'way': 156, 'cut': 392, 'utensil': 40, 'messily': 2, 'round': 81, 'incline': 5, 'snow': 686, 'railroad': 63, 'come': 173, 'enclosure': 190, 'historical': 6, 'huge': 68, 'meal': 135, 'restaurant': 187, 'marine': 1, 'boat': 815, 'float': 88, 'harbor': 66, 'seagull': 53, 'ship': 75, 'marina': 22, 'patio': 33, 'champagne': 10, 'wit': 18, 'burly': 1, 'grizzly': 8, 'nose': 45, 'closeup': 67, 'wildebeest': 9, 'moose': 2, 'graze': 370, 'zebra': 830, 'ox': 8, 'safari': 5, 'sunlit': 3, 'mount': 92, 'block': 57, 'lamppost': 6, 'attach': 101, 'protrude': 4, 'high': 194, 'microwave': 104, 'motion': 26, 'point': 107, 'pegboard': 1, 'tub': 147, 'cabinet': 202, 'thing': 77, 'whirlpool': 1, 'tile': 209, 'necessity': 3, 'concrete': 67, 'skill': 8, 'daytime': 13, 'warm': 19, 'public': 150, 'crack': 7, 'crust': 35, 'bake': 55, 'berry': 19, 'strawberry': 18, 'file': 17, 'crusty': 2, 'good': 32, 'cook': 176, 'fruit': 329, 'flavor': 10, 'muffin': 33, 'sort': 46, 'flaky': 1, 'mastery': 1, 'Nintendo': 70, 'Wii': 258, 'formation': 19, 'unison': 2, 'row': 185, 'navy': 12, 'sequence': 2, 'fighter': 37, 'neatly': 33, 'fold': 38, 'pile': 192, 'store': 207, 'match': 84, 'herd': 319, 'lounge': 44, 'bull': 28, 'pasture': 73, 'cow': 615, 'meadow': 27, 'longhorned': 1, 'bovine': 1, 'cattle': 81, 'stick': 156, 'kind': 76, 'jar': 26, 'pottery': 14, 'fall': 92, 'arrangement': 33, 'raffia': 1, 'bow': 52, 'anime': 4, 'theme': 22, 'japan': 5, 'sailor': 4, 'moon': 23, 'character': 12, 'transportation': 15, 'directional': 4, 'military': 47, 'attire': 14, 'formal': 24, 'stable': 13, 'fancy': 56, 'outfit': 52, 'frame': 63, 'reflection': 73, 'gold': 47, 'curious': 9, 'laugh': 29, 'gather': 144, 'socialize': 6, 'sunny': 127, 'among': 68, 'elderly': 43, 'pizza': 1115, 'blond': 15, 'others': 97, 'lean': 163, 'hitter': 11, 'whole': 26, 'wheat': 8, 'meat': 184, 'cheddar': 2, 'alfalfa': 2, 'sprout': 7, 'leafy': 23, 'lettuce': 41, 'soda': 34, 'kite': 801, 'parasailed': 4, 'coast': 5, 'windy': 11, 'sail': 85, 'clean': 151, 'checker': 32, 'sweater': 42, 'bottom': 49, 'bunkoed': 1, 'share': 28, 'lamp': 117, 'book': 289, 'net': 54, 'library': 26, 'love': 13, 'bookshelf': 39, 'couch': 482, 'plenty': 8, 'read': 116, 'wide': 43, 'professional': 56, 'progress': 14, 'runner': 6, 'encase': 4, 'ramp': 164, 'pole': 344, 'giant': 61, 'move': 173, 'path': 94, 'accident': 6, 'tube': 29, 'sculpture': 51, 'staircase': 19, 'scape': 6, 'river': 244, 'metropolitan': 10, 'elaborate': 17, 'arabic': 3, 'highway': 42, 'major': 8, 'industrial': 28, 'installation': 3, 'asphalt': 14, 'pave': 17, 'construction': 25, 'saudi': 1, 'arabia': 1, 'oven': 272, 'appliance': 89, 'miscellaneous': 2, 'item': 245, 'mini': 36, 'toaster': 28, 'cup': 308, 'elephant': 950, 'accessory': 17, 'lid': 43, 'jacket': 153, 'fedora': 9, 'multicolored': 15, 'suite': 14, 'vas': 71, 'sofa': 82, 'sectional': 7, 'hike': 12, 'service': 10, 'master': 4, 'eve': 2, 'night': 217, 'silhouette': 15, 'family': 80, 'grow': 45, 'smart': 39, 'smartphone': 5, 'electronics': 38, 'sandy': 94, 'wind': 38, 'amongst': 20, 'beard': 47, 'cheesy': 18, 'olive': 29, 'onion': 105, 'herb': 8, 'forlornly': 1, 'twin': 20, 'hull': 2, 'rock': 217, 'puddle': 8, 'boulder': 6, 'examine': 8, 'syrian': 1, 'lash': 1, 'stadium': 18, 'swing': 388, 'exercise': 5, 'action': 36, 'short': 89, 'underbrush': 3, 'shape': 127, 'semi': 15, 'circle': 25, 'cushion': 26, 'mat': 20, 'balloon': 29, 'curb': 82, 'ballaton': 1, 'steeple': 25, 'roman': 22, 'numeral': 22, 'stone': 149, 'meter': 152, 'connect': 26, 'expire': 6, 'bury': 8, 'deep': 27, 'skate': 87, 'skateboard': 976, 'bulldog': 9, 'leather': 64, 'motorize': 5, 'tire': 20, 'oval': 12, 'towel': 117, 'vanity': 45, 'scrunch': 2, 'panel': 17, 'glow': 12, 'roadway': 39, 'vintage': 63, 'upright': 12, 'retrofit': 1, 'unique': 16, 'mop': 28, 'subway': 62, 'floret': 10, 'stalk': 15, 'leaf': 115, 'chop': 35, 'shoot': 125, 'uncooked': 11, 'glove': 71, 'mitt': 29, 'blazer': 6, 'snap': 2, 'Elfie': 39, 'self': 13, 'portrait': 13, 'toss': 21, 'pork': 8, 'rice': 66, 'veggie': 38, 'potato': 47, 'medical': 3, 'mask': 17, 'crosswalk': 29, 'fork': 112, 'whip': 11, 'cheesecake': 6, 'whipcream': 1, 'ski': 804, 'surface': 104, 'skier': 458, 'country': 109, 'island': 42, 'nearby': 91, 'body': 263, 'approach': 44, 'land': 107, 'purchase': 4, 'half': 176, 'device': 50, 'pillow': 139, 'floral': 28, 'decorative': 41, 'ledge': 54, 'mushroom': 50, 'strainer': 3, 'dirty': 84, 'commercial': 59, 'provide': 16, 'everything': 8, 'need': 17, 'glossy': 1, 'antique': 44, 'urn': 3, 'bunt': 6, 'possible': 2, 'step': 60, 'furry': 14, 'rocky': 65, 'weedy': 1, 'dead': 28, 'climb': 37, 'perform': 102, 'barge': 4, 'cargo': 21, 'ocean': 449, 'beef': 22, 'spinach': 15, 'feature': 75, 'bean': 44, 'palm': 37, 'roam': 18, 'preserve': 4, 'cruise': 20, 'tv': 202, 'casually': 1, 'afternoon': 8, 'overhead': 44, 'pier': 33, 'lake': 162, 'early': 4, 'even': 25, 'flock': 78, 'bite': 90, 'pastry': 90, 'coffee': 244, 'rod': 9, 'kickstand': 1, 'goal': 7, 'slow': 4, 'toward': 62, 'womanish': 1, 'balance': 45, 'house': 259, 'well': 78, 'almost': 17, 'except': 3, 'decoration': 47, 'flat': 60, 'den': 17, 'residential': 38, 'motif': 3, 'mobile': 24, 'beneath': 35, 'personal': 29, 'windowsill': 16, 'interior': 22, 'pond': 46, 'natural': 13, 'log': 49, 'race': 101, 'barrier': 17, 'obstacle': 14, 'rider': 109, 'trey': 7, 'banana': 508, 'bin': 22, 'produce': 35, 'pack': 74, 'animate': 3, 'brush': 154, 'teeth': 81, 'animation': 1, 'simulate': 1, 'CGI': 2, 'sime': 2, 'hallway': 24, 'bell': 18, 'pepper': 34, 'knife': 180, 'golden': 30, 'ornate': 38, 'showcased': 3, 'sale': 57, 'fashion': 60, 'district': 14, 'word': 28, 'peter': 2, 'clearly': 7, 'visible': 24, 'advance': 2, 'skinny': 9, 'wipe': 14, 'bad': 6, 'leg': 90, 'tablet': 10, 'parent': 19, 'jetliner': 36, 'tarmac': 85, 'upper': 6, 'description': 3, 'male': 201, 'trench': 3, 'coat': 73, 'cement': 57, 'iron': 22, 'relax': 39, 'petal': 4, 'roast': 26, 'something': 186, 'fry': 175, 'grill': 55, 'panini': 5, 'karate': 1, 'lush': 117, 'darken': 9, 'newspaper': 42, 'end': 79, 'article': 2, 'clip': 11, 'wallpaper': 13, 'modern': 90, 'mouth': 189, 'carry': 260, 'console': 11, 'duck': 59, 'flow': 13, 'submerge': 6, 'lone': 66, 'swim': 78, 'marsh': 7, 'host': 3, 'loaf': 12, 'ingredient': 17, 'sticker': 41, 'fast': 26, 'depict': 19, 'skiis': 15, 'tissue': 9, 'napkin': 37, 'stare': 28, 'aby': 1, 'unmake': 27, 'turn': 116, 'quilt': 15, 'slightly': 14, 'rumple': 4, 'mess': 13, 'remain': 8, 'intact': 1, 'coverlet': 1, 'simplistic': 1, 'stave': 269, 'dice': 4, 'saucepan': 2, 'celery': 7, 'hod': 2, 'pig': 8, 'snuggle': 19, 'apron': 27, 'farm': 41, 'bank': 40, 'hotdog': 138, 'ketchup': 30, 'mustard': 26, 'relish': 4, 'windowed': 2, 'clocktower': 19, 'bookcase': 14, 'comforter': 26, 'lead': 57, 'bath': 39, 'indefinite': 1, 'propeller': 25, 'world': 12, 'war': 14, 'ii': 3, 'era': 3, 'bomber': 1, 'transit': 48, 'driver': 34, 'officer': 51, 'police': 59, 'pita': 7, 'flatbread': 2, 'scramble': 5, 'egg': 83, 'omelet': 7, 'airport': 256, 'runway': 186, 'worker': 41, 'cloud': 46, 'gear': 78, 'destination': 5, 'still': 37, 'us': 25, 'gentleman': 29, 'photographer': 18, 'chicken': 88, 'wrapper': 20, 'onlooker': 24, 'wed': 47, 'banquet': 1, 'groom': 19, 'bride': 16, 'newly': 6, 'marry': 10, 'control': 77, 'rollerblade': 8, 'rope': 39, 'tow': 34, 'lick': 25, 'dip': 13, 'investigate': 4, 'content': 23, 'paw': 47, 'stair': 54, 'stairway': 10, 'granite': 17, 'stovetop': 6, 'appropriate': 4, 'contemporary': 7, 'countertop': 21, 'sport': 41, 'department': 3, 'pre': 1, 'toy': 204, 'aisle': 5, 'burger': 25, 'order': 23, 'hamburger': 18, 'french': 70, 'fogy': 1, 'blur': 11, 'blurry': 43, 'streak': 4, 'furnish': 29, 'southwestern': 1, 'futon': 6, 'sheep': 462, 'barn': 45, 'stay': 9, 'pineapple': 12, 'smoothy': 3, 'plastic': 102, 'post': 138, 'instal': 4, 'guard': 9, 'filter': 6, 'sausage': 37, 'condiment': 22, 'indoor': 29, 'snowboard': 337, 'unusual': 12, 'tram': 11, 'oil': 5, 'change': 8, 'motorcyclist': 40, 'cyclist': 13, 'dozen': 18, 'fairly': 4, 'curmudgeonly': 1, 'grimace': 4, 'stern': 2, 'scowl': 1, 'partially': 51, 'trim': 15, 'spoon': 65, 'owner': 22, 'ear': 39, 'border': 8, 'wash': 24, 'muddy': 17, 'everyone': 9, 'downhill': 25, 'skivers': 11, 'sing': 17, 'prairie': 6, 'grassland': 14, 'savanna': 2, 'scrubby': 1, 'instruct': 2, 'electric': 30, 'within': 15, 'neat': 20, 'bouncer': 1, 'bundt': 4, 'pound': 4, 'apartment': 41, 'sone': 1, 'EPS': 1, 'heavily': 7, 'woolen': 2, 'scissor': 180, 'serious': 8, 'intently': 14, 'caption': 15, 'seal': 4, 'hanggliders': 1, 'parachute': 28, 'foggy': 15, 'weather': 21, 'five': 87, 'garage': 60, 'begin': 11, 'cord': 9, 'aircraft': 18, 'accent': 12, 'bathtub': 80, 'remodel': 10, 'hardwood': 16, 'cameraman': 2, 'security': 5, 'prize': 3, 'brand': 7, 'deliver': 8, 'stark': 1, 'lollipop': 1, 'sucker': 1, 'peep': 6, 'nice': 94, 'fish': 82, 'eye': 84, 'cart': 138, 'wagon': 28, 'sell': 48, 'ware': 3, 'pant': 34, 'artificial': 10, 'habitat': 24, 'Zeeba': 1, 'trot': 3, 'un': 3, 'ripe': 39, 'bundle': 14, 'plantain': 8, 'unpeeled': 3, 'disc': 46, 'sense': 1, 'flip': 51, 'somersault': 2, 'surf': 200, 'sea': 41, 'motorboat': 2, 'yacht': 14, 'salmon': 2, 'stream': 34, 'wet': 88, 'triangular': 2, 'pathway': 11, 'infant': 13, 'blender': 80, 'gingersnap': 1, 'mixture': 9, 'clutter': 67, 'electronic': 42, 'cooky': 17, 'goat': 42, 'hook': 20, 'tongue': 49, 'draw': 56, 'carriage': 87, 'farmer': 32, 'bail': 2, 'marinara': 3, 'carbs': 1, 'smother': 8, 'fake': 24, 'mill': 10, 'story': 20, 'candy': 14, 'silly': 11, 'expression': 7, 'factory': 13, 'smoke': 65, 'shadow': 25, 'chimney': 3, 'kayak': 21, 'kayaker': 1, 'rapid': 14, 'paddle': 70, 'snack': 27, 'return': 34, 'volley': 7, 'tournament': 6, 'nestle': 12, 'gravel': 33, 'often': 3, 'affectionately': 1, 'seatbelt': 7, 'teddybear': 7, 'cuddle': 14, 'situate': 8, 'booth': 20, 'record': 12, 'cloth': 37, 'Lufthansa': 2, 'recognizable': 2, 'airline': 13, 'year': 11, 'sunset': 46, 'dawn': 4, 'dusk': 18, 'plush': 9, 'nightstand': 11, 'forget': 1, 'bedspread': 17, 'freeway': 12, 'late': 8, 'headlight': 7, 'urban': 53, 'chocolate': 105, 'insert': 1, 'baker': 4, 'dough': 6, 'keyboard': 269, 'contrast': 5, 'desktop': 87, 'mac': 6, 'macintosh': 2, 'wireless': 9, 'with': 11, 'handle': 36, 'cock': 5, 'circular': 18, 'snowsuit': 3, 'dial': 6, 'business': 50, 'jungle': 17, 'guide': 18, 'pool': 64, 'massive': 11, 'twenty': 7, 'rooftop': 6, 'basil': 4, 'raw': 10, 'state': 16, 'gourmet': 7, 'pesto': 1, 'mozzarella': 3, 'hut': 6, 'yet': 2, 'hedge': 2, 'feel': 7, 'pavement': 29, 'graphic': 2, 'butter': 27, 'bridle': 4, 'impress': 1, 'grace': 1, 'dorm': 3, 'poster': 45, 'peel': 29, 'thermometer': 4, 'measure': 12, 'instrument': 6, 'chip': 32, 'temperature': 5, 'gauge': 8, 'neglect': 4, 'kneel': 45, 'base': 43, 'reality': 2, 'fantasy': 2, 'meet': 18, 'unaware': 1, 'YouTube': 3, 'kangaroo': 3, 'ally': 3, 'neighborhood': 17, 'alley': 23, 'barb': 18, 'oar': 4, 'ripple': 5, 'calm': 18, 'billboard': 15, 'town': 84, 'york': 19, 'stunt': 29, 'touch': 72, 'wing': 39, 'zone': 6, 'incredible': 4, 'fleet': 9, 'cone': 38, 'kettle': 16, 'whatever': 4, 'stir': 33, 'balcony': 19, 'elegant': 11, 'delta': 3, 'airliner': 19, 'african': 11, 'american': 30, 'message': 15, 'text': 14, 'alter': 14, 'mango': 7, 'apple': 199, 'bridge': 214, 'vary': 10, 'moustache': 3, 'garment': 3, 'adorn': 13, 'scarf': 12, 'platform': 107, 'strong': 5, 'knee': 14, 'pacifier': 2, 'tuck': 16, 'crib': 11, 'suck': 3, 'asleep': 36, 'sprinkle': 29, 'trunk': 96, 'essential': 1, 'aluminum': 11, 'foil': 17, 'meatloaf': 1, 'tin': 14, 'hard': 40, 'reach': 114, 'poise': 8, 'can': 24, 'delicate': 2, 'bar': 96, 'class': 8, 'performer': 11, 'kimono': 2, 'parasol': 13, 'outfield': 8, 'preparation': 6, 'please': 3, 'flush': 12, 'dugout': 11, 'safe': 6, 'information': 7, 'assort': 54, 'tear': 8, 'destroy': 3, 'seem': 22, 'apart': 6, 'rundown': 6, 'haul': 15, 'promote': 1, 'utility': 9, 'arrow': 11, 'supply': 34, 'nail': 6, 'pin': 19, 'thumb': 16, 'tack': 5, 'pale': 5, 'nicely': 15, 'unmown': 1, 'spacious': 6, 'personnel': 5, 'example': 4, 'missile': 2, 'bomb': 2, 'weapon': 1, 'shell': 7, 'observe': 18, 'system': 25, 'nature': 6, 'curve': 24, 'streamline': 1, 'tabletop': 9, 'bouquet': 18, 'daffodil': 4, 'bathe': 1, 'shallow': 30, 'princess': 4, 'aurora': 1, 'cellular': 16, 'engine': 89, 'proudly': 4, 'ridge': 2, 'festival': 20, 'monument': 6, 'seventy': 1, 'lens': 9, 'hurdle': 6, 'practice': 47, 'golf': 16, 'celebration': 5, 'toast': 42, 'lantern': 4, 'wicker': 19, 'cot': 4, 'straw': 14, 'oriental': 16, 'tatami': 1, 'sparse': 6, 'conversation': 9, 'competition': 27, 'horseback': 40, 'vast': 8, 'gallop': 9, 'equestrian': 9, 'trail': 70, 'pipe': 36, 'achieve': 1, 'tricky': 4, 'manuever': 5, 'corridor': 4, 'facade': 3, 'Thier': 1, 'torch': 1, 'bug': 6, 'dragon': 8, 'dragonfly': 1, 'insect': 3, 'porch': 14, 'dinosaur': 7, 'faucet': 25, 'toothbrush': 134, 'lizard': 1, 'dinousure': 1, 'Godzilla': 1, 'holder': 25, 'mainly': 3, 'alongside': 39, 'conveyance': 1, 'rear': 28, 'second': 9, 'periphery': 1, 'section': 22, 'father': 19, 'son': 17, 'help': 39, 'mostly': 21, 'otherwise': 3, 'liquid': 27, 'nothing': 8, 'crest': 18, 'airborne': 19, 'peak': 7, 'tiny': 32, 'fun': 28, 'barren': 14, 'foal': 3, 'yorkie': 2, 'headphone': 36, 'nuzzle': 8, 'enormous': 5, 'roaster': 4, 'barbecue': 5, 'hunk': 1, 'broom': 2, 'visit': 8, 'bib': 8, 'inspect': 6, 'grip': 4, 'scroll': 2, 'tap': 11, 'photoshopped': 3, 'much': 12, 'hello': 4, 'kitty': 16, 'miss': 25, 'rusty': 24, 'pickup': 39, 'weed': 9, 'great': 17, 'flag': 93, 'mason': 2, 'juice': 40, 'historic': 8, 'van': 87, 'finish': 21, 'hippy': 1, 'vegan': 1, 'disco': 1, 'glitter': 3, 'trashcan': 8, 'highly': 2, 'ordinary': 3, 'fling': 3, 'canopy': 18, 'draft': 2, 'plow': 16, 'draught': 1, 'furrow': 1, 'steer': 19, 'stool': 23, 'creative': 3, 'reed': 3, 'model': 47, 'page': 15, 'lap': 45, 'kiddie': 1, 'pepperoni': 40, 'extra': 15, 'element': 4, 'pretend': 7, 'utilize': 2, 'jean': 33, 'wetsuit': 60, 'shrub': 20, 'wander': 15, 'laze': 1, 'sailboat': 38, 'para': 15, 'kiteboarder': 1, 'blustery': 1, 'describe': 6, 'setup': 10, 'plan': 9, 'presentation': 8, 'stripe': 18, 'the': 6, 'wake': 11, 'dimly': 13, 'chill': 2, 'browse': 5, 'rub': 19, 'appreciation': 1, 'kiteboarding': 7, 'halfway': 3, 'partly': 11, 'badminton': 2, 'severely': 1, 'edit': 4, 'metallic': 11, 'drawer': 28, 'penguin': 8, 'tusk': 22, 'sad': 10, 'africa': 2, 'handicap': 8, 'bay': 20, 'headset': 3, 'immerse': 2, 'straighten': 2, 'helicopter': 14, 'banner': 11, 'heliport': 1, 'shady': 7, 'movie': 13, 'leopard': 5, 'arch': 14, 'cheetah': 1, 'softball': 20, 'rein': 3, 'tend': 5, 'pet': 57, 'acknowledge': 1, 'life': 21, 'radio': 12, 'walkie': 3, 'talkie': 3, 'binder': 2, 'journal': 1, 'cb': 1, 'victorian': 6, 'carve': 17, 'odd': 21, 'separate': 24, 'mountainside': 7, 'metermaid': 1, 'taxi': 23, 'riksha': 1, 'scooter': 52, 'lane': 21, 'english': 15, 'direct': 9, 'north': 2, 'oxford': 2, 'Killington': 1, 'hanger': 6, 'hangar': 6, 'overpass': 12, 'exit': 20, 'california': 3, 'indicate': 21, 'famous': 4, 'hollywood': 4, 'blvd': 2, 'underpass': 4, 'mustache': 11, 'pensive': 2, 'string': 38, 'league': 18, 'spectator': 30, 'shear': 5, 'attract': 1, 'attention': 6, 'citizen': 1, 'cop': 20, 'gesture': 14, 'policeman': 25, 'cycle': 43, 'microphone': 23, 'karaoke': 1, 'homemade': 25, 'casserole': 8, 'daily': 2, 'burner': 10, 'watery': 5, 'bloom': 8, 'mug': 47, 'thin': 20, 'individual': 28, 'mexican': 4, 'fog': 5, 'bale': 3, 'hear': 11, 'eggplant': 4, 'market': 137, 'kilo': 2, 'prop': 22, 'el': 1, 'bushel': 8, 'squash': 4, 'trash': 54, 'dumpster': 3, 'barrel': 21, 'adorable': 24, 'lawn': 40, 'summer': 4, 'tank': 30, 'toilette': 10, 'commode': 12, 'dispenser': 19, 'rough': 7, 'multi': 41, 'amid': 10, 'cap': 47, 'fat': 7, 'dude': 5, 'follow': 28, 'doorway': 51, 'Kate': 1, 'steamy': 1, 'momma': 3, 'lift': 70, 'conference': 6, 'wrap': 46, 'crumple': 3, 'depiction': 1, 'mud': 17, 'extremely': 6, 'nasty': 5, 'cable': 11, 'sic': 1, 'per': 4, 'age': 17, 'sideways': 15, 'member': 19, 'ray': 5, 'team': 81, 'scoreboard': 2, 'comfortably': 4, 'playground': 4, 'buoy': 5, 'collect': 6, 'bikers': 21, 'sorry': 2, 'speak': 19, 'lectern': 1, 'podium': 12, 'listen': 17, 'speech': 5, 'heavy': 16, 'bamboo': 12, 'ample': 2, 'breast': 11, 'swiftly': 2, 'rural': 37, 'pour': 23, 'poor': 4, 'wade': 4, 'spread': 37, 'ludicrous': 1, 'notice': 1, 'struggle': 4, 'transport': 16, 'tarp': 14, 'brocclie': 1, 'present': 27, 'amount': 14, 'alcove': 1, 'futuristic': 2, 'savannah': 15, 'wad': 14, 'attractive': 6, 'shock': 4, 'sydney': 2, 'australia': 5, 'opera': 1, 'spanish': 1, 'terrain': 13, 'purse': 49, 'handbag': 10, 'spire': 8, 'backyard': 16, 'railway': 22, 'delivery': 19, 'dj': 5, 'spin': 11, 'jockey': 14, 'earphone': 3, 'third': 11, 'auburn': 1, 'unknown': 4, 'location': 8, 'milk': 60, 'suckle': 3, 'nurse': 10, 'teat': 1, 'react': 3, 'exchange': 3, 'trophy': 2, 'surprise': 8, 'shake': 19, 'oncoming': 10, 'safety': 13, 'execute': 4, 'complete': 18, 'christmas': 71, 'garland': 3, 'greenery': 10, 'art': 29, 'hide': 18, 'cast': 14, 'lipstick': 1, 'ben': 25, 'london': 21, 'castle': 14, 'parliament': 2, 'thames': 2, 'snoot': 1, 'feeder': 45, 'cotton': 4, 'chew': 24, 'demonstrate': 1, 'tackle': 1, 'articulate': 3, 'dull': 1, 'parmesan': 4, 'proximity': 2, 'choppy': 7, 'would': 4, 'messy': 41, 'dent': 1, 'tea': 39, 'breakfast': 63, 'vacation': 3, 'cabin': 17, 'seahorse': 2, 'styrofoam': 11, 'foam': 10, 'hog': 3, 'lunch': 30, 'pickle': 39, 'sparkle': 4, 'price': 12, 'list': 4, 'dessert': 51, 'renaissance': 2, 'maybe': 4, 'spear': 2, 'iguana': 1, 'egret': 4, 'goose': 13, 'elevate': 16, 'forehand': 3, 'chemical': 1, 'dual': 11, 'davis': 1, 'junction': 2, 'urinal': 90, 'turkey': 34, 'murder': 1, 'camouflage': 11, 'cage': 59, 'gastro': 2, 'turf': 2, 'polka': 15, 'dot': 25, 'kicker': 2, 'score': 4, 'disorganize': 2, 'passport': 2, 'chapstick': 1, 'money': 3, 'canoe': 22, 'bicyclist': 23, 'rower': 10, 'miniature': 32, 'doll': 37, 'probably': 7, 'may': 10, 'holiday': 14, 'th': 20, 'oppose': 8, 'teammate': 4, 'indicator': 2, 'simple': 25, 'ceramic': 21, 'human': 9, 'exotic': 7, 'indian': 3, 'trample': 1, 'rectangular': 7, 'streetlight': 14, 'really': 11, 'quiet': 21, 'cartridge': 1, 'portable': 6, 'cosmetic': 2, 'makeup': 4, 'iPod': 13, 'lunge': 6, 'scatter': 18, 'bud': 4, 'captive': 4, 'sleepily': 1, 'paperwork': 3, 'warn': 27, 'curbside': 7, 'speaker': 31, 'calendar': 5, 'beer': 110, 'artifact': 2, 'perhaps': 2, 'could': 8, 'archaeological': 1, 'dig': 15, 'pepsi': 5, 'exterior': 7, 'convenience': 3, 'vend': 4, 'lo': 1, 'fi': 1, 'add': 10, 'spray': 30, 'restroom': 71, 'garbage': 19, 'hose': 15, 'lever': 1, 'chute': 3, 'tidy': 13, 'assortment': 55, 'fireplace': 93, 'bland': 1, 'beige': 32, 'khaki': 2, 'pebbled': 2, 'mantel': 4, 'cozy': 6, 'memorabilia': 4, 'ump': 1, 'dishwasher': 26, 'fare': 2, 'flap': 2, 'duct': 1, 'tape': 12, 'pit': 7, 'wintery': 1, 'sled': 22, 'lemon': 36, 'mix': 38, 'skyline': 13, 'sundown': 2, 'nutty': 2, 'caramel': 1, 'upon': 15, 'scribble': 4, 'drizzle': 8, 'garnish': 10, 'bluish': 1, 'neon': 23, 'stoplight': 30, 'parade': 31, 'vest': 32, 'rodeo': 15, 'upstairs': 2, 'sew': 7, 'plug': 9, 'charger': 2, 'stereo': 12, 'german': 13, 'shepherd': 3, 'retrieve': 1, 'skin': 9, 'pigeon': 36, 'pidgeons': 1, 'granny': 2, 'smith': 3, 'shiny': 19, 'grocery': 31, 'homeless': 3, 'skyscraper': 16, 'finger': 37, 'raspberry': 1, 'fan': 54, 'crystal': 9, 'overlook': 58, 'overview': 3, 'splash': 7, 'bushy': 9, 'calf': 30, 'swimmer': 8, 'doggy': 2, 'tricolor': 2, 'terrier': 2, 'collar': 26, 'alert': 5, 'pay': 12, 'scruffy': 1, 'nook': 7, 'since': 1, 'shin': 22, 'gentle': 2, 'seater': 2, 'rom': 1, 'label': 14, 'tangerine': 3, 'update': 3, 'galley': 3, 'museum': 31, 'arizona': 3, 'raise': 35, 'subject': 1, 'quite': 12, 'blind': 14, 'shit': 1, 'sweat': 3, 'starch': 2, 'special': 11, 'chay': 1, 'chef': 26, 'breadbowl': 1, 'chow': 1, 'quiche': 6, 'abdomen': 1, 'raft': 16, 'boogie': 12, 'thick': 16, 'pierce': 2, 'lose': 10, 'terrible': 1, 'horrible': 1, 'lip': 10, 'ring': 42, 'meander': 2, 'baseman': 4, 'nine': 6, 'south': 2, 'month': 2, 'tiered': 10, 'against': 1, 'peer': 7, 'marble': 31, 'happy': 44, 'nap': 30, 'seriously': 2, 'grade': 1, 'hillside': 52, 'profile': 4, 'collection': 29, 'tourbus': 1, 'route': 13, 'source': 4, 'traditional': 10, 'western': 4, 'plunger': 2, 'sight': 8, 'normal': 3, 'canal': 12, 'japanese': 9, 'placeman': 4, 'spatula': 20, 'inf': 1, 'ancient': 4, 'penny': 4, 'Yong': 1, 'kilt': 1, 'uniquely': 1, 'costume': 46, 'pattern': 31, 'dense': 2, 'te': 1, 'reflect': 31, 'scenery': 4, 'scenic': 12, 'ha': 10, 'handkerchief': 1, 'yankee': 1, 'charge': 5, 'battery': 4, 'sushi': 3, 'ordure': 1, 'cola': 5, 'BBQ': 5, 'faux': 2, 'favor': 1, 'pane': 3, 'china': 12, 'jug': 4, 'sill': 29, 'cityscape': 7, 'breastfeed': 1, 'turquoise': 7, 'president': 7, 'burn': 17, 'coupe': 2, 'blow': 39, 'fit': 8, 'outstretched': 3, 'barnyard': 1, 'swamp': 3, 'select': 4, 'cater': 1, 'buffet': 20, 'stow': 1, 'amtrak': 10, 'artwork': 8, 'multitude': 2, 'replica': 3, 'bone': 4, 'electrical': 8, 'cafe': 11, 'neath': 5, 'wineglass': 4, 'windsurf': 17, 'glider': 9, 'basin': 14, 'widow': 4, 'saucer': 9, 'martin': 4, 'luther': 4, 'lincoln': 4, 'abraham': 2, 'jr': 1, 'memorial': 4, 'amtrack': 2, 'charcoal': 4, 'barbeque': 5, 'recently': 3, 'rig': 2, 'hood': 34, 'dive': 12, 'windshield': 14, 'checkerboard': 4, 'cab': 15, 'clerk': 1, 'cupcake': 41, 'plateau': 3, 'shirtless': 37, 'pontoon': 3, 'sadly': 1, 'firetruck': 11, 'helmeted': 6, 'pine': 21, 'winger': 1, 'evergreen': 2, 'washer': 12, 'standalone': 1, 'combo': 2, 'av': 1, 'knock': 4, 'champion': 1, 'swat': 4, 'hop': 3, 'win': 4, 'rocket': 3, 'review': 1, 'limit': 5, 'hour': 12, 'link': 21, 'baggie': 6, 'skull': 4, 'crossbones': 1, 'pirate': 3, 'huddle': 17, 'livestock': 2, 'craft': 15, 'varnish': 2, 'amazon': 2, 'coke': 9, 'liter': 1, 'coca': 2, 'liquor': 9, 'crew': 11, 'mechanic': 7, 'tune': 2, 'pc': 8, 'oscilloscope': 1, 'workshop': 4, 'symbol': 9, 'plier': 6, 'yarn': 4, 'needle': 3, 'project': 13, 'anchovy': 3, 'hover': 9, 'midair': 6, 'army': 22, 'refurbish': 1, 'modernize': 2, 'blossom': 6, 'spring': 9, 'stewart': 1, 'mad': 3, 'consume': 6, 'rome': 1, 'sesame': 11, 'seed': 20, 'skillet': 12, 'wok': 7, 'ham': 19, 'taste': 7, 'incoming': 8, 'remove': 14, 'inlet': 4, 'anchor': 17, 'udder': 2, 'suckingling': 1, 'utter': 2, 'compete': 10, 'visor': 5, 'stance': 15, 'farmhouse': 1, 'recliner': 5, 'brilliant': 2, 'speed': 37, 'waste': 4, 'ram': 14, 'herder': 1, 'converse': 6, 'ribbon': 34, 'Teh': 3, 'peacock': 6, 'tail': 27, 'fully': 20, 'snowstorm': 3, 'finch': 3, 'free': 12, 'bee': 4, 'royal': 3, 'observatory': 2, 'greenwich': 2, 'strange': 14, 'receptacle': 3, 'entertainment': 15, 'mantle': 11, 'lade': 5, 'opposite': 23, 'ashore': 3, 'without': 18, 'horn': 21, 'stock': 12, 'numerous': 22, 'rectangle': 3, 'oblong': 2, 'lab': 8, 'Witha': 2, 'ny': 1, 'patriotic': 3, 'emergency': 3, 'responder': 1, 'hospital': 18, 'recline': 10, 'amusement': 6, 'carnival': 8, 'convex': 2, 'reflective': 5, 'merchandise': 3, 'flea': 1, 'biker': 6, 'bandana': 6, 'gazelle': 8, 'antelope': 8, 'wildlife': 9, 'feces': 3, 'splatter': 3, 'rim': 11, 'disgust': 1, 'jersey': 23, 'learn': 10, 'hind': 9, 'repair': 10, 'terminal': 33, 'note': 18, 'urge': 1, 'vitamin': 1, 'roadside': 11, 'swan': 11, 'hummingbird': 5, 'boardwalk': 8, 'theory': 2, 'signal': 67, 'duffel': 8, 'liner': 8, 'actively': 1, 'nun': 2, 'chuck': 2, 'navigate': 4, 'attraction': 1, 'unused': 2, 'map': 21, 'menu': 14, 'sanction': 1, 'athlete': 6, 'suspend': 14, 'harness': 7, 'unidentifiable': 2, 'apparatus': 5, 'strap': 11, 'parasail': 5, 'tether': 13, 'upcoming': 2, 'patrol': 4, 'bolt': 3, 'switch': 4, 'determine': 2, 'abundant': 1, 'glassware': 7, 'Ferrari': 1, 'collage': 16, 'vespa': 1, 'countryside': 29, 'organic': 2, 'attend': 10, 'community': 3, 'fair': 16, 'complex': 5, 'standard': 5, 'accompany': 5, 'greenish': 3, 'tint': 2, 'climber': 2, 'let': 18, 'int': 2, 'film': 7, 'calico': 20, 'sleepy': 5, 'occupy': 5, 'soft': 8, 'italy': 2, 'fight': 22, 'tussle': 1, 'bump': 2, 'selection': 10, 'wax': 7, 'polaroid': 2, 'object': 79, 'asparagus': 5, 'course': 22, 'perfect': 6, 'quarter': 8, 'lover': 1, 'cherry': 7, 'toe': 1, 'robe': 19, 'geisha': 1, 'tourist': 25, 'bluebird': 5, 'native': 5, 'ornately': 2, 'pearl': 1, 'drape': 7, 'gild': 3, 'tapestry': 3, 'print': 20, 'pretzel': 3, 'vine': 6, 'plot': 1, 'kale': 1, 'last': 5, 'coleslaw': 6, 'pecan': 1, 'slaw': 11, 'sniff': 17, 'heart': 18, 'waffle': 16, 'bacon': 39, 'pancake': 20, 'syrup': 7, 'twelve': 2, 'thirty': 2, 'seaplane': 2, 'silverware': 18, 'shutter': 7, 'congregate': 6, 'hilly': 12, 'audience': 13, 'courtyard': 10, 'boul': 1, 'deck': 33, 'adjust': 15, 'fiddle': 2, 'photoshop': 2, 'allow': 8, 'creatively': 1, 'identify': 1, 'italian': 4, 'split': 14, 'boar': 4, 'unmarked': 1, 'become': 4, 'ciggorets': 1, 'plaque': 11, 'Seeley': 1, 'cobble': 6, 'sidecar': 7, 'architectural': 5, 'tractor': 12, 'mow': 1, 'locomotive': 30, 'freight': 15, 'drab': 4, 'fix': 21, 'install': 2, 'scar': 3, 'steep': 24, 'unhappy': 3, 'domestic': 3, 'physical': 2, 'confrontation': 1, 'warp': 1, 'mismatch': 3, 'conductor': 5, 'maintenance': 5, 'tinker': 2, 'waterskin': 6, 'partake': 2, 'wool': 9, 'wheel': 64, 'applaud': 1, 'pf': 1, 'maintain': 4, 'pug': 2, 'santa': 18, 'claus': 1, 'flail': 1, 'stun': 1, 'architecture': 8, 'gothic': 2, 'force': 5, 'enthusiast': 1, 'await': 10, 'careen': 1, 'BMW': 5, 'volkswagen': 1, 'sedan': 2, 'VW': 3, 'license': 4, 'know': 7, 'expect': 2, 'defensive': 2, 'search': 6, 'waterfront': 5, 'osprey': 2, 'storage': 13, 'idle': 2, 'rickety': 2, 'vegetation': 16, 'lorry': 2, 'trestle': 2, 'fisherman': 1, 'misty': 2, 'reveal': 8, 'trolly': 8, 'trolley': 27, 'button': 26, 'press': 14, 'key': 6, 'pilot': 5, 'referee': 4, 'collide': 2, 'peacefully': 2, 'sauerkraut': 3, 'sub': 16, 'deli': 5, 'contemplate': 5, 'pantry': 7, 'capture': 7, 'wetsuits': 8, 'cd': 1, 'health': 1, 'notification': 1, 'smiley': 9, 'underside': 4, 'wristband': 1, 'tug': 8, 'retriever': 2, 'wrestle': 5, 'pasta': 42, 'macaroni': 4, 'underground': 7, 'warehouse': 8, 'chug': 3, 'diesel': 3, 'tip': 13, 'riot': 1, 'oxygen': 5, 'artistic': 10, 'swampy': 2, 'brokerly': 1, 'command': 4, 'seaman': 1, 'vessel': 10, 'communicate': 1, 'football': 17, 'racoon': 1, 'denim': 4, 'raccoon': 2, 'leaky': 3, 'bold': 1, 'least': 3, 'afraid': 1, 'product': 10, 'blade': 8, 'crisp': 2, 'delicious': 24, 'die': 5, 'orchard': 1, 'coal': 4, 'shorten': 1, 'Mario': 4, 'kart': 1, 'funny': 18, 'mcdonald': 1, 'icebox': 4, 'portion': 4, 'lace': 3, 'sneaker': 15, 'ona': 1, 'thomas': 4, 'cartoon': 15, 'goody': 2, 'halloween': 3, 'spaghetti': 8, 'receipt': 2, 'card': 25, 'british': 4, 'bounce': 5, 'participate': 4, 'warily': 1, 'urine': 3, 'teenager': 29, 'process': 17, 'briefcase': 11, 'businesswear': 2, 'heel': 9, 'rosy': 1, 'unopened': 2, 'lager': 1, 'shred': 12, 'skiver': 19, 'plume': 2, 'option': 4, 'gradually': 1, 'Irving': 1, 'Carlisle': 1, 'attachment': 4, 'pinstriped': 4, 'cold': 14, 'icy': 6, 'headstand': 2, 'correct': 2, 'territory': 1, 'eagerly': 1, 'lecture': 2, 'britain': 2, 'pillar': 8, 'scale': 13, 'appeal': 3, 'less': 1, 'cutlery': 2, 'itself': 1, 'debris': 5, 'tropical': 12, 'Starbucks': 13, 'blackberry': 2, 'brushy': 2, 'stain': 11, 'mixer': 13, 'processor': 3, 'skater': 11, 'pony': 18, 'blowdryer': 6, 'Vidal': 1, 'Sassoon': 1, 'overgrowth': 1, 'triple': 4, 'bae': 1, 'chairlift': 3, 'doughy': 1, 'dance': 11, 'teen': 12, 'cereal': 16, 'cheerio': 1, 'jack': 4, 'unplug': 1, 'audio': 5, 'chinese': 22, 'adventure': 2, 'flamingo': 16, 'forage': 5, 'slump': 1, 'logo': 16, 'wilderness': 16, 'overflow': 2, 'init': 1, 'armchair': 7, 'sake': 1, 'pristine': 3, 'macbook': 2, 'pro': 7, 'internet': 1, 'over': 2, 'booze': 3, 'handful': 1, 'shine': 7, 'twilight': 6, 'morning': 6, 'mall': 14, 'butterfly': 3, 'jog': 1, 'jordan': 4, 'title': 6, 'plaid': 18, 'upward': 9, 'escalator': 4, 'level': 17, 'port': 16, 'lesson': 3, 'satellite': 5, 'nationwide': 1, 'signage': 8, 'usa': 2, 'toothpaste': 40, 'satchel': 3, 'sailer': 3, 'illustration': 3, 'rally': 5, 'omelette': 5, 'inward': 1, 'ripen': 3, 'topper': 4, 'tablecloth': 10, 'receive': 5, 'dora': 1, 'figurine': 24, 'serene': 2, 'slab': 9, 'basketball': 12, 'tattoo': 16, 'stump': 7, 'bark': 2, 'unripe': 10, 'bakeware': 1, 'tough': 1, 'find': 15, 'puffy': 6, 'lamb': 27, 'bridal': 1, 'concentrate': 3, 'goer': 2, 'growth': 5, 'fern': 3, 'decor': 14, 'letter': 15, 'danish': 1, 'indianapolis': 1, 'championship': 2, 'warthog': 2, 'morgan': 4, 'locate': 22, 'insection': 1, 'jeep': 6, 'seclusion': 1, 'abandon': 21, 'hockey': 4, 'porcelain': 14, 'pip': 4, 'plumb': 6, 'expose': 10, 'gush': 5, 'erupt': 1, 'fountain': 18, 'wakeboard': 2, 'current': 3, 'diamondback': 1, 'homebase': 1, 'mob': 2, 'cubicle': 14, 'vertically': 3, 'loveseat': 1, 'admit': 1, 'garlic': 8, 'SUV': 5, 'mean': 11, 'infield': 2, 'amuse': 2, 'goofy': 6, 'flour': 2, 'unable': 7, 'storefront': 5, 'shopper': 4, 'village': 10, 'ajar': 1, 'expensive': 2, 'rather': 5, 'flop': 2, 'support': 5, 'vendor': 17, 'unripened': 1, 'comic': 5, 'slender': 1, 'sprig': 1, 'range': 27, 'trudge': 2, 'trek': 6, 'undergo': 1, 'renovation': 8, 'renovate': 3, 'reconstruction': 1, 'phase': 1, 'company': 5, 'rubbish': 2, 'weiners': 1, 'eclectic': 2, 'shield': 4, 'unfinished': 11, 'Nokia': 6, 'ornament': 6, 'depot': 12, 'candid': 2, 'effect': 6, 'workstation': 5, 'ink': 1, 'social': 3, 'root': 3, 'oakland': 1, 'Motorola': 2, 'daisy': 5, 'click': 1, 'poke': 12, 'pocket': 9, 'barely': 8, 'opponent': 10, 'orchid': 2, 'lily': 2, 'nut': 15, 'vegetarian': 4, 'scrapper': 1, 'hey': 4, 'snapshot': 2, 'closely': 7, 'inform': 2, 'serf': 4, 'shorn': 3, 'tribute': 1, 'grand': 6, 'backsplash': 3, 'develop': 2, 'nation': 1, 'skirt': 28, 'cauliflower': 14, 'bunny': 9, 'adolescent': 3, 'cautiously': 3, 'gift': 8, 'launch': 6, 'contact': 3, 'medieval': 2, 'palace': 2, 'westminster': 1, 'elizabeth': 2, 'do': 7, 'tool': 22, 'flame': 2, 'custom': 8, 'artsy': 2, 'mimic': 2, 'represent': 4, 'bid': 1, 'plaza': 16, 'diner': 17, 'leash': 36, 'boot': 39, 'oat': 3, 'grain': 7, 'flowery': 5, 'particular': 2, 'valley': 19, 'distant': 8, 'frothy': 3, 'chevron': 1, 'propellor': 5, 'storm': 13, 'instead': 6, 'garnishment': 1, 'tide': 10, 'resort': 17, 'lodge': 13, 'charm': 4, 'focal': 1, 'rustic': 15, 'snugly': 1, 'lcd': 1, 'handset': 1, 'joke': 3, 'ewe': 2, 'rancher': 1, 'cowboy': 26, 'Amanda': 1, 'continue': 1, 'peace': 7, 'proper': 2, 'floatation': 1, 'joy': 3, 'drag': 3, 'leek': 1, 'rosemary': 1, 'etc': 4, 'sling': 3, 'scout': 5, 'dine': 2, 'cafeteria': 3, 'turnip': 4, 'suspicious': 1, 'cupboard': 20, 'formica': 1, 'illuminate': 16, 'unit': 14, 'guardrail': 2, 'hammer': 8, 'cube': 3, 'mash': 9, 'steak': 25, 'suggestive': 2, 'nude': 3, 'private': 3, 'Penn': 1, 'astride': 2, 'divide': 3, 'slot': 2, 'reporter': 1, 'broad': 2, 'windsurfers': 2, 'parasailers': 2, 'brontosaurus': 1, 'culture': 1, 'condition': 1, 'finely': 4, 'ing': 1, 'spend': 5, 'wonder': 4, 'julienne': 1, 'bento': 2, 'leap': 20, 'goggle': 12, 'spiky': 2, 'robbin': 1, 'superhero': 1, 'boundary': 2, 'procession': 4, 'aside': 2, 'stem': 8, 'motocross': 5, 'approximately': 1, 'minute': 6, 'cool': 18, 'chase': 25, 'rooster': 2, 'juvenile': 1, 'tee': 11, 'all': 1, 'viewer': 5, 'handheld': 4, 'minor': 4, 'nearly': 6, 'backseat': 5, 'gown': 5, 'exclaim': 1, 'lapel': 5, 'foxy': 1, 'crochet': 2, 'monster': 1, 'grandfather': 2, 'forty': 6, 'bricked': 10, 'nozzle': 1, 'windblown': 1, 'invert': 2, 'resemble': 6, 'poop': 1, 'freeze': 7, 'date': 8, 'attack': 1, 'nowhere': 2, 'panorama': 1, 'brawl': 1, 'partner': 2, 'bison': 2, 'cordless': 3, 'chili': 29, 'sour': 3, 'kraut': 2, 'clot': 3, 'chilli': 2, 'holstein': 1, 'ballplayer': 2, 'shelter': 6, 'attendant': 4, 'MGM': 2, 'la': 1, 'vega': 1, 'performance': 3, 'spike': 2, 'necklace': 16, 'notebook': 18, 'inflatable': 7, 'sumo': 4, 'wrestler': 4, 'hoop': 1, 'thigh': 1, 'suburban': 12, 'bagel': 25, 'tuna': 3, 'mama': 4, 'forehead': 8, 'accessibility': 1, 'program': 3, 'email': 1, 'account': 1, 'tilt': 13, 'prowl': 2, 'grandma': 2, 'loom': 3, 'scooper': 1, 'layer': 23, 'unwrap': 2, 'unpack': 2, 'protective': 11, 'facility': 8, 'calculator': 1, 'stylish': 7, 'array': 8, 'recipe': 2, 'wedge': 10, 'eleven': 4, 'peach': 7, 'cobbler': 2, 'mild': 1, 'alpine': 3, 'soap': 19, 'pup': 2, 'comfortable': 10, 'asia': 1, 'graduation': 4, 'graduate': 2, 'ceremony': 10, 'lighthouse': 23, 'graz': 10, 'teacher': 3, 'excite': 6, 'bust': 11, 'playpen': 3, 'medium': 13, 'ed': 2, 'feast': 2, 'woodland': 2, 'ash': 1, 'barricade': 5, 'bleacher': 11, 'queen': 5, 'luncheonette': 4, 'cocacola': 1, 'package': 20, 'argyle': 1, 'soak': 11, 'legged': 8, 'meditate': 1, 'aa': 2, 'test': 13, 'ford': 6, 'camper': 2, 'gadget': 4, 'handlebar': 7, 'preform': 5, 'priestly': 1, 'ponytail': 2, 'lonely': 7, 'souffle': 1, 'fetch': 3, 'standup': 1, 'headboard': 7, 'vandalize': 9, 'Nathans': 2, 'thats': 7, 'bulb': 3, 'there': 1, 'font': 1, 'mauve': 1, 'mattress': 30, 'scrap': 1, 'impatiently': 2, 'extinguisher': 2, 'dalmatian': 6, 'owl': 8, 'pajama': 19, 'in': 2, 'borrow': 1, 'romp': 1, 'sweatshirt': 4, 'wooly': 4, 'pear': 19, 'plum': 1, 'replace': 5, 'reign': 2, 'unto': 2, 'labrador': 2, 'corral': 4, 'drum': 1, 'drummer': 1, 'washington': 9, 'dc': 2, 'national': 2, 'landmark': 1, 'hundred': 6, 'obelisk': 1, 'fee': 13, 'creek': 5, 'hell': 1, 'canyon': 2, 'rd': 8, 'tha': 2, 'playful': 1, 'maneuver': 7, 'release': 4, 'camden': 1, 'picturesque': 4, 'patch': 23, 'dwarf': 3, 'visitor': 6, 'manipulate': 2, 'demonstration': 2, 'florida': 1, 'avenue': 13, 'mile': 4, 'frog': 9, 'obscure': 3, 'wheelchair': 9, 'crook': 4, 'signpost': 1, 'thicket': 3, 'planter': 12, 'mum': 1, 'median': 4, 'newport': 2, 'intend': 1, 'pun': 1, 'darkly': 2, 'brocoli': 9, 'juicy': 2, 'perspective': 6, 'bobble': 1, 'lava': 3, 'pub': 1, 'restraint': 2, 'somewhere': 7, 'vigorously': 2, 'travis': 1, 'Arnaud': 1, 'mets': 1, 'Philly': 3, 'motel': 6, 'modify': 3, 'convert': 3, 'bidet': 7, 'tuxedo': 13, 'formally': 7, 'rainbow': 22, 'implement': 2, 'darkness': 2, 'onside': 1, 'dim': 4, 'polish': 2, 'doubledecker': 1, 'moor': 11, 'oversize': 2, 'midst': 7, 'lobby': 11, 'sewer': 1, 'bouncy': 1, 'piss': 1, 'relieve': 1, 'pee': 3, 'duvet': 1, 'seafood': 3, 'lobster': 5, 'vulture': 2, 'ultimate': 12, 'waterskiing': 3, 'waterboard': 1, 'exhibit': 22, 'metro': 18, 'hefty': 1, 'rugby': 1, 'mate': 4, 'outcrop': 2, 'jetter': 1, 'vicinity': 2, 'tiger': 17, 'armrest': 2, 'avocado': 7, 'tortilla': 5, 'available': 8, 'goodbye': 1, 'drop': 9, 'attendee': 1, 'mural': 7, 'skeleton': 1, 'demolish': 4, 'dilapidate': 4, 'clog': 3, 'ten': 6, 'ace': 1, 'smash': 4, 'arena': 4, 'stew': 6, 'expend': 1, 'cliffside': 2, 'populate': 9, 'fabric': 17, 'splay': 2, 'maze': 1, 'sheriff': 3, 'stomach': 5, 'driveway': 20, 'motorist': 2, 'enough': 2, 'scratch': 10, 'sound': 3, 'frizzy': 1, 'music': 5, 'onstage': 1, 'parrot': 19, 'beautifully': 3, 'beak': 18, 'pure': 3, 'orient': 1, 'horizontally': 3, 'basement': 4, 'backdrop': 5, 'teenaged': 2, 'tricycle': 4, 'gang': 2, 'washroom': 1, 'poultry': 2, 'compile': 1, 'montage': 4, 'cit': 1, 'hoagie': 5, 'baguette': 4, 'spotless': 1, 'majestic': 3, 'rust': 23, 'filthy': 5, 'notepad': 6, 'beanie': 6, 'rabbit': 7, 'cutout': 2, 'span': 11, 'ferry': 4, 'norway': 1, 'trough': 11, 'solo': 1, 'sparsely': 3, 'brighten': 1, 'curvy': 6, 'bol': 1, 'tanker': 5, 'swiss': 7, 'flash': 8, 'raincoat': 7, 'entertain': 7, 'dust': 8, 'bicycler': 2, 'pellet': 1, 'retail': 4, 'grasp': 3, 'reception': 3, 'traveler': 5, 'excitedly': 1, 'bucket': 31, 'polar': 70, 'overturn': 4, 'booty': 2, 'knapsack': 1, 'activate': 1, 'feline': 1, 'identical': 6, 'staning': 1, 'recover': 2, 'warrior': 1, 'shaggy': 5, 'strew': 3, 'pedestal': 15, 'ornamental': 6, 'nick': 2, 'knack': 4, 'beat': 2, 'auditorium': 1, 'juggle': 1, 'cliff': 16, 'quickly': 4, 'indesicriminate': 1, 'disk': 10, 'wreath': 2, 'skewer': 3, 'surmount': 1, 'entry': 4, 'sleek': 7, 'uninviting': 1, 'textured': 3, 'loin': 1, 'hall': 4, 'caboose': 8, 'stationary': 13, 'greet': 11, 'machete': 1, 'junk': 9, 'grove': 5, 'meatball': 18, 'droop': 2, 'hearth': 1, 'wilt': 5, 'act': 1, 'underwater': 2, 'ot': 1, 'cutter': 13, 'sweep': 3, 'guacamole': 4, 'grapefruit': 4, 'partial': 7, 'slate': 2, 'seaside': 1, 'tofu': 5, 'seaweed': 1, 'cooker': 4, 'muscle': 2, 'tightly': 3, 'clench': 1, 'goup': 1, 'colleague': 1, 'chevy': 1, 'insignia': 1, 'shoelace': 2, 'racer': 11, 'captain': 1, 'shout': 1, 'coxswain': 1, 'motivate': 1, 'scull': 1, 'injury': 1, 'rubber': 4, 'surgically': 1, 'implant': 1, 'incision': 1, 'sore': 2, 'devil': 1, 'skillfully': 3, 'lite': 4, 'centerpiece': 5, 'traveller': 1, 'baggage': 25, 'claim': 12, 'lacy': 1, 'convention': 7, 'grin': 5, 'iPhone': 15, 'knit': 11, 'acorn': 2, 'pamphlet': 7, 'tight': 7, 'dissemble': 1, 'blason': 1, 'ballon': 2, 'assemble': 3, 'croissant': 3, 'assembly': 2, 'tier': 4, 'intricate': 2, 'detail': 6, 'shark': 8, 'union': 1, 'rib': 5, 'pendant': 3, 'Lon': 1, 'adjacent': 7, 'butch': 3, 'progressively': 1, 'foamy': 3, 'aeroplane': 3, 'fuel': 1, 'contestant': 2, 'pore': 1, 'crash': 11, 'preen': 1, 'crane': 12, 'bask': 1, 'colonial': 4, 'reenactor': 1, 'departure': 1, 'server': 5, 'fireplug': 2, 'dairy': 10, 'paddock': 2, 'sepia': 3, 'tone': 9, 'real': 6, 'disability': 1, 'glare': 4, 'pint': 1, 'buy': 12, 'demonic': 2, 'barrack': 2, 'Hussein': 1, 'Obama': 5, 'clasp': 1, 'eyebrow': 1, 'weirdly': 1, 'similar': 4, 'Barack': 1, 'statuesque': 1, 'pelican': 4, 'stork': 4, 'signify': 2, 'prohibit': 3, 'certain': 3, 'foreign': 18, 'language': 17, 'gnar': 1, 'local': 8, 'brownish': 1, 'canada': 3, 'valve': 2, 'co': 3, 'ltd': 1, 'canadian': 5, 'nutritious': 1, 'dreary': 4, 'Greene': 2, 'st': 6, 'fastball': 2, 'soldier': 21, 'pop': 6, 'wheelie': 5, 'pouch': 3, 'somebody': 8, 'pastrami': 1, 'clay': 18, 'radiator': 2, 'disperse': 1, 'cannot': 3, 'thru': 7, 'soar': 14, 'printer': 14, 'twp': 4, 'inspection': 2, 'skim': 4, 'sigh': 3, 'peanut': 12, 'steal': 4, 'hygiene': 2, 'toiletry': 17, 'fine': 4, 'dump': 12, 'bi': 1, 'breed': 1, 'of': 3, 'cant': 2, 'workroom': 1, 'plywood': 1, 'torso': 3, 'naked': 8, 'bloody': 3, 'penis': 1, 'seductive': 1, 'vertical': 3, 'undress': 1, 'pantyhose': 1, 'shawl': 4, 'sam': 3, 'club': 6, 'sunflower': 10, 'coffeepot': 1, 'caution': 4, 'pagoda': 1, 'doo': 1, 'prance': 1, 'gree': 1, 'stoop': 2, 'keeper': 3, 'cram': 1, 'basically': 1, 'save': 1, 'vat': 2, 'flute': 3, 'bubbly': 1, 'le': 1, 'affectionate': 3, 'skatepark': 6, 'rap': 1, 'trucker': 1, 'sleeved': 3, 'hoodie': 5, 'environment': 12, 'camel': 1, 'gangplank': 1, 'magnet': 10, 'it': 1, 'airfield': 3, 'property': 2, 'concert': 2, 'janitor': 1, 'closet': 4, 'entree': 12, 'sear': 1, 'parsley': 1, 'bisect': 1, 'hipster': 6, 'mountaineer': 1, 'earring': 3, 'parakeet': 7, 'centre': 1, 'capital': 2, 'lowercase': 1, 'eastern': 1, 'brother': 4, 'sister': 2, 'frown': 1, 'dackered': 5, 'takeout': 2, 'deer': 16, 'dusty': 11, 'tri': 2, 'final': 2, 'woodenchair': 1, 'employee': 7, 'simulation': 1, 'simulator': 3, 'fellow': 3, 'form': 11, 'law': 1, 'enforcement': 1, 'canvas': 4, 'minimally': 1, 'eighteen': 1, 'precede': 1, 'hunch': 1, 'shut': 1, 'main': 11, 'solar': 4, 'manicure': 2, 'escape': 3, 'doily': 5, 'hoist': 1, 'cole': 5, 'tongs': 4, 'hope': 2, 'magazine': 19, 'tandem': 2, 'pregnant': 15, 'belly': 8, 'chess': 1, 'sliver': 2, 'carefully': 4, 'hurl': 1, 'outfielder': 6, 'remold': 2, 'stud': 3, 'baseballer': 5, 'palette': 1, 'neutral': 4, 'soften': 1, 'cabinetry': 8, 'gorgeous': 3, 'angel': 3, 'musician': 1, 'scrapbook': 1, 'cappuccino': 1, 'purpose': 5, 'rush': 6, 'beneficial': 1, 'recovery': 3, 'retro': 7, 'actually': 1, 'dutch': 2, 'pate': 3, 'pucker': 2, 'tot': 2, 'fox': 2, 'mom': 6, 'favorite': 5, 'sum': 3, 'kyack': 1, 'boater': 8, 'knot': 2, 'facial': 2, 'ominously': 1, 'curly': 10, 'coconut': 5, 'tempt': 1, 'www': 1, 'glamour': 1, 'walker': 4, 'mechanical': 3, 'attentive': 1, 'Davidson': 4, 'history': 1, 'celtic': 1, 'tatoo': 1, 'youth': 9, 'posture': 1, 'burrito': 3, 'fajita': 2, 'turbulent': 2, 'digital': 6, 'compartment': 15, 'tech': 3, 'entire': 2, 'boxcar': 3, 'occupant': 3, 'pharmacy': 3, 'count': 2, 'pill': 3, 'solder': 1, 'dispensary': 1, 'shave': 6, 'razor': 1, 'Duncan': 1, 'Dunkin': 1, 'brace': 4, 'accept': 2, 'credit': 1, 'debit': 1, 'parchment': 4, 'speckle': 4, 'mint': 2, 'gutter': 3, 'tonight': 1, 'shelve': 9, 'hub': 3, 'impoverish': 1, 'solemn': 2, 'ladder': 17, 'horizontal': 3, 'boil': 4, 'haircut': 2, 'tooth': 16, 'automatic': 5, 'channel': 3, 'videogame': 3, 'classroom': 21, 'study': 8, 'height': 7, 'unman': 2, 'earth': 7, 'sly': 1, 'siamese': 3, 'pointy': 3, 'turret': 2, 'trike': 1, 'mein': 1, 'easy': 11, 'non': 7, 'alleyway': 3, 'jam': 9, 'establish': 1, 'goblet': 2, 'sip': 10, 'collector': 1, 'Seiko': 1, 'elk': 3, 'ease': 1, 'rosa': 1, 'suffer': 4, 'coco': 2, 'diet': 1, 'inline': 1, 'toll': 3, 'cucumber': 10, 'hiker': 5, 'patron': 4, 'foodservices': 3, 'tourer': 1, 'career': 1, 'unfurnished': 1, 'makeshift': 2, 'interception': 1, 'stormy': 6, 'nobody': 1, 'ivory': 1, 'howl': 2, 'detergent': 1, 'spell': 1, 'dimensional': 1, 'render': 1, 'definitely': 2, 'ia': 1, 'flatbed': 7, 'veteran': 1, 'satisfy': 1, 'stroller': 10, 'lazily': 2, 'mosaic': 5, 'create': 8, 'athletic': 7, 'mossy': 2, 'uneven': 2, 'wavy': 7, 'comical': 1, 'halt': 1, 'bullet': 4, 'Parke': 1, 'guitar': 19, 'amp': 2, 'op': 1, 'groupflier': 1, 'artisan': 1, 'crispy': 3, 'equal': 1, 'column': 3, 'streetcar': 1, 'chapati': 1, 'foodstuff': 3, 'cinnamon': 14, 'compound': 1, 'broth': 3, 'equip': 14, 'donate': 1, 'sippy': 5, 'peck': 6, 'comity': 1, 'outlet': 2, 'mouthwash': 5, 'comb': 10, 'sharp': 12, 'stemware': 3, 'elegantly': 1, 'staff': 3, 'material': 8, 'roundabout': 2, 'toa': 1, 'practically': 1, 'leftover': 2, 'dag': 1, 'waterfall': 8, 'connection': 1, 'central': 4, 'watersurfing': 4, 'barefoot': 5, 'uneaten': 6, 'component': 4, 'zucchini': 6, 'strike': 11, 'poll': 3, 'fuzzy': 6, 'whitecap': 1, 'pinto': 1, 'zookeeper': 1, 'wheelbarrow': 8, 'bring': 4, 'citrus': 6, 'rotate': 2, 'belt': 17, 'cutin': 2, 'terrarium': 1, 'IIN': 2, 'canister': 3, 'tress': 1, 'caress': 1, 'ADN': 1, 'teenage': 6, 'appreciate': 3, 'peeler': 1, 'motto': 1, 'universal': 1, 'depart': 4, 'assist': 2, 'presenter': 1, 'forklift': 1, 'entryway': 5, 'waterloo': 2, 'watermelon': 5, 'backflip': 1, 'rared': 2, 'combination': 4, 'minimal': 3, 'cowgirl': 6, 'interactive': 9, 'pinwheel': 1, 'squadron': 1, 'hybrid': 3, 'hawaiian': 1, 'amphora': 1, 'ruler': 5, 'erect': 5, 'carousel': 7, 'conveyor': 7, 'carrousel': 1, 'attache': 2, 'regard': 2, 'mileage': 2, 'tote': 2, 'region': 4, 'sturdy': 2, 'saddlebag': 1, 'ply': 1, 'kitesurfing': 3, 'waterboarding': 1, 'clump': 1, 'granola': 2, 'oatmeal': 4, 'terrace': 6, 'foliage': 8, 'panda': 26, 'version': 2, 'footlong': 3, 'serrate': 1, 'prominent': 2, 'be': 2, 'juicer': 7, 'madison': 3, 'buggy': 16, 'shishkabobs': 1, 'kabob': 1, 'parasailing': 17, 'shepard': 3, 'horde': 2, 'virgin': 5, 'slop': 4, 'eaves': 1, 'handmade': 1, 'rowboat': 2, 'viewable': 1, 'glisten': 3, 'apparel': 3, 'claustrophobic': 1, 'shampoo': 1, 'haphazardly': 1, 'Frolick': 1, 'brow': 3, 'length': 4, 'floss': 3, 'rinse': 3, 'tobacco': 1, 'external': 3, 'elbow': 2, 'dinghy': 1, 'unattractive': 1, 'wart': 1, 'offer': 6, 'sickly': 1, 'dup': 1, 'coordinate': 1, 'blood': 4, 'yam': 1, 'idaho': 1, 'candlelight': 2, 'Merrick': 1, 'guernsey': 1, 'studio': 5, 'multiscreen': 1, 'cellar': 2, 'earing': 1, 'glue': 2, 'trampoline': 4, 'falcon': 3, 'hawk': 7, 'projection': 1, 'axle': 1, 'transparent': 2, 'wonderful': 4, 'onlooking': 1, 'unpaved': 1, 'daybed': 1, 'differently': 2, 'peddler': 1, 'donkey': 15, 'bind': 6, 'shack': 4, 'defecate': 1, 'calmly': 1, 'amidst': 6, 'woodpecker': 1, 'fro': 1, 'from': 2, 'kickball': 1, 'ugly': 3, 'guest': 11, 'protection': 1, 'daylight': 2, 'zest': 2, 'pimp': 2, 'blueberry': 7, 'sconce': 1, 'pawn': 1, 'fireman': 10, 'crawl': 5, 'lingerie': 3, 'erotically': 1, 'underwear': 3, 'ticket': 4, 'Tyndale': 1, 'crush': 2, 'damage': 4, 'grayish': 1, 'dusky': 2, 'exposure': 2, 'sexy': 3, 'arrive': 7, 'grant': 1, 'luxury': 4, 'operational': 2, 'cockpit': 4, 'encompass': 2, 'revolutionary': 1, 'empire': 2, 'vineyard': 1, 'slalom': 3, 'Pellegrini': 3, 'refrigerate': 3, 'deco': 2, 'scary': 1, 'jetway': 1, 'dominate': 1, 'beam': 7, 'barstools': 1, 'vane': 2, 'mp': 6, 'peripheral': 5, 'custard': 3, 'confection': 2, 'lavishly': 2, 'anchorage': 1, 'spirit': 2, 'cheeseburger': 2, 'griddle': 1, 'alcohol': 14, 'survey': 2, 'aloud': 1, 'firestone': 1, 'marilyn': 1, 'monroe': 1, 'brunette': 2, 'freshly': 16, 'energetic': 1, 'handsome': 1, 'song': 2, 'poem': 1, 'unattended': 1, 'merchant': 3, 'marketplace': 2, 'cheer': 4, 'celebrate': 19, 'classic': 8, 'goatee': 6, 'snoop': 1, 'send': 4, 'hardhats': 1, 'refer': 1, 'manchester': 2, 'customize': 2, 'sunshine': 4, 'duckling': 4, 'goalie': 10, 'raisin': 2, 'graph': 1, 'allot': 1, 'victory': 1, 'brochure': 1, 'schedule': 2, 'chalet': 1, 'Budweiser': 1, 'cling': 1, 'bedstead': 1, 'experiment': 1, 'stigma': 1, 'cabbage': 10, 'emerge': 2, 'panty': 2, 'attentively': 1, 'pm': 3, 'raquet': 2, 'possibly': 9, 'sugary': 2, 'stilt': 1, 'campground': 4, 'margarita': 4, 'frise': 4, 'might': 4, 'violin': 4, 'corp': 1, 'engineer': 6, 'artist': 1, 'urinate': 3, 'loan': 1, 'treeline': 2, 'jut': 3, 'overgrow': 5, 'england': 4, 'ecohopper': 2, 'friendly': 2, 'ability': 2, 'awning': 11, 'powerboat': 1, 'Hannah': 1, 'Arendt': 1, 'strafe': 1, 'overshadow': 1, 'multileveled': 1, 'arid': 2, 'garb': 4, 'about': 1, 'respond': 1, 'sever': 3, 'google': 5, 'linger': 1, 'sheepdog': 3, 'somewhat': 5, 'heater': 6, 'sunbather': 2, 'biplane': 8, 'lightweight': 1, 'tonic': 3, 'Gordon': 1, 'gin': 4, 'plaster': 1, 'necessary': 1, 'predator': 1, 'clutch': 2, 'blank': 2, 'leafless': 7, 'slipper': 5, 'brussels': 2, 'charter': 3, 'pump': 2, 'fist': 7, 'vanilla': 3, 'grafitti': 2, 'trio': 4, 'eave': 1, 'soil': 5, 'sherd': 1, 'ascend': 8, 'overweight': 1, 'loosen': 3, 'tye': 2, 'slight': 2, 'unbutton': 2, 'poodle': 13, 'kill': 2, 'offspring': 1, 'wiiremote': 1, 'shorebird': 3, 'swallow': 1, 'knick': 2, 'airstrip': 6, 'vein': 2, 'concept': 1, 'combine': 5, 'pod': 1, 'temple': 5, 'Sony': 4, 'aim': 6, 'outhouse': 3, 'elder': 1, 'fudge': 2, 'atm': 3, 'belong': 5, 'hydrofoil': 1, 'donation': 4, 'join': 4, 'birdcage': 4, 'euclid': 3, 'ave': 8, 'kiddy': 2, 'bitty': 1, 'roller': 15, 'extravagant': 1, 'truly': 3, 'waist': 2, 'caucasian': 1, 'yogurt': 10, 'ranch': 1, 'cemetery': 7, 'mailbox': 5, 'stylize': 2, 'batman': 1, 'neighbor': 2, 'wrong': 4, 'cud': 1, 'rhino': 2, 'rhinoceros': 2, 'chariot': 1, 'descend': 4, 'stroke': 2, 'michigan': 1, 'buckle': 2, 'berth': 1, 'duty': 1, 'posse': 1, 'com': 1, 'former': 1, 'nightstands': 2, 'sur': 1, 'ask': 1, 'witness': 2, 'cookout': 2, 'elm': 3, 'catawba': 1, 'ban': 2, 'bodysuit': 1, 'rent': 1, 'competitor': 3, 'judge': 1, 'grit': 4, 'porridge': 1, 'overtake': 1, 'gladiator': 4, 'DVD': 10, 'cutlet': 1, 'monochrome': 1, 'corona': 3, 'ridiculous': 1, 'potty': 2, 'alien': 3, 'terrestrials': 1, 'yummy': 6, 'copy': 2, 'joyce': 1, 'ulysses': 1, 'twirl': 1, 'corrugate': 1, 'skaterboader': 1, 'coli': 1, 'spiral': 1, 'scrubland': 1, 'paraphernalia': 2, 'crank': 1, 'recycle': 1, 'haze': 2, 'yb': 1, 'homeplace': 1, 'runny': 1, 'mosquito': 2, 'paso': 1, 'whats': 1, 'backside': 1, 'gymnastics': 1, 'yawn': 9, 'cramp': 7, 'decadent': 2, 'brownie': 3, 'herself': 1, 'bedside': 2, 'humidifier': 1, 'chicote': 1, 'unfold': 1, 'cry': 4, 'daughter': 3, 'whit': 3, 'shabby': 2, 'cigarette': 31, 'dismal': 1, 'backhand': 3, 'quesadilla': 2, 'sack': 2, 'eff': 1, 'fiesta': 1, 'curler': 2, 'gun': 7, 'nunchuk': 1, 'olden': 1, 'currently': 3, 'camote': 1, 'firehydrant': 3, 'stairwell': 4, 'bosom': 1, 'autumn': 2, 'whisker': 2, 'expo': 1, 'hoe': 1, 'masonry': 1, 'chapel': 3, 'unicorn': 1, 'barbwire': 2, 'band': 3, 'casual': 2, 'Winnie': 4, 'pooh': 7, 'upwards': 4, 'hazy': 4, 'woolly': 3, 'temporary': 4, 'fierce': 2, 'want': 4, 'brave': 4, 'atlanta': 2, 'monumental': 2, 'pudding': 5, 'OV': 1, 'sevoflurane': 1, 'hilltop': 5, 'active': 1, 'mote': 6, 'piano': 6, 'dufflebag': 1, 'grownup': 1, 'compact': 6, 'motocycle': 1, 'coffer': 1, 'laundry': 5, 'barometer': 1, 'relate': 4, 'inlay': 2, 'lad': 1, 'pat': 3, 'astable': 1, 'wakeboarder': 3, 'windsurfer': 6, 'Subaru': 1, 'racecar': 1, 'NASCAR': 1, 'tyke': 1, 'lack': 1, 'bumper': 5, 'girrafe': 2, 'nighttime': 10, 'oversee': 1, 'crotch': 2, 'strain': 1, 'bristle': 3, 'scaffold': 1, 'afield': 1, 'oak': 6, 'overhang': 1, 'uncover': 2, 'songbird': 1, 'appletree': 1, 'moss': 2, 'colt': 1, 'shed': 5, 'mystic': 1, 'lavender': 6, 'petaled': 1, 'misshapen': 2, 'oddly': 3, 'additional': 6, 'diaper': 1, 'cardboard': 16, 'happily': 6, 'halter': 4, 'cheerleader': 1, 'confetti': 2, 'hail': 1, 'pebble': 2, 'popsicle': 1, 'kiosk': 3, 'parasurfing': 1, 'sideboard': 4, 'aqua': 2, 'turtle': 2, 'plethora': 1, 'succor': 1, 'gym': 5, 'clap': 2, 'tinfoil': 7, 'overhear': 1, 'cubical': 2, 'workspace': 2, 'aquarium': 7, 'cottony': 1, 'backwards': 2, 'NYP': 5, 'broadway': 6, 'mail': 5, 'insist': 1, 'squeeze': 5, 'discussion': 2, 'stride': 1, 'oneself': 1, 'maple': 1, 'laggar': 1, 'akureyri': 1, 'activity': 2, 'common': 1, 'pumpkin': 5, 'intercept': 1, 'fourth': 6, 'ladle': 4, 'camo': 1, 'prim': 1, 'carton': 13, 'dirtbike': 2, 'bouttoniere': 1, 'MTA': 2, 'spew': 5, 'toothpick': 4, 'eachother': 2, 'experimental': 1, 'Ina': 1, 'oversized': 2, 'difference': 1, 'noel': 1, 'bill': 4, 'wallet': 3, 'mascara': 4, 'pencil': 3, 'bracelet': 2, 'coin': 4, 'aggressively': 1, 'aussie': 1, 'rule': 3, 'coyote': 2, 'veil': 3, 'telescope': 2, 'luxurious': 2, 'avoid': 3, 'teal': 5, 'patiently': 7, 'batch': 3, 'appetizer': 3, 'unclear': 1, 'rink': 1, 'gently': 1, 'helpful': 1, 'translate': 1, 'Pushkin': 1, 'nalbandyan': 1, 'india': 2, 'mode': 1, 'pain': 1, 'beauty': 1, 'salon': 7, 'congratulatory': 1, 'surfboarder': 3, 'lushly': 1, 'tracker': 1, 'residence': 2, 'brooklyn': 2, 'snowmobile': 5, 'brickwork': 1, 'heritage': 3, 'crumb': 3, 'plod': 1, 'vietnamese': 1, 'aer': 2, 'longus': 1, 'cave': 7, 'downwards': 3, 'seemingly': 2, 'competitively': 1, 'intense': 2, 'bribee': 1, 'bikini': 7, 'swimsuit': 4, 'glimmer': 1, 'bandas': 1, 'cumin': 1, 'Chiquita': 1, 'stupid': 1, 'ethnic': 1, 'drapped': 1, 'bubble': 4, 'cog': 1, 'convoy': 1, 'sari': 1, 'clockpost': 1, 'agency': 1, 'jalapeno': 2, 'copper': 3, 'dodge': 4, 'kiln': 1, 'despite': 1, 'showcasing': 1, 'bruise': 2, 'leaflet': 1, 'wiffle': 1, 'grandpa': 1, 'drug': 1, 'singe': 1, 'extreme': 1, 'induction': 1, 'heat': 2, 'impose': 1, 'profession': 1, 'Ariz': 1, 'elevator': 1, 'pikachu': 1, 'Pokemon': 1, 'political': 4, 'diagonal': 1, 'refill': 1, 'untouched': 2, 'shiraz': 1, 'sock': 13, 'og': 1, 'lakeshore': 1, 'lightly': 2, 'polo': 3, 'variation': 3, 'lime': 10, 'salt': 1, 'tequila': 2, 'comfort': 1, 'invite': 2, 'MasterCard': 1, 'sponsor': 1, 'hum': 1, 'tripod': 4, 'smell': 7, 'rip': 3, 'lovely': 3, 'weigh': 5, 'rustle': 1, 'marginal': 2, 'inn': 1, 'teach': 10, 'have': 1, 'sex': 2, 'em': 2, 'chick': 4, 'duke': 2, 'Ellington': 2, 'bld': 1, 'suburb': 3, 'instructor': 7, 'Tupperware': 2, 'slim': 1, 'Hyundai': 1, 'outline': 4, 'death': 1, 'fatal': 1, 'error': 2, 'associate': 3, 'houseboat': 4, 'horror': 1, 'stab': 1, 'discard': 1, 'swish': 1, 'stroll': 4, 'flick': 1, 'succulent': 3, 'tyne': 1, 'saturate': 1, 'droplet': 2, 'biscuit': 1, 'robotic': 1, 'backward': 2, 'frightful': 1, 'plus': 4, 'Vliets': 1, 'demolition': 1, 'supermarket': 3, 'magenta': 2, 'windsor': 1, 'pecker': 1, 'lichen': 1, 'rottweiler': 1, 'stet': 1, 'norfolk': 1, 'southern': 1, 'slave': 2, 'passageway': 2, 'highchair': 13, 'fear': 1, 'straddle': 4, 'speciality': 1, 'matt': 3, 'boulevard': 3, 'must': 2, 'radish': 6, 'traverse': 2, 'circuit': 2, 'poorly': 3, 'misshaped': 1, 'unrecognizable': 1, 'grinder': 2, 'respective': 1, 'religious': 5, 'require': 1, 'mickey': 1, 'spherical': 1, 'brass': 5, 'breeze': 1, 'medicine': 2, 'Ollie': 2, 'progression': 1, 'ton': 2, 'exhaust': 1, 'musical': 2, 'id': 2, 'badge': 3, 'grisly': 1, 'rot': 2, 'via': 1, 'bl': 2, 'ambiance': 1, 'explore': 4, 'whine': 3, 'beyond': 8, 'unkempt': 2, 'lolly': 1, 'degree': 1, 'breadstick': 1, 'hump': 2, 'diagonally': 2, 'fir': 1, 'merry': 2, 'casino': 3, 'gamble': 1, 'dashboard': 8, 'Scotts': 1, 'user': 1, 'dollar': 8, 'fifty': 2, 'cent': 4, 'weight': 2, 'grandmother': 2, 'pizzeria': 2, 'soupy': 1, 'substance': 3, 'residue': 2, 'advise': 2, 'hush': 1, 'scare': 3, 'cymbal': 1, 'bang': 5, 'holly': 2, 'orderly': 2, 'segment': 4, 'receiver': 3, 'answer': 2, 'aloft': 3, 'own': 1, 'amble': 3, 'shrubbery': 10, 'mythical': 1, 'mashpotato': 1, 'persona': 6, 'kit': 2, 'hairy': 12, 'mane': 3, 'satin': 1, 'eiffel': 6, 'grandeur': 1, 'proceed': 2, 'aware': 1, 'tole': 1, 'clcktower': 1, 'san': 3, 'francisco': 3, 'beany': 1, 'whose': 3, 'dowel': 1, 'dental': 1, 'oxide': 1, 'worth': 1, 'ne': 2, 'stella': 2, 'graveyard': 1, 'halfpipe': 3, 'university': 4, 'Gerard': 1, 'schwarz': 1, 'pl': 1, 'cheek': 3, 'upscale': 5, 'hurt': 1, 'candidate': 2, 'massachusetts': 1, 'scott': 1, 'campaign': 5, 'slushier': 1, 'beeball': 1, 'rainstorm': 2, 'downpour': 1, 'drench': 3, 'torrent': 1, 'marker': 8, 'armor': 1, 'organically': 1, 'artistically': 2, 'twist': 2, 'cupola': 1, 'girrafes': 1, 'liqueur': 1, 'surveillance': 1, 'sensor': 2, 'smoggy': 2, 'waling': 3, 'week': 1, 'technician': 3, 'dollop': 1, 'butterscotch': 1, 'elate': 1, 'macaw': 1, 'gnaw': 4, 'locale': 1, 'spectate': 1, 'upturned': 3, 'dunk': 1, 'technology': 2, 'secure': 1, 'Windham': 1, 'intersect': 1, 'lidless': 4, 'motorhome': 1, 'toothy': 1, 'workbag': 1, 'lotion': 2, 'turntable': 2, 'saute': 3, 'wader': 2, 'overall': 2, 'mouthwatering': 1, 'strack': 1, 'billow': 2, 'abstract': 3, 'mountainous': 15, 'riverside': 1, 'mass': 3, 'modem': 1, 'router': 2, 'hitch': 1, 'reflector': 1, 'conscious': 1, 'dogwood': 1, 'clown': 11, 'dr': 1, 'guess': 1, 'creme': 1, 'mottle': 1, 'ankle': 2, 'Harley': 1, 'eatery': 1, 'shaft': 1, 'education': 1, 'humongous': 3, 'Jal': 1, 'fluorescent': 2, 'Walmart': 1, 'CDS': 1, 'hutch': 2, 'loose': 3, 'france': 2, 'rue': 8, 'saint': 1, 'paul': 7, 'Bonsecour': 1, 'clos': 1, 'chary': 1, 'dangerous': 1, 'avocet': 1, 'snout': 1, 'apia': 1, 'ce': 1, 'assure': 1, 'loosely': 1, 'sunhat': 2, 'yearbook': 1, 'sleeveless': 1, 'oris': 1, 'slum': 1, 'sleeper': 1, 'jumpsuit': 2, 'crazy': 6, 'sprint': 1, 'pursue': 1, 'rainwater': 1, 'hunker': 1, 'bowler': 1, 'withs': 2, 'beet': 2, 'dizzy': 1, 'Paddington': 1, 'venue': 1, 'attest': 1, 'personify': 1, 'freak': 1, 'danger': 3, 'de': 1, 'accumulate': 1, 'magalawa': 1, 'pensively': 1, 'chateau': 1, 'focaccia': 1, 'difficult': 2, 'thelement': 1, 'artfully': 2, 'job': 3, 'tugboat': 5, 'atlantic': 1, 'chester': 1, 'buddha': 4, 'choice': 3, 'technique': 5, 'recall': 1, 'muktuk': 1, 'bulldozer': 2, 'salvage': 1, 'deal': 2, 'zeppelin': 1, 'spout': 1, 'occur': 1, 'blimp': 3, 'fifteen': 2, 'girioffs': 1, 'thanksgiving': 4, 'prepped': 1, 'eyeglass': 4, 'simmer': 1, 'campus': 1, 'devise': 1, 'clue': 1, 'chilies': 1, 'function': 4, 'fatigue': 2, 'occasion': 1, 'watergun': 2, 'ruin': 2, 'relatively': 1, 'convertible': 2, 'untie': 1, 'undo': 2, 'trenchcoats': 1, 'smoky': 2, 'typical': 5, 'ding': 3, 'bore': 2, 'instruction': 3, 'ottoman': 4, 'vacant': 1, 'olympic': 10, 'olympics': 3, 'medal': 4, 'award': 2, 'unsmiling': 1, 'webcam': 1, 'riverbank': 2, 'gosling': 1, 'PlayStation': 1, 'east': 2, 'popular': 2, 'grid': 1, 'lion': 1, 'Firebee': 1, 'ivy': 2, 'sw': 1, 'spencer': 4, 'swivel': 1, 'Queenslander': 1, 'thirtieth': 1, 'efficient': 1, 'munch': 3, 'Nerf': 1, 'crop': 2, 'cellophane': 1, 'minimalistic': 1, 'attic': 4, 'par': 1, 'campfire': 7, 'truss': 1, 'horizon': 5, 'coral': 2, 'captivity': 3, 'dad': 2, 'seclude': 2, 'telegraph': 1, 'hairbrush': 2, 'deodorant': 1, 'movement': 2, 'smear': 4, 'mayo': 1, 'Salomi': 1, 'sailboards': 1, 'footpath': 2, 'trashcans': 1, 'mechanism': 1, 'storied': 2, 'fielder': 1, 'batsman': 2, 'telemark': 1, 'oclock': 1, 'anything': 2, 'uk': 1, 'best': 9, 'beanbag': 1, 'frumpled': 2, 'locker': 2, 'monkey': 11, 'martini': 1, 'alarm': 7, 'wondrous': 1, 'manage': 2, 'distantly': 1, 'companion': 2, 'municipal': 1, 'youngster': 2, 'glory': 1, 'chalk': 5, 'rag': 3, 'eagle': 6, 'separation': 1, 'anticipate': 3, 'anticipation': 1, 'feminine': 1, 'obviously': 1, 'guinea': 4, 'homey': 3, 'thank': 2, 'airbag': 1, 'gooey': 1, 'waiter': 1, 'collie': 1, 'puppet': 1, 'lazy': 4, 'sinister': 1, 'sob': 1, 'oom': 1, 'carrier': 5, 'anti': 1, 'news': 3, 'suzuki': 2, 'chrome': 6, 'cylindrical': 2, 'random': 2, 'plump': 2, 'lineup': 1, 'wish': 4, 'USB': 1, 'waitress': 1, 'businessman': 2, 'strand': 5, 'admire': 3, 'concoction': 2, 'relief': 1, 'confinement': 1, 'mustang': 2, 'Mitchell': 1, 'inset': 1, 'mold': 1, 'stately': 2, 'authentic': 2, 'sparrow': 2, 'fluid': 1, 'milky': 1, 'poolside': 3, 'fecal': 1, 'matter': 1, 'ana': 4, 'every': 1, 'complement': 1, 'fedex': 3, 'ex': 5, 'confuse': 1, 'regular': 2, 'farmland': 2, 'posh': 2, 'packet': 3, 'Marlboro': 2, 'squirrel': 5, 'zip': 1, 'jelly': 2, 'halve': 2, 'awkwardly': 1, 'doge': 4, 'hatch': 1, 'access': 2, 'fender': 3, 'auto': 2, 'sanctuary': 2, 'alertly': 1, 'noise': 1, 'spice': 5, 'navel': 3, 'swirl': 3, 'pooping': 2, 'dune': 8, 'nordic': 1, 'snowshoe': 1, 'griffe': 2, 'freely': 2, 'textbook': 1, 'rive': 1, 'explain': 2, 'placid': 3, 'businessmen': 1, 'web': 2, 'intention': 1, 'fondant': 1, 'protector': 2, 'bowtie': 2, 'suring': 1, 'zieger': 1, 'mouthful': 1, 'beg': 3, 'Lucas': 1, 'europe': 3, 'keychain': 2, 'clover': 2, 'seattle': 2, 'wa': 1, 'thumbnail': 1, 'mascot': 4, 'linen': 4, 'vacuum': 1, 'battle': 2, 'kiwi': 2, 'verge': 2, 'enthusiasm': 1, 'composite': 1, 'cause': 2, 'conveyer': 3, 'fryer': 1, 'embellish': 1, 'hobbyist': 1, 'skees': 1, 'disclaimer': 1, 'motorcycler': 4, 'sharply': 3, 'mountaintops': 1, 'windmill': 3, 'intimate': 1, 'moment': 2, 'cam': 1, 'slicer': 7, 'cane': 6, 'rippavilla': 1, 'knob': 2, 'bureau': 2, 'redhead': 3, 'fluff': 2, 'downy': 1, 'morningtide': 1, 'ct': 1, 'unbaked': 1, 'beehive': 1, 'jetblue': 1, 'ferris': 3, 'wizard': 1, 'inch': 2, 'dwell': 1, 'spacial': 1, 'happen': 1, 'gracefully': 1, 'murky': 4, 'overthrow': 1, 'wife': 2, 'foo': 1, 'livingroom': 4, 'afghan': 1, 'splice': 3, 'submarine': 1, 'patient': 1, 'alight': 2, 'foothill': 2, 'worldly': 1, 'unzip': 1, 'fell': 3, 'intent': 1, 'impatient': 1, 'magnetic': 1, 'lense': 1, 'frize': 1, 'intertwine': 2, 'knotty': 1, 'photography': 3, 'placidly': 1, 'hippo': 1, 'bra': 1, 'wand': 2, 'result': 1, 'crumble': 2, 'flex': 1, 'intrigue': 1, 'Roseburg': 2, 'bond': 1, 'super': 2, 'bros': 1, 'booklet': 4, 'Luigi': 1, 'wiimote': 3, 'manual': 1, 'participant': 1, 'removable': 1, 'adjustable': 1, 'sprayer': 1, 'massage': 1, 'forth': 2, 'walnut': 1, 'WWII': 1, 'backlit': 1, 'cloak': 1, 'priest': 2, 'buffalo': 4, 'yak': 1, 'dangering': 1, 'wispy': 1, 'dangle': 2, 'suggest': 2, 'witting': 2, 'smoothie': 5, 'milkshake': 1, 'wee': 1, 'plank': 4, 'sure': 3, 'sunbeam': 1, 'cheero': 1, 'angry': 7, 'nevada': 1, 'planner': 2, 'enthusiastic': 1, 'processional': 1, 'nashville': 1, 'Coors': 2, 'titan': 1, 'academic': 1, 'lesion': 1, 'mule': 2, 'deplane': 1, 'matzah': 1, 'passover': 2, 'seder': 1, 'establishment': 1, 'liberty': 1, 'distort': 1, 'onward': 1, 'minivan': 2, 'octopus': 3, 'engulf': 1, 'affair': 1, 'contort': 2, 'decal': 2, 'robin': 1, 'flatten': 1, 'question': 1, 'totally': 1, 'southwest': 3, 'creamy': 2, 'burgundy': 5, 'knight': 4, 'observer': 1, 'Clemson': 1, 'gull': 4, 'Microsoft': 2, 'bannister': 2, 'frameless': 1, 'creation': 2, 'sleeve': 4, 'organizer': 2, 'distinctive': 1, 'simultaneously': 1, 'landfill': 1, 'refreshment': 1, 'redibrown': 1, 'hip': 3, 'visual': 1, 'subtitle': 1, 'pray': 2, 'yell': 1, 'passionately': 1, 'roger': 1, 'Lederer': 1, 'hinge': 1, 'calzone': 2, 'hairdresser': 1, 'barber': 5, 'amateur': 2, 'rearview': 3, 'adjustment': 1, 'lump': 1, 'period': 2, 'en': 3, 'particularly': 2, 'ember': 1, 'tidal': 1, 'future': 4, 'mcclaren': 1, 'electronically': 1, 'punk': 4, 'piggy': 1, 'si': 2, 'tortoise': 2, 'season': 3, 'certainly': 1, 'recyclable': 1, 'polythene': 1, 'outward': 1, 'detour': 3, 'slug': 1, 'leisurely': 2, 'goo': 1, 'propel': 1, 'illegally': 2, 'legally': 1, 'densely': 1, 'hastily': 1, 'rox': 1, 'bellevue': 1, 'disrepair': 3, 'fleece': 1, 'deeply': 1, 'rut': 2, 'illusion': 1, 'ironic': 2, 'scheme': 1, 'choose': 4, 'nibble': 2, 'spigot': 1, 'vibrancy': 1, 'distinct': 1, 'downstairs': 1, 'variously': 1, 'commune': 1, 'droppings': 1, 'blackboard': 2, 'chalkboard': 2, 'identity': 1, 'badly': 2, 'sticky': 3, 'Beale': 1, 'drawbridge': 2, 'humble': 1, 'emotion': 3, 'spill': 3, 'earbuds': 2, 'recorder': 1, 'enclosement': 2, 'manner': 1, 'redecorate': 1, 'gondola': 1, 'quaint': 6, 'valentine': 2, 'grate': 4, 'intensely': 2, 'Ziploc': 1, 'frank': 1, 'Lloyd': 1, 'wright': 1, 'Lego': 4, 'legge': 1, 'angrily': 1, 'flank': 1, 'muti': 1, 'staple': 1, 'avidly': 1, 'compare': 1, 'impression': 3, 'baxter': 1, 'takeoff': 2, 'unattached': 1, 'circus': 4, 'patriot': 1, 'eclosed': 1, 'swell': 1, 'shuttle': 2, 'nasa': 2, 'rapper': 1, 'workbench': 4, 'jigsaw': 1, 'toolshed': 1, 'celebratory': 3, 'capitalism': 1, 'richmond': 1, 'prince': 1, 'paris': 2, 'overstuff': 2, 'already': 3, 'dare': 1, 'flagpole': 2, 'hitchhiker': 1, 'bedroll': 1, 'trumpet': 4, 'bugle': 1, 'designer': 6, 'placard': 2, 'similarly': 1, 'specialty': 2, 'privacy': 4, 'rental': 1, 'cabana': 2, 'lagoon': 2, 'down': 2, 'frittata': 2, 'decoratively': 1, 'crepe': 2, 'Tolley': 1, 'descriptive': 1, 'simplebedroom': 1, 'basic': 4, 'motive': 1, 'address': 1, 'minibus': 1, 'wheeler': 2, 'geranin': 1, 'Fushih': 1, 'fo': 1, 'gully': 2, 'dublin': 1, 'civil': 1, 'defence': 1, 'official': 6, 'stockpile': 1, 'robot': 3, 'statuette': 1, 'columned': 2, 'arboretum': 1, 'greenhouse': 1, 'sneakered': 1, 'roquets': 2, 'reddish': 2, 'streamer': 1, 'confine': 3, 'width': 4, 'trial': 2, 'leach': 2, 'chunk': 1, 'chainlink': 1, 'lumber': 2, 'indifferent': 1, 'atmosphere': 1, 'creature': 2, 'jail': 2, 'prison': 4, 'creepy': 2, 'online': 2, 'lama': 1, 'accessible': 2, 'handrail': 3, 'perfectly': 1, 'deftly': 1, 'sneak': 1, 'walkingfern': 1, 'workout': 1, 'especially': 1, 'embark': 1, 'modest': 1, 'almond': 6, 'quick': 2, 'dreadlock': 3, 'MMM': 2, 'mmmm': 3, 'everywhere': 3, 'tick': 1, 'gator': 1, 'paisley': 1, 'wrench': 1, 'false': 1, 'blackbird': 1, 'skullcap': 1, 'june': 1, 'muscular': 2, 'Darth': 3, 'Vader': 3, 'lunchboxes': 1, 'session': 1, 'cuisine': 1, 'disable': 1, 'alcoholic': 4, 'sample': 5, 'nurture': 1, 'yoghurt': 1, 'upset': 1, 'beech': 2, 'freebee': 1, 'maid': 1, 'throughout': 1, 'cemetary': 1, 'tar': 2, 'gigantic': 2, 'graham': 2, 'derelict': 1, 'swatter': 1, 'australian': 3, 'kerchief': 1, 'warmly': 1, 'sightsee': 1, 'plushier': 1, 'bestbuy': 1, 'astound': 1, 'stake': 1, 'violet': 1, 'snarl': 2, 'Naha': 1, 'tale': 2, 'although': 1, 'outdated': 2, 'cookware': 2, 'encounter': 1, 'buck': 3, 'remnant': 1, 'airy': 2, 'mowhawk': 1, 'mohawk': 1, 'ol': 1, 'porta': 1, 'Dottie': 1, 'maker': 8, 'toiler': 1, 'gleeful': 1, 'fortress': 1, 'silk': 2, 'sailboarder': 2, 'assistance': 1, 'crescent': 2, 'eclipse': 1, 'unimpeded': 1, 'clipboard': 1, 'lunchbox': 1, 'partition': 2, 'gallery': 4, 'pulley': 2, 'nat': 1, 'sprinkler': 2, 'unawares': 1, 'obese': 1, 'tights': 1, 'cel': 1, 'shamrock': 1, 'reuben': 1, 'Greenville': 4, 'bowlful': 2, 'pho': 1, 'misdo': 1, 'cheesesteak': 3, 'cheeseteak': 1, 'chilidog': 1, 'swoop': 4, 'fade': 2, 'completely': 2, 'stray': 1, 'vent': 2, 'keypad': 1, 'cockatiel': 1, 'chive': 2, 'scallion': 1, 'dolphin': 1, 'roar': 1, 'aboard': 5, 'rind': 1, 'uphold': 1, 'carolina': 1, 'household': 2, 'largely': 1, 'chaise': 2, 'slowly': 2, 'reduce': 6, 'umbella': 1, 'cracker': 8, 'harry': 2, 'potter': 2, 'birdfeeder': 1, 'justice': 1, 'nametag': 1, 'nervously': 1, 'neapolitan': 1, 'peruse': 1, 'colander': 2, 'fumble': 1, 'talented': 1, 'ruffle': 2, 'pinstripe': 1, 'humorous': 1, 'universe': 1, 'gelatin': 1, 'crevasse': 1, 'trainer': 3, 'soon': 1, 'prohibitory': 1, 'emperor': 1, 'summit': 2, 'likely': 1, 'uncut': 3, 'peal': 1, 'runaway': 1, 'Forrest': 2, 'recreational': 2, 'lakeside': 1, 'folder': 1, 'inhaler': 1, 'addition': 2, 'ratchet': 2, 'his': 2, 'slushy': 1, 'bathrobe': 1, 'for': 1, 'parka': 2, 'trespass': 3, 'thickly': 1, 'vegetate': 1, 'hon': 1, 'entirely': 2, 'envelope': 2, 'gateway': 1, 'sideline': 2, 'disarray': 1, 'shag': 1, 'dumpling': 1, 'strom': 1, 'guano': 1, 'mighty': 1, 'whities': 1, 'seductively': 2, 'sunshade': 2, 'claw': 3, 'keg': 2, 'impromptu': 1, 'adjoin': 1, 'recent': 1, 'hoarder': 1, 'crunch': 1, 'hairdryer': 12, 'jewelry': 2, 'swarvoski': 1, 'abreast': 1, 'scrub': 3, 'velvet': 2, 'frisk': 1, 'sash': 4, 'rat': 1, 'cruelly': 1, 'disposal': 2, 'latte': 1, 'always': 2, 'trooper': 3, 'that': 1, 'senior': 2, 'interference': 1, 'lattice': 1, 'burlap': 1, 'linoleum': 2, 'clydesdale': 1, 'iPad': 1, 'predatory': 1, 'cove': 2, 'thrower': 1, 'sporty': 1, 'brodding': 1, 'politician': 2, 'patty': 1, 'playfully': 1, 'jackson': 1, 'goalkeeper': 2, 'decide': 2, 'explorer': 1, 'adventurer': 1, 'challenge': 1, 'wakeboarding': 1, 'congest': 3, 'gummy': 9, 'tit': 1, 'loiter': 2, 'david': 1, 'sin': 1, 'rale': 1, 'hiss': 3, 'signature': 4, 'townhouses': 1, 'swowbaord': 1, 'important': 1, 'shy': 1, 'lope': 1, 'flashlight': 4, 'Alyeska': 2, 'melt': 4, 'pyrex': 1, 'scone': 1, 'bock': 1, 'waer': 1, 'paraskiers': 1, 'dingy': 1, 'gutting': 1, 'lure': 2, 'pilers': 1, 'america': 2, 'Charlton': 1, 'true': 1, 'sick': 1, 'strangely': 1, 'shovel': 4, 'outrun': 1, 'broadly': 1, 'specie': 1, 'reverse': 1, 'role': 1, 'coart': 1, 'palomino': 1, 'hue': 1, 'parlor': 1, 'rotten': 2, 'crow': 3, 'patchwork': 1, 'deter': 1, 'affix': 1, 'waveless': 1, 'birdie': 1, 'assess': 1, 'curse': 2, 'whizz': 1, 'pavilion': 1, 'Dubai': 1, 'dolly': 2, 'socket': 1, 'gangster': 1, 'outlandish': 1, 'discuss': 1, 'baptism': 1, 'tailgate': 1, 'exist': 1, 'paradise': 1, 'Gass': 1, 'plateful': 1, 'seer': 1, 'glad': 1, 'marshy': 1, 'firetrucks': 5, 'rescue': 1, 'mission': 2, 'firefighter': 1, 'sheltie': 1, 'efficiency': 2, 'highlight': 3, 'ninja': 1, 'while': 1, 'unsure': 1, 'drain': 4, 'honey': 3, 'joyfully': 1, 'mayonnaise': 3, 'whoa': 2, 'problem': 1, 'naval': 1, 'overload': 3, 'Ponera': 1, 'dream': 1, 'furiously': 1, 'snatch': 1, 'defender': 1, 'kickflip': 1, 'involve': 3, 'boxer': 4, 'multitasking': 1, 'contest': 3, 'fatten': 1, 'continent': 1, 'ashtray': 2, 'pistol': 1, 'acrobatic': 1, 'soundly': 1, 'highrises': 1, 'belch': 1, 'crease': 1, 'trade': 1, 'origami': 4, 'applesauce': 4, 'hazard': 1, 'freckle': 1, 'guilt': 1, 'rob': 1, 'hardware': 1, 'villager': 1, 'isle': 2, 'fascia': 1, 'exactly': 2, 'hazepad': 1, 'encircle': 1, 'eater': 1, 'publication': 1, 'pornography': 1, 'superimpose': 1, 'roadster': 1, 'dash': 1, 'phrase': 1, 'incense': 1, 'divider': 3, 'expansive': 2, 'contraption': 2, 'facet': 1, 'centimeter': 1, 'instructional': 1, 'kernel': 1, 'minter': 1, 'avatar': 1, 'presently': 1, 'swipe': 1, 'trindle': 1, 'trundle': 1, 'ginger': 3, 'medallion': 1, 'bead': 6, 'messenger': 1, 'trowel': 1, 'seller': 3, 'dubiously': 1, 'hamster': 6, 'rodent': 3, 'argue': 1, 'salute': 2, 'peperoni': 1, 'filler': 1, 'grease': 1, 'interlock': 1, 'interconnect': 1, 'coverall': 1, 'escapologist': 1, 'oath': 1, 'grassless': 1, 'roughly': 1, 'fort': 1, 'TVs': 2, 'panoramic': 1, 'teeter': 1, 'prove': 1, 'strenuous': 1, 'latch': 1, 'despondently': 1, 'suicide': 1, 'drift': 2, 'swirly': 2, 'ruby': 1, 'passage': 4, 'safely': 1, 'arret': 1, 'pew': 1, 'swamphen': 1, 'usable': 1, 'anywhere': 1, 'makeover': 2, 'compass': 1, 'mosque': 1, 'gut': 1, 'volunteer': 1, 'sunbathe': 1, 'stormtrooper': 1, 'veldt': 1, 'Arden': 1, 'showcase': 3, 'wise': 1, 'unmatched': 1, 'sprawl': 2, 'vcr': 1, 'diploma': 1, 'pullout': 1, 'think': 4, 'flatscreen': 1, 'swift': 1, 'lucky': 1, 'prey': 1, 'grabbling': 1, 'survive': 1, 'sportsmanship': 2, 'pembroke': 1, 'magdalene': 1, 'fitz': 1, 'occupancy': 1, 'wrinkle': 1, 'arab': 1, 'raid': 1, 'ax': 1, 'mine': 1, 'defect': 1, 'filth': 2, 'grime': 1, 'coastal': 1, 'grayscale': 1, 'topless': 3, 'pasty': 1, 'promotional': 1, 'sharpie': 2, 'lemonade': 1, 'reject': 1, 'footboard': 1, 'vender': 1, 'bicolored': 1, 'newestappliances': 1, 'litmus': 1, 'lurch': 1, 'cloque': 1, 'monsieur': 1, 'confectioner': 1, 'demand': 1, 'dismally': 1, 'wag': 1, 'stale': 1, 'wildflower': 4, 'equally': 1, 'crosscountry': 1, 'ale': 2, 'personnelfrom': 1, 'ceremonial': 1, 'sword': 1, 'midtown': 1, 'thermos': 1, 'longhorn': 1, 'duplicate': 1, 'initial': 1, 'lar': 1, 'chopper': 4, 'elaborately': 1, 'trinket': 2, 'offload': 1, 'demurely': 1, 'ti': 1, 'excitement': 1, 'pulse': 1, 'precision': 1, 'rucksack': 1, 'backpacker': 1, 'duffle': 2, 'bracket': 2, 'seminar': 1, 'pilled': 1, 'paraglider': 1, 'Rocco': 1, 'romanseco': 1, 'wreck': 3, 'derailment': 1, 'underbelly': 1, 'frequently': 1, 'fury': 3, 'mistletoe': 1, 'trellis': 1, 'hart': 1, 'orgasmic': 1, 'qr': 1, 'code': 1, 'gaggle': 1, 'aggressive': 2, 'stepper': 1, 'refl': 1, 'gallon': 1, 'pressure': 1, 'Mercedes': 2, 'clawfoot': 2, 'chubby': 2, 'majolica': 1, 'paperback': 2, 'flee': 1, 'flask': 2, 'relic': 1, 'drainage': 1, 'uphill': 1, 'he': 1, 'ideal': 1, 'altitude': 2, 'shanghai': 1, 'beachgoers': 1, 'tensioned': 1, 'suspension': 1, 'ignore': 1, 'headscarf': 2, 'singapore': 2, 'yucky': 1, 'unhealthy': 1, 'kalakau': 1, 'paoakalani': 2, 'kalakaua': 1, 'treadmill': 1, 'laboratory': 2, 'mr': 7, 'clause': 5, 'sleigh': 3, 'microscope': 1, 'abnormal': 1, 'ironically': 1, 'primarily': 1, 'bauminghausstrasse': 1, 'germany': 1, 'sewage': 1, 'cringle': 1, 'husband': 1, 'inner': 1, 'experience': 1, 'idly': 2, 'diverse': 1, 'greek': 1, 'monorail': 1, 'ballpark': 3, 'soccerball': 1, 'outskirt': 1, 'freshener': 1, 'zipper': 2, 'rafter': 2, 'announce': 1, 'workman': 1, 'punch': 2, 'frass': 1, 'brief': 1, 'Ericsson': 1, 'observantly': 1, 'goodmayes': 3, 'april': 2, 'unusually': 2, 'multistory': 1, 'bob': 2, 'vacate': 1, 'chamber': 1, 'significant': 1, 'modification': 1, 'march': 3, 'upclose': 1, 'directory': 1, 'pike': 1, 'windsail': 1, 'clam': 2, 'Nic': 1, 'caddy': 1, 'properly': 1, 'prohibition': 1, 'tomotates': 1, 'doggie': 2, 'airborn': 2, 'muzzle': 1, 'afro': 2, 'vandalism': 1, 'birdhouse': 1, 'gourd': 1, 'bullpen': 1, 'mutant': 1, 'zebroid': 1, 'arr': 1, 'mast': 3, 'due': 1, 'wallow': 1, 'outbuilding': 1, 'specialize': 1, 'convey': 1, 'unwelcoming': 1, 'plat': 1, 'damp': 2, 'generate': 1, 'leaguer': 1, 'negative': 1, 'beloved': 1, 'bonnie': 1, 'tyler': 1, 'album': 1, 'geyer': 1, 'snail': 2, 'triumph': 2, 'showroom': 2, 'informational': 2, 'mache': 2, 'cactus': 2, 'copse': 1, 'minion': 1, 'despicable': 1, 'taker': 1, 'out': 2, 'interstate': 1, 'vampire': 1, 'temptress': 1, 'sundae': 4, 'astronaut': 4, 'comically': 1, 'agitate': 1, 'patter': 1, 'disorderly': 1, 'whiz': 1, 'milker': 5, 'pasturage': 1, 'braze': 1, 'icon': 1, 'portuguese': 1, 'rec': 1, 'taco': 1, 'affection': 1, 'projector': 1, 'movable': 1, 'receptionist': 1, 'embroidery': 1, 'lunchtime': 1, 'cinder': 1, 'apprehensive': 1, 'scarce': 1, 'embroider': 1, 'jewish': 2, 'hone': 1, 'unoccupied': 1, 'pavers': 1, 'Bacardi': 2, 'rum': 1, 'slouch': 1, 'whiskey': 1, 'mutton': 1, 'nightime': 1, 'shiloh': 1, 'baptist': 1, 'edible': 2, 'tibetan': 1, 'smirk': 2, 'mannequin': 2, 'suburbia': 1, 'prescription': 1, 'melon': 1, 'international': 1, 'transmit': 1, 'bulky': 1, 'abundance': 2, 'guinness': 1, 'joust': 4, 'faire': 1, 'powerful': 1, 'classical': 1, 'Walkling': 1, 'zombie': 6, 'actor': 1, 'dishevel': 1, 'greengrocer': 1, 'multicolors': 1, 'contend': 1, 'novelty': 2, 'gag': 1, 'pilgrim': 1, 'jackpot': 3, 'mulholland': 1, 'donsie': 1, 'jumper': 1, 'bartender': 4, 'naturalistic': 2, 'blockade': 1, 'subtly': 1, 'sophisticate': 1, 'acacia': 1, 'plaint': 1, 'restore': 1, 'cascade': 1, 'snowcapped': 1, 'gee': 2, 'dingeys': 1, 'fruity': 4, 'genitalia': 1, 'matador': 1, 'weathervane': 1, 'bink': 1, 'ambulance': 5, 'egyptian': 1, 'cleopatra': 1, 'diffident': 1, 'express': 2, 'popcorn': 1, 'pity': 1, 'patten': 1, 'radiate': 1, 'crab': 7, 'po': 1, 'speedboat': 3, 'Coulson': 1, 'racetrack': 1, 'defend': 2, 'withe': 1, 'trap': 1, 'thruway': 2, 'roadwork': 1, 'ether': 1, 'majority': 1, 'hyrandts': 1, 'capitol': 1, 'handler': 1, 'vapor': 1, 'lightning': 1, 'comet': 1, 'NSF': 1, 'loop': 1, 'unidentified': 1, 'eccentric': 1, 'bye': 1, 'turbine': 1, 'battleship': 1, 'sandbox': 1, 'gazebo': 4, 'armour': 1, 'gum': 1, 'century': 1, 'acme': 1, 'construct': 1, 'wierd': 1, 'glacier': 1, 'saltine': 1, 'om': 1, 'prominently': 1, 'analog': 1, 'Hilton': 3, 'cranberry': 1, 'wrest': 1, 'friday': 1, 'bowel': 1, 'disembody': 1, 'sunburn': 1, 'protest': 1, 'probe': 1, 'otter': 3, 'partlet': 1, 'cost': 1, 'ecru': 1, 'ago': 1, 'novel': 1, 'porkchop': 1, 'penne': 1, 'barbershop': 1, 'Outhe': 1, 'winery': 8, 'pic': 1, 'estate': 1, 'shudder': 1, 'sheer': 1, 'bum': 1, 'shun': 1, 'cay': 1, 'conveniently': 1, 'passerby': 1, 'spam': 5, 'breakwater': 1, 'victoria': 2, 'festive': 1, 'blizzard': 1, 'bullhorn': 1, 'ann': 2, 'technological': 1, 'Toowoomba': 1, 'tue': 1, 'tasteful': 1, 'luke': 2, 'upend': 1, 'longobard': 2, 'worthy': 1, 'sauna': 1, 'actual': 1, 'lf': 1, 'madly': 1, 'tenderly': 1, 'bosch': 1, 'tangle': 1, 'stoic': 1, 'ho': 1, 'oh': 2, 'pe': 1, 'kauai': 1, 'huskie': 1, 'rawhide': 1, 'rockaway': 2, 'hors': 1, 'oeuvre': 1, 'coworker': 1, 'THI': 1, 'annoyance': 1, 'autograph': 1, 'whippet': 1, 'improvement': 2, 'zero': 1, 'opener': 1, 'sloe': 1, 'wiener': 1, 'getaway': 1, 'informal': 1, 'fasten': 6, 'postal': 1, 'texture': 1, 'evict': 1, 'interview': 2, 'convorbelt': 1, 'poppy': 2, 'ingriedents': 1, 'mischievously': 1, 'pall': 1, 'indirect': 1, 'thereby': 1, 'patina': 1, 'mantis': 1, 'skit': 1, 'twisty': 1, 'sundried': 1, 'undecorated': 1, 'leak': 2, 'gatherer': 1, 'regional': 1, 'bookend': 1, 'saw': 3, 'labcoat': 1, 'handsaw': 1, 'hacksaw': 1, 'doctor': 1, 'rambunctious': 1, 'loll': 1, 'midwestern': 1, 'rebutton': 1, 'topic': 1, 'pleasant': 1, 'mush': 1, 'fanciful': 1, 'midsized': 1, 'corder': 1, 'mi': 1, 'tiara': 2, 'ment': 1, 'suspender': 1, 'bonnet': 1, 'amish': 1, 'bulletin': 1, 'rapidly': 1, 'junkyard': 1, 'benefit': 1, 'worry': 2, 'sarcastic': 1, 'comment': 1, 'wolf': 2, 'tumble': 1, 'curio': 1, 'spraypaint': 1, 'easter': 2, 'analogue': 1, 'conquer': 1, 'desolate': 2, 'gymnasium': 1, 'vehemently': 1, 'pitbull': 1, 'pail': 1, 'junior': 1, 'reb': 1, 'intricately': 1, 'woody': 1, 'accelerate': 1, 'shipment': 1, 'dramatic': 1, 'vista': 1, 'zoom': 1, 'jumble': 1, 'ghost': 2, 'individually': 1, 'idiot': 1, 'chomp': 1, 'groomer': 1, 'shroud': 1, 'able': 1, 'parasurfer': 1, 'trip': 1, 'perplex': 1, 'quote': 1, 'ist': 1, 'notch': 1, 'puma': 1, 'griffin': 1, 'afar': 1, 'hydrogen': 1, 'spired': 1, 'target': 1, 'replacement': 1, 'unmowed': 1, 'Kawasaki': 1, 'birdseed': 2, 'droopy': 1, 'bandanna': 3, 'illustrate': 1, 'hardly': 1, 'lavatory': 1, 'cubby': 1, 'jaragua': 1, 'bard': 1, 'houseplant': 1, 'altar': 1, 'cocker': 1, 'spaniel': 1, 'wilson': 1, 'seaport': 1, 'lark': 1, 'manufacturer': 1, 'watcher': 1, 'treetop': 1, 'upholster': 1, 'hungry': 1, 'hesitant': 1, 'cradle': 1, 'crouton': 1, 'spicy': 1, 'Tortola': 3, 'possession': 1, 'airway': 1, 'deploy': 1, 'hearty': 1, 'kitchenette': 1, 'joystick': 1, 'penalty': 1, 'malaysia': 1, 'malaysian': 2, 'expressway': 1, 'perpendicular': 1, 'vicious': 1, 'Clydesdales': 1, 'surreal': 1, 'spit': 1, 'pigtail': 1, 'rump': 1, 'cardinal': 2, 'letterbox': 1, 'het': 1, 'afterburner': 1, 'virginia': 1, 'fetlock': 1, 'Nilla': 1, 'wafer': 1, 'smooth': 1, 'pomegranate': 2, 'delicately': 1, 'stacker': 1, 'kitboarding': 1, 'Moritz': 1, 'al': 1, 'jokingly': 1, 'entitle': 1, 'yo': 2, 'chirata': 1, 'thee': 1, 'Pavillion': 1, 'importance': 1, 'lilypads': 1, 'slam': 1, 'philadelphia': 2, 'Phillips': 1, 'mock': 1, 'selkies': 1, 'slick': 1, 'wisconsin': 2, 'revolve': 1, 'dainty': 1, 'feedbag': 1, 'pyramid': 1, 'masai': 1, 'pacific': 2, 'del': 2, 'monte': 2, 'Bly': 1, 'baseboard': 1, 'sledge': 1, 'horserace': 1, 'fruitful': 2, 'sweeper': 2, 'sanitary': 1, 'nattily': 1, 'arugula': 1, 'gorraf': 1, 'askew': 1, 'website': 2, 'Pru': 1, 'rightful': 1, 'snowplow': 1, 'dismount': 2, 'roadsigns': 1, 'forefront': 1}\n"
     ]
    }
   ],
   "source": [
    "print(bag_of_dict)"
   ]
  },
  {
   "cell_type": "code",
   "execution_count": 76,
   "metadata": {},
   "outputs": [],
   "source": [
    "def build_BoW_clean(bdict, threshold = 10):\n",
    "    bow_clean = []\n",
    "    for key, val in bdict.items():\n",
    "        if val > threshold:\n",
    "            bow_clean.append(key)\n",
    " \n",
    "    print(\"after cutting: \" + str(len(bow_clean)))\n",
    "    return bow_clean"
   ]
  },
  {
   "cell_type": "code",
   "execution_count": 77,
   "metadata": {},
   "outputs": [
    {
     "name": "stdout",
     "output_type": "stream",
     "text": [
      "after cutting: 1658\n"
     ]
    }
   ],
   "source": [
    "bag_of_words_short = build_BoW_clean(bag_of_dict, 10)"
   ]
  },
  {
   "cell_type": "code",
   "execution_count": 113,
   "metadata": {},
   "outputs": [
    {
     "name": "stdout",
     "output_type": "stream",
     "text": [
      "['skateboarder', 'put', 'show', 'use', 'picnic', 'table', 'stage', 'pull', 'trick', 'top', 'man', 'rid', 'boarder', 'person', 'crowd', 'watch', 'bowl', 'soup', 'carrot', 'noodle', 'food', 'ready', 'eat', 'sit', 'next', 'chopstick', 'tasty', 'serve', 'someone', 'enjoy', 'asian', 'walk', 'across', 'street', 'busy', 'intersection', 'ice', 'cream', 'truck', 'drive', 'behind', 'cross', 'near', 'young', 'boy', 'throw', 'frisbee', 'grassy', 'field', 'park', 'tree', 'line', 'kid', 'city', 'bright', 'green', 'child', 'yard', 'hold', 'bat', 'back', 'baseball', 'little', 'black', 'clothe', 'shoulder', 'fence', 'play', 'small', 'bedroom', 'desk', 'computer', 'chair', 'front', 'brown', 'beside', 'window', 'big', 'donut', 'feed', 'another', 'hand', 'blonde', 'look', 'hole', 'doughnut', 'powder', 'sugar', 'face', 'power', 'cover', 'flood', 'part', 'frost', 'stand', 'wood', 'wear', 'hat', 'glass', 'sunglass', 'grass', 'tie', 'crown', 'blue', 'shirt', 'weird', 'around', 'brick', 'build', 'sign', 'right', 'outside', 'white', 'image', 'empty', 'old', 'picture', 'tent', 'forest', 'silver', 'trailer', 'road', 'two', 'bus', 'motor', 'home', 'photo', 'bunch', 'luggage', 'lay', 'area', 'rug', 'several', 'piece', 'floor', 'travel', 'bag', 'carpet', 'player', 'game', 'guy', 'plate', 'take', 'pitch', 'attempt', 'hit', 'catcher', 'umpire', 'people', 'squat', 'group', 'four', 'stack', 'set', 'background', 'traffic', 'give', 'direction', 'display', 'red', 'fill', 'helmet', 'batter', 'first', 'men', 'car', 'tunnel', 'pass', 'middle', 'go', 'wine', 'bottle', 'woman', 'surround', 'many', 'tall', 'structure', 'lot', 'school', 'student', 'towards', 'pair', 'far', 'away', 'view', 'backpack', 'like', 'college', 'cluster', 'rise', 'foreground', 'series', 'snowboarder', 'slope', 'photograph', 'time', 'glide', 'forward', 'six', 'board', 'hill', 'different', 'cake', 'light', 'candle', 'birthday', 'yellow', 'train', 'past', 'station', 'track', 'single', 'stop', 'large', 'long', 'steel', 'commuter', 'rail', 'cat', 'monitor', 'kitten', 'try', 'interact', 'television', 'screen', 'clock', 'statue', 'tower', 'european', 'giraffe', 'dirt', 'hot', 'sun', 'dry', 'landscape', 'gaze', 'side', 'desert', 'crouch', 'mid', 'air', 'catch', 'flight', 'fly', 'jump', 'snowy', 'mountain', 'grab', 'church', 'cathedral', 'mark', 'bed', 'bird', 'appear', 'fluffy', 'feather', 'nest', 'head', 'baby', 'dog', 'grind', 'bike', 'edge', 'cobblestone', 'bicycle', 'sidewalk', 'sleep', 'puppy', 'rest', 'surfboard', 'close', 'shore', 'surfer', 'wave', 'onto', 'beach', 'multiple', 'live', 'room', 'counter', 'laptop', 'advertisement', 'say', 'arrange', 'lock', 'chain', 'rack', 'lady', 'soccer', 'girl', 'kick', 'ball', 'run', 'stuff', 'animal', 'tan', 'teddy', 'bear', 'gas', 'pad', 'vehicle', 'position', 'push', 'cute', 'foot', 'beautiful', 'talk', 'phone', 'smile', 'name', 'tag', 'cell', 'corner', 'curtain', 'call', 'telephone', 'crate', 'hay', 'peek', 'gate', 'case', 'pen', 'open', 'tennis', 'court', 'racquet', 'pick', 'three', 'racket', 'container', 'sweet', 'sandwich', 'bun', 'grape', 'box', 'dinner', 'tray', 'cheese', 'include', 'variety', 'motorcycle', 'along', 'number', 'motorbike', 'kitchen', 'scene', 'focus', 'refrigerator', 'fridge', 'contain', 'freezer', 'stainless', 'new', 'winter', 'sky', 'cloudy', 'day', 'center', 'fresh', 'tulip', 'vase', 'flower', 'colorful', 'sand', 'shoreline', 'dress', 'ride', 'horse', 'pink', 'dresser', 'underneath', 'wooden', 'narrow', 'shelf', 'couple', 'bench', 'wild', 'dock', 'waterway', 'keep', 'indoors', 'star', 'enclose', 'din', 'full', 'shower', 'bathroom', 'stall', 'wall', 'see', 'perch', 'bare', 'limb', 'eight', 'branch', 'overcast', 'mother', 'embrace', 'pedestrian', 'kiss', 'hug', 'check', 'pas', 'hair', 'purple', 'spot', 'shade', 'dark', 'necktie', 'decorate', 'load', 'unload', 'passenger', 'space', 'low', 'ceiling', 'sunlight', 'angle', 'style', 'mouse', 'type', 'arm', 'one', 'work', 'camera', 'blanket', 'cellphone', 'toddler', 'bend', 'neck', 'stretch', 'zoo', 'also', 'various', 'broccoli', 'slice', 'dish', 'start', 'straight', 'ahead', 'grey', 'pose', 'adult', 'female', 'mound', 'cub', 'plane', 'jet', 'airplane', 'clear', 'jumbo', 'graffiti', 'write', 'paint', 'door', 'entrance', 'salad', 'corn', 'gravy', 'pie', 'bread', 'steam', 'roll', 'seat', 'interest', 'metal', 'bush', 'garden', 'inside', 'walkway', 'gray', 'plant', 'bakery', 'customer', 'shop', 'treat', 'suitcase', 'hotel', 'king', 'size', 'furniture', 'distance', 'together', 'plain', 'pitcher', 'coach', 'uniform', 'engage', 'diamond', 'alone', 'chest', 'beverage', 'seven', 'drink', 'party', 'friend', 'square', 'hang', 'organize', 'platter', 'vegetable', 'paste', 'prepare', 'sauce', 'tomato', 'fire', 'hydrant', 'place', 'wooded', 'break', 'water', 'pot', 'bald', 'umbrella', 'rain', 'leave', 'rainy', 'wait', 'aerial', 'tabby', 'orange', 'lie', 'strip', 'brightly', 'color', 'chandelier', 'upside', 'controller', 'video', 'equipment', 'remote', 'toilet', 'paper', 'directly', 'roof', 'double', 'decker', 'tour', 'ad', 'enter', 'downtown', 'extend', 'advertise', 'pan', 'make', 'glaze', 'cookie', 'sheet', 'machine', 'suit', 'outdoor', 'event', 'design', 'sink', 'mirror', 'consist', 'fixture', 'either', 'haired', 'office', 'atop', 'get', 'wire', 'shoe', 'slide', 'basket', 'outdoors', 'curl', 'archway', 'figure', 'pretty', 'way', 'cut', 'utensil', 'round', 'snow', 'railroad', 'come', 'enclosure', 'huge', 'meal', 'restaurant', 'boat', 'float', 'harbor', 'seagull', 'ship', 'marina', 'patio', 'wit', 'nose', 'closeup', 'graze', 'zebra', 'mount', 'block', 'attach', 'high', 'microwave', 'motion', 'point', 'tub', 'cabinet', 'thing', 'tile', 'concrete', 'daytime', 'warm', 'public', 'crust', 'bake', 'berry', 'strawberry', 'file', 'good', 'cook', 'fruit', 'muffin', 'sort', 'Nintendo', 'Wii', 'formation', 'row', 'navy', 'fighter', 'neatly', 'fold', 'pile', 'store', 'match', 'herd', 'lounge', 'bull', 'pasture', 'cow', 'meadow', 'cattle', 'stick', 'kind', 'jar', 'pottery', 'fall', 'arrangement', 'bow', 'theme', 'moon', 'character', 'transportation', 'military', 'attire', 'formal', 'stable', 'fancy', 'outfit', 'frame', 'reflection', 'gold', 'laugh', 'gather', 'sunny', 'among', 'elderly', 'pizza', 'blond', 'others', 'lean', 'hitter', 'whole', 'meat', 'leafy', 'lettuce', 'soda', 'kite', 'windy', 'sail', 'clean', 'checker', 'sweater', 'bottom', 'share', 'lamp', 'book', 'net', 'library', 'love', 'bookshelf', 'couch', 'read', 'wide', 'professional', 'progress', 'ramp', 'pole', 'giant', 'move', 'path', 'tube', 'sculpture', 'staircase', 'river', 'elaborate', 'highway', 'industrial', 'asphalt', 'pave', 'construction', 'oven', 'appliance', 'item', 'mini', 'toaster', 'cup', 'elephant', 'accessory', 'lid', 'jacket', 'multicolored', 'suite', 'vas', 'sofa', 'hike', 'night', 'silhouette', 'family', 'grow', 'smart', 'electronics', 'sandy', 'wind', 'amongst', 'beard', 'cheesy', 'olive', 'onion', 'twin', 'rock', 'stadium', 'swing', 'action', 'short', 'shape', 'semi', 'circle', 'cushion', 'mat', 'balloon', 'curb', 'steeple', 'roman', 'numeral', 'stone', 'meter', 'connect', 'deep', 'skate', 'skateboard', 'leather', 'tire', 'oval', 'towel', 'vanity', 'panel', 'glow', 'roadway', 'vintage', 'upright', 'unique', 'mop', 'subway', 'stalk', 'leaf', 'chop', 'shoot', 'uncooked', 'glove', 'mitt', 'Elfie', 'self', 'portrait', 'toss', 'rice', 'veggie', 'potato', 'mask', 'crosswalk', 'fork', 'whip', 'ski', 'surface', 'skier', 'country', 'island', 'nearby', 'body', 'approach', 'land', 'half', 'device', 'pillow', 'floral', 'decorative', 'ledge', 'mushroom', 'dirty', 'commercial', 'provide', 'need', 'antique', 'step', 'furry', 'rocky', 'dead', 'climb', 'perform', 'cargo', 'ocean', 'beef', 'spinach', 'feature', 'bean', 'palm', 'roam', 'cruise', 'tv', 'overhead', 'pier', 'lake', 'even', 'flock', 'bite', 'pastry', 'coffee', 'toward', 'balance', 'house', 'well', 'almost', 'decoration', 'flat', 'den', 'residential', 'mobile', 'beneath', 'personal', 'windowsill', 'interior', 'pond', 'natural', 'log', 'race', 'barrier', 'obstacle', 'rider', 'banana', 'bin', 'produce', 'pack', 'brush', 'teeth', 'hallway', 'bell', 'pepper', 'knife', 'golden', 'ornate', 'sale', 'fashion', 'district', 'word', 'visible', 'wipe', 'leg', 'parent', 'jetliner', 'tarmac', 'male', 'coat', 'cement', 'iron', 'relax', 'roast', 'something', 'fry', 'grill', 'lush', 'newspaper', 'end', 'clip', 'wallpaper', 'modern', 'mouth', 'carry', 'console', 'duck', 'flow', 'lone', 'swim', 'loaf', 'ingredient', 'sticker', 'fast', 'depict', 'skiis', 'napkin', 'stare', 'unmake', 'turn', 'quilt', 'slightly', 'mess', 'stave', 'snuggle', 'apron', 'farm', 'bank', 'hotdog', 'ketchup', 'mustard', 'clocktower', 'bookcase', 'comforter', 'lead', 'bath', 'propeller', 'world', 'war', 'transit', 'driver', 'officer', 'police', 'egg', 'airport', 'runway', 'worker', 'cloud', 'gear', 'still', 'us', 'gentleman', 'photographer', 'chicken', 'wrapper', 'onlooker', 'wed', 'groom', 'bride', 'control', 'rope', 'tow', 'lick', 'dip', 'content', 'paw', 'stair', 'granite', 'countertop', 'sport', 'toy', 'burger', 'order', 'hamburger', 'french', 'blur', 'blurry', 'furnish', 'sheep', 'barn', 'pineapple', 'plastic', 'post', 'sausage', 'condiment', 'indoor', 'snowboard', 'unusual', 'tram', 'motorcyclist', 'cyclist', 'dozen', 'partially', 'trim', 'spoon', 'owner', 'ear', 'wash', 'muddy', 'downhill', 'skivers', 'sing', 'grassland', 'electric', 'within', 'neat', 'apartment', 'scissor', 'intently', 'caption', 'parachute', 'foggy', 'weather', 'five', 'garage', 'begin', 'aircraft', 'accent', 'bathtub', 'hardwood', 'nice', 'fish', 'eye', 'cart', 'wagon', 'sell', 'pant', 'habitat', 'ripe', 'bundle', 'disc', 'flip', 'surf', 'sea', 'yacht', 'stream', 'wet', 'pathway', 'infant', 'blender', 'clutter', 'electronic', 'cooky', 'goat', 'hook', 'tongue', 'draw', 'carriage', 'farmer', 'fake', 'story', 'candy', 'silly', 'factory', 'smoke', 'shadow', 'kayak', 'rapid', 'paddle', 'snack', 'return', 'nestle', 'gravel', 'cuddle', 'booth', 'record', 'cloth', 'airline', 'year', 'sunset', 'dusk', 'nightstand', 'bedspread', 'freeway', 'urban', 'chocolate', 'keyboard', 'desktop', 'with', 'handle', 'circular', 'business', 'jungle', 'guide', 'pool', 'massive', 'state', 'pavement', 'butter', 'poster', 'peel', 'measure', 'chip', 'kneel', 'base', 'meet', 'neighborhood', 'alley', 'barb', 'calm', 'billboard', 'town', 'york', 'stunt', 'touch', 'wing', 'cone', 'kettle', 'stir', 'balcony', 'elegant', 'airliner', 'african', 'american', 'message', 'text', 'alter', 'apple', 'bridge', 'adorn', 'scarf', 'platform', 'knee', 'tuck', 'crib', 'asleep', 'sprinkle', 'trunk', 'aluminum', 'foil', 'tin', 'hard', 'reach', 'can', 'bar', 'performer', 'parasol', 'flush', 'dugout', 'assort', 'seem', 'haul', 'arrow', 'supply', 'pin', 'thumb', 'nicely', 'observe', 'system', 'curve', 'bouquet', 'shallow', 'cellular', 'engine', 'festival', 'practice', 'golf', 'toast', 'wicker', 'straw', 'oriental', 'competition', 'horseback', 'trail', 'pipe', 'porch', 'faucet', 'toothbrush', 'holder', 'alongside', 'rear', 'section', 'father', 'son', 'help', 'mostly', 'liquid', 'crest', 'airborne', 'tiny', 'fun', 'barren', 'headphone', 'tap', 'much', 'kitty', 'miss', 'rusty', 'pickup', 'great', 'flag', 'juice', 'van', 'finish', 'canopy', 'plow', 'steer', 'stool', 'model', 'page', 'lap', 'pepperoni', 'extra', 'jean', 'wetsuit', 'shrub', 'wander', 'sailboat', 'para', 'stripe', 'wake', 'dimly', 'rub', 'partly', 'metallic', 'drawer', 'tusk', 'bay', 'helicopter', 'banner', 'movie', 'arch', 'softball', 'pet', 'life', 'radio', 'carve', 'odd', 'separate', 'taxi', 'scooter', 'lane', 'english', 'overpass', 'exit', 'indicate', 'mustache', 'string', 'league', 'spectator', 'cop', 'gesture', 'policeman', 'cycle', 'microphone', 'homemade', 'mug', 'thin', 'individual', 'hear', 'market', 'prop', 'trash', 'barrel', 'adorable', 'lawn', 'tank', 'commode', 'dispenser', 'multi', 'cap', 'follow', 'doorway', 'lift', 'wrap', 'mud', 'cable', 'age', 'sideways', 'member', 'team', 'bikers', 'speak', 'podium', 'listen', 'heavy', 'bamboo', 'breast', 'rural', 'pour', 'spread', 'transport', 'tarp', 'present', 'amount', 'savannah', 'wad', 'terrain', 'purse', 'backyard', 'railway', 'delivery', 'spin', 'jockey', 'third', 'milk', 'shake', 'safety', 'complete', 'christmas', 'art', 'hide', 'cast', 'ben', 'london', 'castle', 'feeder', 'chew', 'messy', 'tea', 'breakfast', 'cabin', 'styrofoam', 'lunch', 'pickle', 'price', 'dessert', 'goose', 'elevate', 'dual', 'urinal', 'turkey', 'camouflage', 'cage', 'polka', 'dot', 'canoe', 'bicyclist', 'miniature', 'doll', 'holiday', 'th', 'simple', 'ceramic', 'streetlight', 'really', 'quiet', 'iPod', 'scatter', 'warn', 'speaker', 'beer', 'dig', 'spray', 'restroom', 'garbage', 'hose', 'tidy', 'assortment', 'fireplace', 'beige', 'dishwasher', 'tape', 'sled', 'lemon', 'mix', 'skyline', 'upon', 'neon', 'stoplight', 'parade', 'vest', 'rodeo', 'stereo', 'german', 'pigeon', 'shiny', 'grocery', 'skyscraper', 'finger', 'fan', 'overlook', 'calf', 'collar', 'pay', 'shin', 'label', 'museum', 'raise', 'quite', 'blind', 'special', 'chef', 'raft', 'boogie', 'thick', 'ring', 'marble', 'happy', 'nap', 'hillside', 'collection', 'route', 'canal', 'spatula', 'costume', 'pattern', 'reflect', 'scenic', 'china', 'sill', 'burn', 'blow', 'buffet', 'cafe', 'windsurf', 'basin', 'hood', 'dive', 'windshield', 'cab', 'cupcake', 'shirtless', 'firetruck', 'pine', 'washer', 'hour', 'link', 'huddle', 'craft', 'crew', 'project', 'army', 'sesame', 'seed', 'skillet', 'ham', 'remove', 'anchor', 'stance', 'speed', 'ram', 'ribbon', 'tail', 'fully', 'free', 'strange', 'entertainment', 'mantle', 'opposite', 'without', 'horn', 'stock', 'numerous', 'hospital', 'rim', 'jersey', 'terminal', 'note', 'roadside', 'swan', 'signal', 'map', 'menu', 'suspend', 'strap', 'tether', 'collage', 'countryside', 'fair', 'let', 'calico', 'fight', 'object', 'course', 'robe', 'tourist', 'print', 'slaw', 'sniff', 'heart', 'waffle', 'bacon', 'pancake', 'silverware', 'hilly', 'audience', 'deck', 'adjust', 'split', 'plaque', 'tractor', 'locomotive', 'freight', 'fix', 'steep', 'wheel', 'santa', 'storage', 'vegetation', 'trolley', 'button', 'press', 'sub', 'pasta', 'tip', 'football', 'delicious', 'funny', 'sneaker', 'cartoon', 'card', 'teenager', 'process', 'briefcase', 'shred', 'skiver', 'cold', 'scale', 'tropical', 'Starbucks', 'stain', 'mixer', 'skater', 'pony', 'dance', 'teen', 'cereal', 'chinese', 'flamingo', 'logo', 'wilderness', 'mall', 'plaid', 'level', 'port', 'toothpaste', 'figurine', 'basketball', 'tattoo', 'find', 'lamb', 'decor', 'letter', 'locate', 'abandon', 'porcelain', 'fountain', 'cubicle', 'mean', 'vendor', 'range', 'unfinished', 'depot', 'poke', 'nut', 'skirt', 'cauliflower', 'tool', 'plaza', 'diner', 'leash', 'boot', 'valley', 'storm', 'resort', 'lodge', 'rustic', 'cowboy', 'cupboard', 'illuminate', 'unit', 'steak', 'leap', 'goggle', 'cool', 'chase', 'tee', 'chili', 'necklace', 'notebook', 'suburban', 'bagel', 'tilt', 'layer', 'protective', 'soap', 'lighthouse', 'bust', 'medium', 'bleacher', 'package', 'soak', 'test', 'mattress', 'pajama', 'pear', 'fee', 'patch', 'avenue', 'planter', 'tuxedo', 'rainbow', 'moor', 'lobby', 'ultimate', 'exhibit', 'metro', 'tiger', 'fabric', 'driveway', 'parrot', 'beak', 'rust', 'span', 'trough', 'bucket', 'polar', 'pedestal', 'cliff', 'stationary', 'greet', 'meatball', 'cutter', 'racer', 'baggage', 'claim', 'iPhone', 'knit', 'crash', 'crane', 'buy', 'foreign', 'language', 'soldier', 'clay', 'soar', 'printer', 'peanut', 'toiletry', 'dump', 'environment', 'entree', 'deer', 'dusty', 'form', 'main', 'magazine', 'pregnant', 'compartment', 'ladder', 'tooth', 'classroom', 'easy', 'guitar', 'cinnamon', 'equip', 'sharp', 'strike', 'belt', 'panda', 'buggy', 'parasailing', 'donkey', 'guest', 'alcohol', 'freshly', 'celebrate', 'awning', 'poodle', 'roller', 'cigarette', 'cardboard', 'carton', 'sock', 'highchair', 'hairy', 'mountainous', 'clown', 'monkey', 'hairdryer']\n"
     ]
    }
   ],
   "source": [
    "print(bag_of_words_short)"
   ]
  },
  {
   "cell_type": "markdown",
   "metadata": {},
   "source": [
    "### TFIDF"
   ]
  },
  {
   "cell_type": "code",
   "execution_count": 123,
   "metadata": {},
   "outputs": [
    {
     "name": "stdout",
     "output_type": "stream",
     "text": [
      "(10000, 3017)\n",
      "(3017,)\n",
      "(10000, 3017)\n"
     ]
    },
    {
     "data": {
      "text/html": [
       "<div>\n",
       "<style scoped>\n",
       "    .dataframe tbody tr th:only-of-type {\n",
       "        vertical-align: middle;\n",
       "    }\n",
       "\n",
       "    .dataframe tbody tr th {\n",
       "        vertical-align: top;\n",
       "    }\n",
       "\n",
       "    .dataframe thead th {\n",
       "        text-align: right;\n",
       "    }\n",
       "</style>\n",
       "<table border=\"1\" class=\"dataframe\">\n",
       "  <thead>\n",
       "    <tr style=\"text-align: right;\">\n",
       "      <th></th>\n",
       "      <th>abandon</th>\n",
       "      <th>aboard</th>\n",
       "      <th>abstract</th>\n",
       "      <th>accent</th>\n",
       "      <th>accessory</th>\n",
       "      <th>accident</th>\n",
       "      <th>accompany</th>\n",
       "      <th>across</th>\n",
       "      <th>action</th>\n",
       "      <th>ad</th>\n",
       "      <th>...</th>\n",
       "      <th>yellow</th>\n",
       "      <th>yogurt</th>\n",
       "      <th>york</th>\n",
       "      <th>young</th>\n",
       "      <th>youth</th>\n",
       "      <th>yummy</th>\n",
       "      <th>zebra</th>\n",
       "      <th>zone</th>\n",
       "      <th>zoo</th>\n",
       "      <th>zucchini</th>\n",
       "    </tr>\n",
       "  </thead>\n",
       "  <tbody>\n",
       "    <tr>\n",
       "      <th>0</th>\n",
       "      <td>0.0</td>\n",
       "      <td>0.0</td>\n",
       "      <td>0.0</td>\n",
       "      <td>0.0</td>\n",
       "      <td>0.0</td>\n",
       "      <td>0.0</td>\n",
       "      <td>0.0</td>\n",
       "      <td>0.000000</td>\n",
       "      <td>0.0</td>\n",
       "      <td>0.0</td>\n",
       "      <td>...</td>\n",
       "      <td>0.0</td>\n",
       "      <td>0.0</td>\n",
       "      <td>0.0</td>\n",
       "      <td>0.000000</td>\n",
       "      <td>0.0</td>\n",
       "      <td>0.0</td>\n",
       "      <td>0.0</td>\n",
       "      <td>0.0</td>\n",
       "      <td>0.0</td>\n",
       "      <td>0.0</td>\n",
       "    </tr>\n",
       "    <tr>\n",
       "      <th>1</th>\n",
       "      <td>0.0</td>\n",
       "      <td>0.0</td>\n",
       "      <td>0.0</td>\n",
       "      <td>0.0</td>\n",
       "      <td>0.0</td>\n",
       "      <td>0.0</td>\n",
       "      <td>0.0</td>\n",
       "      <td>0.000000</td>\n",
       "      <td>0.0</td>\n",
       "      <td>0.0</td>\n",
       "      <td>...</td>\n",
       "      <td>0.0</td>\n",
       "      <td>0.0</td>\n",
       "      <td>0.0</td>\n",
       "      <td>0.000000</td>\n",
       "      <td>0.0</td>\n",
       "      <td>0.0</td>\n",
       "      <td>0.0</td>\n",
       "      <td>0.0</td>\n",
       "      <td>0.0</td>\n",
       "      <td>0.0</td>\n",
       "    </tr>\n",
       "    <tr>\n",
       "      <th>2</th>\n",
       "      <td>0.0</td>\n",
       "      <td>0.0</td>\n",
       "      <td>0.0</td>\n",
       "      <td>0.0</td>\n",
       "      <td>0.0</td>\n",
       "      <td>0.0</td>\n",
       "      <td>0.0</td>\n",
       "      <td>0.274598</td>\n",
       "      <td>0.0</td>\n",
       "      <td>0.0</td>\n",
       "      <td>...</td>\n",
       "      <td>0.0</td>\n",
       "      <td>0.0</td>\n",
       "      <td>0.0</td>\n",
       "      <td>0.000000</td>\n",
       "      <td>0.0</td>\n",
       "      <td>0.0</td>\n",
       "      <td>0.0</td>\n",
       "      <td>0.0</td>\n",
       "      <td>0.0</td>\n",
       "      <td>0.0</td>\n",
       "    </tr>\n",
       "    <tr>\n",
       "      <th>3</th>\n",
       "      <td>0.0</td>\n",
       "      <td>0.0</td>\n",
       "      <td>0.0</td>\n",
       "      <td>0.0</td>\n",
       "      <td>0.0</td>\n",
       "      <td>0.0</td>\n",
       "      <td>0.0</td>\n",
       "      <td>0.000000</td>\n",
       "      <td>0.0</td>\n",
       "      <td>0.0</td>\n",
       "      <td>...</td>\n",
       "      <td>0.0</td>\n",
       "      <td>0.0</td>\n",
       "      <td>0.0</td>\n",
       "      <td>0.216419</td>\n",
       "      <td>0.0</td>\n",
       "      <td>0.0</td>\n",
       "      <td>0.0</td>\n",
       "      <td>0.0</td>\n",
       "      <td>0.0</td>\n",
       "      <td>0.0</td>\n",
       "    </tr>\n",
       "    <tr>\n",
       "      <th>4</th>\n",
       "      <td>0.0</td>\n",
       "      <td>0.0</td>\n",
       "      <td>0.0</td>\n",
       "      <td>0.0</td>\n",
       "      <td>0.0</td>\n",
       "      <td>0.0</td>\n",
       "      <td>0.0</td>\n",
       "      <td>0.000000</td>\n",
       "      <td>0.0</td>\n",
       "      <td>0.0</td>\n",
       "      <td>...</td>\n",
       "      <td>0.0</td>\n",
       "      <td>0.0</td>\n",
       "      <td>0.0</td>\n",
       "      <td>0.071270</td>\n",
       "      <td>0.0</td>\n",
       "      <td>0.0</td>\n",
       "      <td>0.0</td>\n",
       "      <td>0.0</td>\n",
       "      <td>0.0</td>\n",
       "      <td>0.0</td>\n",
       "    </tr>\n",
       "  </tbody>\n",
       "</table>\n",
       "<p>5 rows × 3017 columns</p>\n",
       "</div>"
      ],
      "text/plain": [
       "   abandon  aboard  abstract  accent  accessory  accident  accompany  \\\n",
       "0      0.0     0.0       0.0     0.0        0.0       0.0        0.0   \n",
       "1      0.0     0.0       0.0     0.0        0.0       0.0        0.0   \n",
       "2      0.0     0.0       0.0     0.0        0.0       0.0        0.0   \n",
       "3      0.0     0.0       0.0     0.0        0.0       0.0        0.0   \n",
       "4      0.0     0.0       0.0     0.0        0.0       0.0        0.0   \n",
       "\n",
       "     across  action   ad    ...     yellow  yogurt  york     young  youth  \\\n",
       "0  0.000000     0.0  0.0    ...        0.0     0.0   0.0  0.000000    0.0   \n",
       "1  0.000000     0.0  0.0    ...        0.0     0.0   0.0  0.000000    0.0   \n",
       "2  0.274598     0.0  0.0    ...        0.0     0.0   0.0  0.000000    0.0   \n",
       "3  0.000000     0.0  0.0    ...        0.0     0.0   0.0  0.216419    0.0   \n",
       "4  0.000000     0.0  0.0    ...        0.0     0.0   0.0  0.071270    0.0   \n",
       "\n",
       "   yummy  zebra  zone  zoo  zucchini  \n",
       "0    0.0    0.0   0.0  0.0       0.0  \n",
       "1    0.0    0.0   0.0  0.0       0.0  \n",
       "2    0.0    0.0   0.0  0.0       0.0  \n",
       "3    0.0    0.0   0.0  0.0       0.0  \n",
       "4    0.0    0.0   0.0  0.0       0.0  \n",
       "\n",
       "[5 rows x 3017 columns]"
      ]
     },
     "execution_count": 123,
     "metadata": {},
     "output_type": "execute_result"
    }
   ],
   "source": [
    "from sklearn.feature_extraction.text import TfidfVectorizer, TfidfTransformer\n",
    "from sklearn.feature_extraction.text import CountVectorizer\n",
    "import pandas as pd\n",
    "\n",
    "cv = CountVectorizer(min_df = 3)\n",
    "X_train_bow = cv.fit_transform(restore_descrip_train).toarray()\n",
    "\n",
    "vocab = np.array(cv.get_feature_names())\n",
    "print(X_train_bow.shape)\n",
    "print(vocab.shape)\n",
    "\n",
    "transformer = TfidfTransformer()\n",
    "X_train_tfidf = transformer.fit_transform(X_train_bow).toarray()\n",
    "\n",
    "print(X_train_tfidf.shape)\n",
    "# tvector = TfidfVectorizer()\n",
    "# X_train_tfidf = tvector.fit_transform(X_train_bow).todense()\n",
    "# print(X_train_tfidf.shape)\n",
    "\n",
    "# Convert into DataFrames\n",
    "X_train_tfidf = pd.DataFrame(X_train_tfidf, columns = vocab)\n",
    "X_train_bow = pd.DataFrame(X_train_bow, columns = vocab)\n",
    "X_train_tfidf.head()\n",
    "\n",
    "\n"
   ]
  },
  {
   "cell_type": "code",
   "execution_count": 124,
   "metadata": {},
   "outputs": [
    {
     "name": "stdout",
     "output_type": "stream",
     "text": [
      "(2000, 3017)\n",
      "(3017,)\n",
      "(2000, 3017)\n"
     ]
    },
    {
     "data": {
      "text/html": [
       "<div>\n",
       "<style scoped>\n",
       "    .dataframe tbody tr th:only-of-type {\n",
       "        vertical-align: middle;\n",
       "    }\n",
       "\n",
       "    .dataframe tbody tr th {\n",
       "        vertical-align: top;\n",
       "    }\n",
       "\n",
       "    .dataframe thead th {\n",
       "        text-align: right;\n",
       "    }\n",
       "</style>\n",
       "<table border=\"1\" class=\"dataframe\">\n",
       "  <thead>\n",
       "    <tr style=\"text-align: right;\">\n",
       "      <th></th>\n",
       "      <th>abandon</th>\n",
       "      <th>aboard</th>\n",
       "      <th>abstract</th>\n",
       "      <th>accent</th>\n",
       "      <th>accessory</th>\n",
       "      <th>accident</th>\n",
       "      <th>accompany</th>\n",
       "      <th>across</th>\n",
       "      <th>action</th>\n",
       "      <th>ad</th>\n",
       "      <th>...</th>\n",
       "      <th>yellow</th>\n",
       "      <th>yogurt</th>\n",
       "      <th>york</th>\n",
       "      <th>young</th>\n",
       "      <th>youth</th>\n",
       "      <th>yummy</th>\n",
       "      <th>zebra</th>\n",
       "      <th>zone</th>\n",
       "      <th>zoo</th>\n",
       "      <th>zucchini</th>\n",
       "    </tr>\n",
       "  </thead>\n",
       "  <tbody>\n",
       "    <tr>\n",
       "      <th>0</th>\n",
       "      <td>0.0</td>\n",
       "      <td>0.0</td>\n",
       "      <td>0.0</td>\n",
       "      <td>0.0</td>\n",
       "      <td>0.0</td>\n",
       "      <td>0.0</td>\n",
       "      <td>0.0</td>\n",
       "      <td>0.0</td>\n",
       "      <td>0.0</td>\n",
       "      <td>0.0</td>\n",
       "      <td>...</td>\n",
       "      <td>0.000000</td>\n",
       "      <td>0.0</td>\n",
       "      <td>0.0</td>\n",
       "      <td>0.0</td>\n",
       "      <td>0.0</td>\n",
       "      <td>0.0</td>\n",
       "      <td>0.0</td>\n",
       "      <td>0.0</td>\n",
       "      <td>0.0</td>\n",
       "      <td>0.0</td>\n",
       "    </tr>\n",
       "    <tr>\n",
       "      <th>1</th>\n",
       "      <td>0.0</td>\n",
       "      <td>0.0</td>\n",
       "      <td>0.0</td>\n",
       "      <td>0.0</td>\n",
       "      <td>0.0</td>\n",
       "      <td>0.0</td>\n",
       "      <td>0.0</td>\n",
       "      <td>0.0</td>\n",
       "      <td>0.0</td>\n",
       "      <td>0.0</td>\n",
       "      <td>...</td>\n",
       "      <td>0.098363</td>\n",
       "      <td>0.0</td>\n",
       "      <td>0.0</td>\n",
       "      <td>0.0</td>\n",
       "      <td>0.0</td>\n",
       "      <td>0.0</td>\n",
       "      <td>0.0</td>\n",
       "      <td>0.0</td>\n",
       "      <td>0.0</td>\n",
       "      <td>0.0</td>\n",
       "    </tr>\n",
       "    <tr>\n",
       "      <th>2</th>\n",
       "      <td>0.0</td>\n",
       "      <td>0.0</td>\n",
       "      <td>0.0</td>\n",
       "      <td>0.0</td>\n",
       "      <td>0.0</td>\n",
       "      <td>0.0</td>\n",
       "      <td>0.0</td>\n",
       "      <td>0.0</td>\n",
       "      <td>0.0</td>\n",
       "      <td>0.0</td>\n",
       "      <td>...</td>\n",
       "      <td>0.000000</td>\n",
       "      <td>0.0</td>\n",
       "      <td>0.0</td>\n",
       "      <td>0.0</td>\n",
       "      <td>0.0</td>\n",
       "      <td>0.0</td>\n",
       "      <td>0.0</td>\n",
       "      <td>0.0</td>\n",
       "      <td>0.0</td>\n",
       "      <td>0.0</td>\n",
       "    </tr>\n",
       "    <tr>\n",
       "      <th>3</th>\n",
       "      <td>0.0</td>\n",
       "      <td>0.0</td>\n",
       "      <td>0.0</td>\n",
       "      <td>0.0</td>\n",
       "      <td>0.0</td>\n",
       "      <td>0.0</td>\n",
       "      <td>0.0</td>\n",
       "      <td>0.0</td>\n",
       "      <td>0.0</td>\n",
       "      <td>0.0</td>\n",
       "      <td>...</td>\n",
       "      <td>0.000000</td>\n",
       "      <td>0.0</td>\n",
       "      <td>0.0</td>\n",
       "      <td>0.0</td>\n",
       "      <td>0.0</td>\n",
       "      <td>0.0</td>\n",
       "      <td>0.0</td>\n",
       "      <td>0.0</td>\n",
       "      <td>0.0</td>\n",
       "      <td>0.0</td>\n",
       "    </tr>\n",
       "    <tr>\n",
       "      <th>4</th>\n",
       "      <td>0.0</td>\n",
       "      <td>0.0</td>\n",
       "      <td>0.0</td>\n",
       "      <td>0.0</td>\n",
       "      <td>0.0</td>\n",
       "      <td>0.0</td>\n",
       "      <td>0.0</td>\n",
       "      <td>0.0</td>\n",
       "      <td>0.0</td>\n",
       "      <td>0.0</td>\n",
       "      <td>...</td>\n",
       "      <td>0.000000</td>\n",
       "      <td>0.0</td>\n",
       "      <td>0.0</td>\n",
       "      <td>0.0</td>\n",
       "      <td>0.0</td>\n",
       "      <td>0.0</td>\n",
       "      <td>0.0</td>\n",
       "      <td>0.0</td>\n",
       "      <td>0.0</td>\n",
       "      <td>0.0</td>\n",
       "    </tr>\n",
       "  </tbody>\n",
       "</table>\n",
       "<p>5 rows × 3017 columns</p>\n",
       "</div>"
      ],
      "text/plain": [
       "   abandon  aboard  abstract  accent  accessory  accident  accompany  across  \\\n",
       "0      0.0     0.0       0.0     0.0        0.0       0.0        0.0     0.0   \n",
       "1      0.0     0.0       0.0     0.0        0.0       0.0        0.0     0.0   \n",
       "2      0.0     0.0       0.0     0.0        0.0       0.0        0.0     0.0   \n",
       "3      0.0     0.0       0.0     0.0        0.0       0.0        0.0     0.0   \n",
       "4      0.0     0.0       0.0     0.0        0.0       0.0        0.0     0.0   \n",
       "\n",
       "   action   ad    ...       yellow  yogurt  york  young  youth  yummy  zebra  \\\n",
       "0     0.0  0.0    ...     0.000000     0.0   0.0    0.0    0.0    0.0    0.0   \n",
       "1     0.0  0.0    ...     0.098363     0.0   0.0    0.0    0.0    0.0    0.0   \n",
       "2     0.0  0.0    ...     0.000000     0.0   0.0    0.0    0.0    0.0    0.0   \n",
       "3     0.0  0.0    ...     0.000000     0.0   0.0    0.0    0.0    0.0    0.0   \n",
       "4     0.0  0.0    ...     0.000000     0.0   0.0    0.0    0.0    0.0    0.0   \n",
       "\n",
       "   zone  zoo  zucchini  \n",
       "0   0.0  0.0       0.0  \n",
       "1   0.0  0.0       0.0  \n",
       "2   0.0  0.0       0.0  \n",
       "3   0.0  0.0       0.0  \n",
       "4   0.0  0.0       0.0  \n",
       "\n",
       "[5 rows x 3017 columns]"
      ]
     },
     "execution_count": 124,
     "metadata": {},
     "output_type": "execute_result"
    }
   ],
   "source": [
    "cv = CountVectorizer(vocabulary = vocab)\n",
    "X_test_bow = cv.fit_transform(restore_descrip_test).toarray()\n",
    "\n",
    "vocab = np.array(cv.get_feature_names())\n",
    "print(X_test_bow.shape)\n",
    "print(vocab.shape)\n",
    "\n",
    "transformer = TfidfTransformer()\n",
    "X_test_tfidf = transformer.fit_transform(X_test_bow).toarray()\n",
    "\n",
    "print(X_test_tfidf.shape)\n",
    "# tvector = TfidfVectorizer()\n",
    "# X_train_tfidf = tvector.fit_transform(X_train_bow).todense()\n",
    "# print(X_train_tfidf.shape)\n",
    "\n",
    "# Convert into DataFrames\n",
    "X_test_tfidf = pd.DataFrame(X_test_tfidf, columns = vocab)\n",
    "X_test_bow = pd.DataFrame(X_test_bow, columns = vocab)\n",
    "X_test_tfidf.head()"
   ]
  },
  {
   "cell_type": "markdown",
   "metadata": {},
   "source": [
    "### Build Tag : Y"
   ]
  },
  {
   "cell_type": "code",
   "execution_count": 135,
   "metadata": {},
   "outputs": [],
   "source": [
    "def load_tag(isTrain):\n",
    "    all_tag = []\n",
    "    tag_for_one_image = []\n",
    "    if isTrain:\n",
    "        folder_path = \"data/tags_train/\"\n",
    "        num = 10000\n",
    "    else:\n",
    "        folder_path = \"data/tags_test/\"\n",
    "        num = 2000\n",
    "        \n",
    "    for n in range(num):\n",
    "        path = folder_path + str(n) + \".txt\"\n",
    "        txtfile = open(path, \"r\")\n",
    "        lines = txtfile.read().split('\\n')\n",
    "        # line:   sport: base ball\n",
    "        temp = ''\n",
    "        for line in lines:\n",
    "            words = line.split(':')\n",
    "            if words[0] == '':\n",
    "                break\n",
    "            tags = words[1]\n",
    "            tags = tags.replace(\" \", \"\")\n",
    "            temp = temp + ' ' + tags\n",
    "            all_tag.append(tags)\n",
    "        tag_for_one_image.append(temp)\n",
    "        \n",
    "    all_tag = list(set(all_tag))\n",
    "    return tag_for_one_image, all_tag"
   ]
  },
  {
   "cell_type": "code",
   "execution_count": 136,
   "metadata": {},
   "outputs": [],
   "source": [
    "tag2image_train, tag_train = load_tag(True)"
   ]
  },
  {
   "cell_type": "code",
   "execution_count": 139,
   "metadata": {},
   "outputs": [
    {
     "name": "stdout",
     "output_type": "stream",
     "text": [
      "80\n"
     ]
    }
   ],
   "source": [
    "print(len(tag_train))"
   ]
  },
  {
   "cell_type": "code",
   "execution_count": 140,
   "metadata": {},
   "outputs": [],
   "source": [
    "cv = CountVectorizer(vocabulary = tag_train)\n",
    "tags_train_0_1 = cv.fit_transform(tag2image_train).toarray()"
   ]
  },
  {
   "cell_type": "code",
   "execution_count": 142,
   "metadata": {},
   "outputs": [
    {
     "name": "stdout",
     "output_type": "stream",
     "text": [
      "(10000, 80)\n"
     ]
    }
   ],
   "source": [
    "print(tags_train_0_1.shape)"
   ]
  },
  {
   "cell_type": "code",
   "execution_count": 148,
   "metadata": {},
   "outputs": [],
   "source": [
    "#HAVEN't RUN\n",
    "tag2image_test, tag_test = load_tag(False)\n",
    "cv = CountVectorizer(vocabulary = tag_train) # train!\n",
    "tags_test_0_1 = cv.fit_transform(tag2image_test).toarray()"
   ]
  },
  {
   "cell_type": "markdown",
   "metadata": {},
   "source": [
    "## Random Forest"
   ]
  },
  {
   "cell_type": "code",
   "execution_count": 143,
   "metadata": {},
   "outputs": [],
   "source": [
    "from sklearn import preprocessing\n",
    "import csv\n",
    "from sklearn.metrics.pairwise import euclidean_distances\n",
    "from sklearn.neighbors import NearestNeighbors as KNN\n",
    "from sklearn.model_selection import cross_val_score\n",
    "from sklearn.ensemble import RandomForestRegressor\n",
    "\n",
    "predict_tags = []\n",
    "for i in range(80):\n",
    "    y = tags_train_0_1[:,i]\n",
    "    clf = RandomForestRegressor()\n",
    "    clf.fit(X_train_tfidf, y)\n",
    "    tag = clf.predict(X_test_tfidf)\n",
    "    predict_tags.append(tag)"
   ]
  },
  {
   "cell_type": "code",
   "execution_count": 145,
   "metadata": {},
   "outputs": [
    {
     "data": {
      "text/plain": [
       "(2000, 80)"
      ]
     },
     "execution_count": 145,
     "metadata": {},
     "output_type": "execute_result"
    }
   ],
   "source": [
    "predict_tags_trans = np.array(predict_tags).T\n",
    "np.save('param/random_forest_predict', predict_tags)\n",
    "predict_tags_trans.shape"
   ]
  },
  {
   "cell_type": "markdown",
   "metadata": {},
   "source": [
    "## KNN"
   ]
  },
  {
   "cell_type": "code",
   "execution_count": 152,
   "metadata": {},
   "outputs": [],
   "source": [
    "test_labels = [i for i in range(2000)]\n",
    "knn = KNN(n_neighbors = 1)\n",
    "knn = knn.fit(tags_test_0_1, test_labels)\n",
    "predictions = knn.kneighbors(predict_tags_trans, return_distance = False)\n"
   ]
  },
  {
   "cell_type": "code",
   "execution_count": 159,
   "metadata": {},
   "outputs": [
    {
     "name": "stdout",
     "output_type": "stream",
     "text": [
      "[1395]\n",
      "(2000, 80)\n"
     ]
    }
   ],
   "source": [
    "print(predictions[100])\n",
    "print(tags_test_0_1.shape)"
   ]
  },
  {
   "cell_type": "markdown",
   "metadata": {},
   "source": [
    "## KNN 2"
   ]
  },
  {
   "cell_type": "code",
   "execution_count": 168,
   "metadata": {},
   "outputs": [
    {
     "name": "stdout",
     "output_type": "stream",
     "text": [
      "(2000, 1000)\n",
      "(2000,)\n",
      "(2000, 1)\n"
     ]
    }
   ],
   "source": [
    "features_test = np.load(\"data/sort_feat_test.npy\")\n",
    "print(features_test.shape)\n",
    "print(np.array(test_labels).shape)\n",
    "print(predictions.shape)\n",
    "predict_feature = features_test[predictions].reshape(2000, 1000)\n"
   ]
  },
  {
   "cell_type": "code",
   "execution_count": 169,
   "metadata": {},
   "outputs": [],
   "source": [
    "knn2 = KNN(n_neighbors = 20)\n",
    "knn2 = knn2.fit(features_test, test_labels)\n",
    "predict_final = knn2.kneighbors(predict_feature, return_distance = False)"
   ]
  },
  {
   "cell_type": "markdown",
   "metadata": {},
   "source": [
    "## Export CSV"
   ]
  },
  {
   "cell_type": "code",
   "execution_count": 170,
   "metadata": {},
   "outputs": [],
   "source": [
    "def export_csv(data, filename = \"lr.csv\"):\n",
    "    list = []\n",
    "    for i, row in enumerate(data):\n",
    "        temp = ''\n",
    "        for j, val in enumerate(row):\n",
    "            temp = temp + ' ' + (str(val) + \".jpg\")\n",
    "        list.append(temp)\n",
    "    images = pd.DataFrame(list, columns = [\"Top_20_Image_IDs\"])\n",
    "\n",
    "    index = []\n",
    "    for i in range(2000):\n",
    "        index.append(str(i)+ \".txt\")\n",
    "    index = pd.DataFrame(index, columns = [\"Descritpion_ID\"])\n",
    "\n",
    "    result = pd.concat([index, images], axis=1)\n",
    "    result.to_csv(filename, index = False)"
   ]
  },
  {
   "cell_type": "code",
   "execution_count": 171,
   "metadata": {},
   "outputs": [],
   "source": [
    "export_csv(predict_final, \"rf_tag_knn.csv\")"
   ]
  },
  {
   "cell_type": "code",
   "execution_count": 172,
   "metadata": {},
   "outputs": [
    {
     "name": "stdout",
     "output_type": "stream",
     "text": [
      "     0     1     2     3     4     5    6     7     8     9     10    11  \\\n",
      "0   124   254   790  1799    75   364  132   752  1119  1447  1818   825   \n",
      "1  1341   383  1911  1209   121  1522  211  1353  1645  1652  1355   193   \n",
      "2   598  1139    60   168  1390  1001  198   564   824   151  1113   688   \n",
      "3    75   790   785  1099  1630   124  752   156   104  1172  1243  1447   \n",
      "4    36    38  1689  1022  1062   943    8  1820  1489  1415   636  1916   \n",
      "\n",
      "     12    13    14    15    16    17    18    19  \n",
      "0   156  1463   683  1243  1455   531  1731    39  \n",
      "1  1232  1087   977   711  1410  1950   155   188  \n",
      "2   722  1086  1701  1151  1762  1635   947   944  \n",
      "3  1280   907   364   486   127  1602  1639  1119  \n",
      "4   632   731   293  1327   317   389   434   606  \n"
     ]
    }
   ],
   "source": [
    "predict_final = pd.DataFrame(predict_final)\n",
    "\n",
    "print(predict_final.head())"
   ]
  },
  {
   "cell_type": "code",
   "execution_count": null,
   "metadata": {},
   "outputs": [],
   "source": []
  }
 ],
 "metadata": {
  "kernelspec": {
   "display_name": "Python 3",
   "language": "python",
   "name": "python3"
  },
  "language_info": {
   "codemirror_mode": {
    "name": "ipython",
    "version": 3
   },
   "file_extension": ".py",
   "mimetype": "text/x-python",
   "name": "python",
   "nbconvert_exporter": "python",
   "pygments_lexer": "ipython3",
   "version": "3.6.5"
  }
 },
 "nbformat": 4,
 "nbformat_minor": 2
}
