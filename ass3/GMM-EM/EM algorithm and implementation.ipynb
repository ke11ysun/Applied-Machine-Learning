{
 "cells": [
  {
   "cell_type": "code",
   "execution_count": 40,
   "metadata": {
    "scrolled": true
   },
   "outputs": [
    {
     "name": "stdout",
     "output_type": "stream",
     "text": [
      "['eruptions', 'waiting']\n",
      "     eruptions  waiting\n",
      "0        3.600     79.0\n",
      "1        1.800     54.0\n",
      "2        3.333     74.0\n",
      "3        2.283     62.0\n",
      "4        4.533     85.0\n",
      "5        2.883     55.0\n",
      "6        4.700     88.0\n",
      "7        3.600     85.0\n",
      "8        1.950     51.0\n",
      "9        4.350     85.0\n",
      "10       1.833     54.0\n",
      "11       3.917     84.0\n",
      "12       4.200     78.0\n",
      "13       1.750     47.0\n",
      "14       4.700     83.0\n",
      "15       2.167     52.0\n",
      "16       1.750     62.0\n",
      "17       4.800     84.0\n",
      "18       1.600     52.0\n",
      "19       4.250     79.0\n",
      "20       1.800     51.0\n",
      "21       1.750     47.0\n",
      "22       3.450     78.0\n",
      "23       3.067     69.0\n",
      "24       4.533     74.0\n",
      "25       3.600     83.0\n",
      "26       1.967     55.0\n",
      "27       4.083     76.0\n",
      "28       3.850     78.0\n",
      "29       4.433     79.0\n",
      "..         ...      ...\n",
      "242      4.933     86.0\n",
      "243      2.900     63.0\n",
      "244      4.583     85.0\n",
      "245      3.833     82.0\n",
      "246      2.083     57.0\n",
      "247      4.367     82.0\n",
      "248      2.133     67.0\n",
      "249      4.350     74.0\n",
      "250      2.200     54.0\n",
      "251      4.450     83.0\n",
      "252      3.567     73.0\n",
      "253      4.500     73.0\n",
      "254      4.150     88.0\n",
      "255      3.817     80.0\n",
      "256      3.917     71.0\n",
      "257      4.450     83.0\n",
      "258      2.000     56.0\n",
      "259      4.283     79.0\n",
      "260      4.767     78.0\n",
      "261      4.533     84.0\n",
      "262      1.850     58.0\n",
      "263      4.250     83.0\n",
      "264      1.983     43.0\n",
      "265      2.250     60.0\n",
      "266      4.750     75.0\n",
      "267      4.117     81.0\n",
      "268      2.150     46.0\n",
      "269      4.417     90.0\n",
      "270      1.817     46.0\n",
      "271      4.467     74.0\n",
      "\n",
      "[272 rows x 2 columns]\n"
     ]
    }
   ],
   "source": [
    "import pandas as pd\n",
    "import numpy as np\n",
    "\n",
    "with open('faithful.csv', 'r') as f:\n",
    "    lines = f.readlines()\n",
    "    \n",
    "columns = lines[0].split(\"\\n\")[0].split(\" \")[-2:]\n",
    "print(columns)\n",
    "\n",
    "samples = []\n",
    "for line in lines:\n",
    "    samples.append(np.asarray([data for data in line.split(\"\\n\")[0].split(\" \") if data != \"\"])[1:])\n",
    "samples = np.asarray(samples[1:])\n",
    "\n",
    "train_df = pd.DataFrame(samples, columns=columns).astype('float')\n",
    "print(train_df)"
   ]
  },
  {
   "cell_type": "code",
   "execution_count": 41,
   "metadata": {},
   "outputs": [
    {
     "name": "stdout",
     "output_type": "stream",
     "text": [
      "5.1 96.0\n"
     ]
    },
    {
     "data": {
      "image/png": "[encoded data removed]",
      "text/plain": [
       "<Figure size 432x288 with 1 Axes>"
      ]
     },
     "metadata": {
      "needs_background": "light"
     },
     "output_type": "display_data"
    }
   ],
   "source": [
    "import matplotlib.pyplot as plt\n",
    "\n",
    "x = train_df[\"eruptions\"].values\n",
    "y = train_df[\"waiting\"].values\n",
    "print(max(x), max(y))\n",
    "\n",
    "train_df.plot(x=\"eruptions\", y=\"waiting\", kind=\"scatter\")\n",
    "plt.show()"
   ]
  },
  {
   "cell_type": "code",
   "execution_count": 42,
   "metadata": {},
   "outputs": [],
   "source": [
    "# GMM with EM implementation: \n",
    "# https://gist.github.com/bistaumanga/6023716\n",
    "# https://github.com/ctc316/old_faithful_geyser\n",
    "    \n",
    "class GMM:\n",
    "    \n",
    "    def __init__(self, k = 3, eps = 0.0001):\n",
    "        self.k = k \n",
    "        self.eps = eps \n",
    "\n",
    "\n",
    "\n",
    "    def __append_mu(self, mus, mu, d):\n",
    "        for i in range(self.k):\n",
    "            for j in range(d):\n",
    "                mus[i][j].append(mu[i][j])\n",
    "\n",
    "\n",
    "\n",
    "    def fit_EM(self, X, max_iters = 1000, mu=None, Sigma=None, init_w_kmeans=False):       \n",
    "        n, d = X.shape\n",
    "        mus = [[[] for _ in range(d)] for __ in range(self.k)]\n",
    "\n",
    "        if not init_w_kmeans:     \n",
    "            mu = X[np.random.choice(n, self.k, False), :]\n",
    "            Sigma= [np.eye(d)] * self.k\n",
    "\n",
    "        # print \"mu.shape\", mu.shape\n",
    "        self.__append_mu(mus, mu, d)\n",
    "\n",
    "        \n",
    "        # probabilities/weights for each gaussians\n",
    "        # responsibility for each of n points for eack of k gaussians\n",
    "        w = [1./self.k] * self.k\n",
    "        R = np.zeros((n, self.k))\n",
    "        log_likelihoods = []\n",
    "        \n",
    "        # multivariate gaussian pdf\n",
    "        P = lambda mu, s: np.linalg.det(s) ** -.5 * (2 * np.pi) ** (-X.shape[1]/2.) \\\n",
    "                * np.exp(-.5 * np.einsum('ij, ij -> i',\\\n",
    "                        X - mu, np.dot(np.linalg.inv(s) , (X - mu).T).T ) ) \n",
    "                               \n",
    "        while len(log_likelihoods) < max_iters:\n",
    "            \n",
    "            # E - Step\n",
    "            for k in range(self.k):\n",
    "                R[:, k] = w[k] * P(mu[k], Sigma[k])\n",
    "\n",
    "            log_likelihood = np.sum(np.log(np.sum(R, axis = 1)))           \n",
    "            log_likelihoods.append(log_likelihood)\n",
    "            \n",
    "            R = (R.T / np.sum(R, axis = 1)).T\n",
    "            \n",
    "            # The number of datapoints belonging to each gaussian            \n",
    "            N_ks = np.sum(R, axis = 0)\n",
    "            \n",
    "            \n",
    "            # M Step\n",
    "            for k in range(self.k):\n",
    "                mu[k] = 1. / N_ks[k] * np.sum(R[:, k] * X.T, axis = 1).T\n",
    "                x_mu = np.matrix(X - mu[k])\t\t# x_mu: yi-mu\n",
    "                \n",
    "                Sigma[k] = np.array(1 / N_ks[k] * np.dot(np.multiply(x_mu.T,  R[:, k]), x_mu))\n",
    "                \n",
    "                w[k] = 1. / n * N_ks[k]\n",
    "\n",
    "            self.__append_mu(mus, mu, d)\n",
    "            \n",
    "            if len(log_likelihoods) < 2 : continue\n",
    "            if np.abs(log_likelihood - log_likelihoods[-2]) < self.eps: break\n",
    "        \n",
    "\n",
    "        return mus, len(log_likelihoods)"
   ]
  },
  {
   "cell_type": "code",
   "execution_count": 67,
   "metadata": {
    "scrolled": true
   },
   "outputs": [
    {
     "name": "stdout",
     "output_type": "stream",
     "text": [
      "(272, 2)\n",
      "18\n",
      "[[[4.933,\n",
      "   4.377314283877658,\n",
      "   4.342323358024338,\n",
      "   4.345030400571079,\n",
      "   4.356553631306769,\n",
      "   4.364058398855432,\n",
      "   4.364823721099814,\n",
      "   4.358192287938034,\n",
      "   4.34339180223957,\n",
      "   4.3251101163030246,\n",
      "   4.307691889234327,\n",
      "   4.295203791766497,\n",
      "   4.290925842230408,\n",
      "   4.289959511551731,\n",
      "   4.289733002686318,\n",
      "   4.289679036426962,\n",
      "   4.289666079115199,\n",
      "   4.289662961554549,\n",
      "   4.289662211075511],\n",
      "  [88.0,\n",
      "   84.4885488629798,\n",
      "   83.38742553884214,\n",
      "   82.48017067042161,\n",
      "   81.78754728769039,\n",
      "   81.33727988719677,\n",
      "   81.05815123198812,\n",
      "   80.84779781468148,\n",
      "   80.63374932484098,\n",
      "   80.41907631778467,\n",
      "   80.19408705048555,\n",
      "   80.02623958688613,\n",
      "   79.98282466613195,\n",
      "   79.97169222837745,\n",
      "   79.96897325946615,\n",
      "   79.96832150192444,\n",
      "   79.96816483373713,\n",
      "   79.96812712926577,\n",
      "   79.96811805225302]],\n",
      " [[2.383,\n",
      "   3.033061448120873,\n",
      "   2.997009111621673,\n",
      "   2.8823608768033004,\n",
      "   2.7299106902149393,\n",
      "   2.577626259032536,\n",
      "   2.43936982675857,\n",
      "   2.3105021081633823,\n",
      "   2.1985994473136827,\n",
      "   2.120951720620331,\n",
      "   2.073008395363181,\n",
      "   2.044562839465162,\n",
      "   2.0378888741223746,\n",
      "   2.0367269103881163,\n",
      "   2.0364688239881983,\n",
      "   2.036407743087489,\n",
      "   2.0363930950904967,\n",
      "   2.036389571682724,\n",
      "   2.0363887235587432],\n",
      "  [71.0,\n",
      "   63.94919159569753,\n",
      "   63.72367313422807,\n",
      "   62.716603675175776,\n",
      "   61.39673601243745,\n",
      "   60.0531626366579,\n",
      "   58.75050183069713,\n",
      "   57.438083716253324,\n",
      "   56.22635490764461,\n",
      "   55.3535593808316,\n",
      "   54.85478651423294,\n",
      "   54.57914862536711,\n",
      "   54.49474521185191,\n",
      "   54.48196299041646,\n",
      "   54.47932675865716,\n",
      "   54.47871049483188,\n",
      "   54.478563058300104,\n",
      "   54.47852761304525,\n",
      "   54.478519082047576]]]\n"
     ]
    },
    {
     "data": {
      "image/png": "[encoded data removed]",
      "text/plain": [
       "<Figure size 432x288 with 1 Axes>"
      ]
     },
     "metadata": {
      "needs_background": "light"
     },
     "output_type": "display_data"
    }
   ],
   "source": [
    "X = train_df.values\n",
    "print(X.shape)\n",
    "\n",
    "import pprint\n",
    "gmm = GMM(2, 0.000001)\n",
    "mus, nums_iter = gmm.fit_EM(X, max_iters= 100)\n",
    "print(nums_iter)\n",
    "pprint.pprint(mus)   \n",
    "\n",
    "\n",
    "# plot\n",
    "# train_df.plot(x=\"eruptions\", y=\"waiting\", kind=\"scatter\")\n",
    "plt.scatter(train_df.iloc[:, 0], train_df.iloc[:, 1], alpha=0.4)\n",
    "plt.xlabel(\"eruptions\")\n",
    "plt.ylabel(\"waiting\")\n",
    "plt.plot(mus[0][0], mus[0][1], 'r+', linewidth=3, markersize=12)\n",
    "plt.plot(mus[1][0], mus[1][1], 'g+', linewidth=3, markersize=12)\n",
    "plt.show()"
   ]
  },
  {
   "cell_type": "code",
   "execution_count": 47,
   "metadata": {},
   "outputs": [
    {
     "name": "stderr",
     "output_type": "stream",
     "text": [
      "/Library/Frameworks/Python.framework/Versions/3.6/lib/python3.6/site-packages/ipykernel_launcher.py:42: RuntimeWarning: divide by zero encountered in log\n",
      "/Library/Frameworks/Python.framework/Versions/3.6/lib/python3.6/site-packages/ipykernel_launcher.py:45: RuntimeWarning: invalid value encountered in true_divide\n",
      "/Library/Frameworks/Python.framework/Versions/3.6/lib/python3.6/site-packages/numpy/linalg/linalg.py:1874: RuntimeWarning: invalid value encountered in det\n",
      "  r = _umath_linalg.det(a, signature=signature)\n"
     ]
    },
    {
     "name": "stdout",
     "output_type": "stream",
     "text": [
      "[20, 13, 100, 17, 13, 19, 10, 14, 20, 22, 11, 21, 12, 18, 14, 14, 9, 9, 100, 17, 12, 10, 20, 11, 12, 8, 9, 100, 17, 17, 17, 18, 19, 11, 15, 9, 10, 10, 10, 18, 9, 9, 11, 11, 10, 13, 8, 9, 14, 8]\n"
     ]
    },
    {
     "data": {
      "image/png": "[encoded data removed]",
      "text/plain": [
       "<Figure size 432x288 with 1 Axes>"
      ]
     },
     "metadata": {
      "needs_background": "light"
     },
     "output_type": "display_data"
    }
   ],
   "source": [
    "conv_iters = []\n",
    "for _ in range(50):\n",
    "    mus, iters = gmm.fit_EM(X, max_iters= 100)\n",
    "    conv_iters.append(iters)\n",
    "print(conv_iters)\n",
    "plt.hist(conv_iters, bins=range(max(conv_iters) + 2), align='left', rwidth=1)\n",
    "plt.show()"
   ]
  },
  {
   "cell_type": "code",
   "execution_count": 69,
   "metadata": {},
   "outputs": [
    {
     "name": "stdout",
     "output_type": "stream",
     "text": [
      "[[[2.0943300000000002, 2.0573892991296097, 2.0401453988818163, 2.0371605486502076, 2.036568378306755, 2.0364314617971524, 2.0363987916673434, 2.0363909424141644, 2.036389053537259], [54.74999999999997, 54.695652894886976, 54.52328570680575, 54.48654550557783, 54.48033695534454, 54.478949510370704, 54.47862038087715, 54.478541401657736, 54.47852240114258]], [[4.29793023255814, 4.300634262747526, 4.29251298749507, 4.290331877662907, 4.289820699556911, 4.289700005235185, 4.289671118853262, 4.289664174434486, 4.289662503065596], [80.2848837209302, 80.10384644953008, 79.99910478960823, 79.97608333735971, 79.97002942037423, 79.96857489416412, 79.9682257775425, 79.96814179854599, 79.96812158388633]]] 8\n"
     ]
    },
    {
     "data": {
      "image/png": "[encoded data removed]",
      "text/plain": [
       "<Figure size 432x288 with 1 Axes>"
      ]
     },
     "metadata": {
      "needs_background": "light"
     },
     "output_type": "display_data"
    },
    {
     "name": "stdout",
     "output_type": "stream",
     "text": [
      "[8, 8, 8, 8, 8, 8, 8, 8, 8, 8, 8, 8, 8, 8, 8, 8, 8, 8, 8, 8, 8, 8, 8, 8, 8, 8, 8, 8, 8, 8, 8, 8, 8, 8, 8, 8, 8, 8, 8, 8, 8, 8, 8, 8, 8, 8, 8, 8, 8, 8]\n"
     ]
    },
    {
     "data": {
      "image/png": "[encoded data removed]",
      "text/plain": [
       "<Figure size 432x288 with 1 Axes>"
      ]
     },
     "metadata": {
      "needs_background": "light"
     },
     "output_type": "display_data"
    }
   ],
   "source": [
    "from sklearn.cluster import KMeans\n",
    "\n",
    "def run_kmeans(k, r, data):\n",
    "    kmeans = KMeans(n_clusters=k, random_state=r).fit(data)\n",
    "    pred = kmeans.predict(data)\n",
    "\n",
    "    c1 = train_df[pred==0].values\n",
    "    c2 = train_df[pred==1].values\n",
    "\n",
    "    kmeans_mu = kmeans.cluster_centers_\n",
    "    kmeans_sigma = [np.cov(c1, rowvar=False), np.cov(c2, rowvar=False)]\n",
    "    return kmeans_mu, kmeans_sigma\n",
    "\n",
    "kmeans_mu, kmeans_sigma = run_kmeans(2, 33, X)\n",
    "gmm_w_kmeans = GMM(2, 0.000001)\n",
    "mus, nums_iter = gmm_w_kmeans.fit_EM(X, max_iters= 100, mu=kmeans_mu, Sigma=kmeans_sigma, init_w_kmeans=True)\n",
    "print(mus, nums_iter)\n",
    "\n",
    "# plot\n",
    "# train_df.plot(x=\"eruptions\", y=\"waiting\", kind=\"scatter\")\n",
    "plt.scatter(train_df.iloc[:, 0], train_df.iloc[:, 1], alpha=0.4)\n",
    "plt.xlabel(\"eruptions\")\n",
    "plt.ylabel(\"waiting\")\n",
    "plt.plot(mus[0][0], mus[0][1], 'r+', linewidth=3, markersize=12)\n",
    "plt.plot(mus[1][0], mus[1][1], 'c+', linewidth=3, markersize=12)\n",
    "plt.show()\n",
    "\n",
    "\n",
    "conv_iters = []\n",
    "for i in range(50):\n",
    "    kmeans_mu, kmeans_sigma = run_kmeans(2, i, X)\n",
    "    mus, iters = gmm_w_kmeans.fit_EM(X, max_iters= 100, mu=kmeans_mu, Sigma=kmeans_sigma, init_w_kmeans=True)\n",
    "    conv_iters.append(iters)\n",
    "print(conv_iters)\n",
    "plt.hist(conv_iters, bins=range(max(conv_iters) + 2), align='left', rwidth=1)\n",
    "plt.show()"
   ]
  },
  {
   "cell_type": "code",
   "execution_count": null,
   "metadata": {},
   "outputs": [],
   "source": []
  }
 ],
 "metadata": {
  "kernelspec": {
   "display_name": "Python 3",
   "language": "python",
   "name": "python3"
  },
  "language_info": {
   "codemirror_mode": {
    "name": "ipython",
    "version": 3
   },
   "file_extension": ".py",
   "mimetype": "text/x-python",
   "name": "python",
   "nbconvert_exporter": "python",
   "pygments_lexer": "ipython3",
   "version": "3.6.5"
  }
 },
 "nbformat": 4,
 "nbformat_minor": 2
}
