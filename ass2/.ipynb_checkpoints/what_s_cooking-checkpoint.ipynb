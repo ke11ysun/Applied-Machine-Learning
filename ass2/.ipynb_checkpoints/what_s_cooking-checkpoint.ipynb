{
 "cells": [
  {
   "cell_type": "code",
   "execution_count": 32,
   "metadata": {},
   "outputs": [
    {
     "name": "stdout",
     "output_type": "stream",
     "text": [
      "# train dishes: 39774\n",
      "# test dishes: 9944\n",
      "# types of cuisines: 20\n"
     ]
    }
   ],
   "source": [
    "# load data\n",
    "\n",
    "import json\n",
    "\n",
    "with open('./train.json') as json_data:\n",
    "    train_data = json.load(json_data)\n",
    "print(\"# train dishes:\", len(train_data))\n",
    "\n",
    "with open('./test.json') as json_data:\n",
    "    test_data = json.load(json_data)\n",
    "print(\"# test dishes:\", len(test_data))\n",
    "\n",
    "cuisines = set()\n",
    "for d in train_data:\n",
    "    cuisines.add(d[\"cuisine\"])\n",
    "cuisines = list(cuisines)\n",
    "print(\"# types of cuisines:\", len(cuisines))"
   ]
  },
  {
   "cell_type": "code",
   "execution_count": 33,
   "metadata": {},
   "outputs": [
    {
     "name": "stdout",
     "output_type": "stream",
     "text": [
      "# ingredients: 7137\n"
     ]
    }
   ],
   "source": [
    "# feature vector\n",
    "\n",
    "ingredients = set()\n",
    "for d in train_data:\n",
    "    for d_ingredient in d[\"ingredients\"]:\n",
    "        ingredients.add(d_ingredient)\n",
    "for d in test_data:\n",
    "    for d_ingredient in d[\"ingredients\"]:\n",
    "        ingredients.add(d_ingredient)\n",
    "ingredients = list(ingredients)\n",
    "print(\"# ingredients:\", len(ingredients))"
   ]
  },
  {
   "cell_type": "code",
   "execution_count": 39,
   "metadata": {},
   "outputs": [
    {
     "name": "stdout",
     "output_type": "stream",
     "text": [
      "2065\n",
      "1\n",
      "206\n",
      "1\n",
      "5902\n",
      "1\n",
      "5322\n",
      "1\n",
      "3172\n",
      "1\n",
      "751\n",
      "1\n",
      "2953\n",
      "1\n",
      "133\n",
      "1\n",
      "2707\n",
      "1\n",
      "[0 0 0 0 0 0 0 0 0 0 0 0 0 0 0 0 0 0 0 0 0 0 0 0 0 0 0 0 0 0 0 0 1 0 0 0 0\n",
      " 0 0 0 0 0 0 0 0 0 0 0 0 0 0 0 0 0 0 0 0 0 0 0 0 0 0 0 0 0 0 0 0 0 0 0 0 0\n",
      " 0 0 0 0 0 0 0 0 0 0 0 0 0 0 0 0 0 0 0 0 0 0 0 0 0 0]\n"
     ]
    }
   ],
   "source": [
    "import numpy as np\n",
    "f_train = np.zeros((len(train_data), len(ingredients)), dtype = int)\n",
    "f_test = np.zeros((len(test_data), len(ingredients)), dtype = int)\n",
    "\n",
    "for i in range(1):\n",
    "    for di in train_data[i][\"ingredients\"]:\n",
    "        f_train[i][ingredients.index(di)] = 1\n",
    "#         print(ingredients.index(di))\n",
    "#         print(f_train[i][ingredients.index(di)])\n",
    "for i in range(len(test_data)):\n",
    "    for di in test_data[i][\"ingredients\"]:\n",
    "        f_test[i][ingredients.index(di)] = 1\n",
    "\n",
    "# test\n",
    "for di in train_data[0][\"ingredients\"]:\n",
    "    print(ingredients.index(di))       \n",
    "    print(f_train[0][ingredients.index(di)])\n",
    "print(f_train[0][101:201])"
   ]
  },
  {
   "cell_type": "code",
   "execution_count": 56,
   "metadata": {},
   "outputs": [
    {
     "name": "stderr",
     "output_type": "stream",
     "text": [
      "/Library/Frameworks/Python.framework/Versions/3.6/lib/python3.6/site-packages/sklearn/naive_bayes.py:432: RuntimeWarning: divide by zero encountered in log\n",
      "  n_ij = - 0.5 * np.sum(np.log(2. * np.pi * self.sigma_[i, :]))\n",
      "/Library/Frameworks/Python.framework/Versions/3.6/lib/python3.6/site-packages/sklearn/naive_bayes.py:434: RuntimeWarning: divide by zero encountered in true_divide\n",
      "  (self.sigma_[i, :]), 1)\n",
      "/Library/Frameworks/Python.framework/Versions/3.6/lib/python3.6/site-packages/sklearn/naive_bayes.py:434: RuntimeWarning: invalid value encountered in true_divide\n",
      "  (self.sigma_[i, :]), 1)\n"
     ]
    },
    {
     "name": "stdout",
     "output_type": "stream",
     "text": [
      "[0.07547312 0.19707369 0.19710232]\n"
     ]
    }
   ],
   "source": [
    "# 3-fold cross-val on NBC\n",
    "\n",
    "from sklearn.naive_bayes import GaussianNB as GNB\n",
    "from sklearn.naive_bayes import BernoulliNB as BNB\n",
    "from sklearn.model_selection import KFold\n",
    "from sklearn.model_selection import cross_val_score\n",
    "\n",
    "# map cuisine string to class number(index of cuisine in the cuisines list)\n",
    "train_labels = []\n",
    "for d in train_data:\n",
    "    train_labels.append(cuisines.index(d[\"cuisine\"]))\n",
    "train_labels = np.asarray(train_labels)\n",
    "# print(train_labels)\n",
    "# print(cuisines)\n",
    "# print(train_labels[1])\n",
    "# print(train_data[1][\"cuisine\"])\n",
    "# print(cuisines.index(train_data[1][\"cuisine\"]))\n",
    "    \n",
    "kf = KFold(n_splits=3)\n",
    "gnb = GNB()\n",
    "bnb = BNB()\n",
    "gnb_score = 0\n",
    "bnb_score = 0\n",
    "\n",
    "# for train_index, val_index in kf.split(train_data):\n",
    "#     X_train, X_val = f_train[train_index], f_train[val_index]\n",
    "#     y_train, y_val = train_labels[train_index], train_labels[val_index]\n",
    "#     print(len(X_train), len(y_val))\n",
    "\n",
    "#     gnb_pred = gnb.fit(X_train, y_train).score(X_val, y_val)\n",
    "#     print(\"gnb_score:\", gnb_pred)\n",
    "#     gnb_score += gnb_pred\n",
    "    \n",
    "#     bnb_pred = bnb.fit(X_train, y_train).score(X_val, y_val)\n",
    "#     print(\"bnb_score:\", bnb_pred)\n",
    "#     bnb_score += bnb_pred\n",
    "\n",
    "# gnb_score = gnb_score/3\n",
    "# bnb_score = bnb_score/3\n",
    "# print(gnb_score, bnb_score)\n",
    "\n",
    "gnb_scores = cross_val_score(gnb, f_train, train_labels, cv=3)\n",
    "print(gnb_scores)\n",
    "\n",
    "\n"
   ]
  },
  {
   "cell_type": "code",
   "execution_count": null,
   "metadata": {},
   "outputs": [],
   "source": []
  }
 ],
 "metadata": {
  "kernelspec": {
   "display_name": "Python 3",
   "language": "python",
   "name": "python3"
  },
  "language_info": {
   "codemirror_mode": {
    "name": "ipython",
    "version": 3
   },
   "file_extension": ".py",
   "mimetype": "text/x-python",
   "name": "python",
   "nbconvert_exporter": "python",
   "pygments_lexer": "ipython3",
   "version": "3.6.5"
  }
 },
 "nbformat": 4,
 "nbformat_minor": 2
}
