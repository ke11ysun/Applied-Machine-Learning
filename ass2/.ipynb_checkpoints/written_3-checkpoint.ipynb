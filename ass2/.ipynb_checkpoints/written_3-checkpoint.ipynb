{
 "cells": [
  {
   "cell_type": "code",
   "execution_count": 1,
   "metadata": {},
   "outputs": [
    {
     "name": "stdout",
     "output_type": "stream",
     "text": [
      "[[ 39  57  60]\n",
      " [ 57 118  53]\n",
      " [ 60  53 127]]\n",
      "[[ 10   9  26   3  26]\n",
      " [  9  62   8  -5  85]\n",
      " [ 26   8  72  10  50]\n",
      " [  3  -5  10   2  -1]\n",
      " [ 26  85  50  -1 138]]\n"
     ]
    }
   ],
   "source": [
    "import numpy as np\n",
    "\n",
    "M = np.asarray([[1,0,3],[3,7,2],[2,-2,8],[0,-1,1],[5,8,7]])\n",
    "MTM = np.dot(M.T, M)\n",
    "MMT = np.dot(M, M.T)\n",
    "\n",
    "print(MTM)\n",
    "print(MMT)"
   ]
  },
  {
   "cell_type": "code",
   "execution_count": 2,
   "metadata": {},
   "outputs": [
    {
     "name": "stdout",
     "output_type": "stream",
     "text": [
      "[8.12918346e-15 6.93295108e+01 2.14670489e+02]\n",
      "[[ 0.90453403  0.01460404  0.42615127]\n",
      " [-0.30151134  0.72859799  0.61500884]\n",
      " [-0.30151134 -0.68478587  0.66344497]]\n",
      "[-2.86858803e-14  1.28575407e-15  7.86020103e-15  6.93295108e+01\n",
      "  2.14670489e+02]\n",
      "[[ 0.95187257 -0.02656868  0.07758291  0.24497323 -0.16492942]\n",
      " [ 0.09661006  0.01964755 -0.74989503 -0.45330644 -0.47164732]\n",
      " [-0.24036664  0.20388528 -0.315392    0.82943965 -0.33647055]\n",
      " [-0.06054744 -0.97446897 -0.13386333  0.16974659 -0.00330585]\n",
      " [-0.1521939  -0.0880289   0.56057723 -0.13310656 -0.79820031]]\n"
     ]
    }
   ],
   "source": [
    "# w = eigenvalues, v = eigenvectors\n",
    "w1, v1 = np.linalg.eigh(MTM)\n",
    "w2, v2 = np.linalg.eigh(MMT)\n",
    "print(w1)\n",
    "print(v1)\n",
    "print(w2)\n",
    "print(v2)"
   ]
  },
  {
   "cell_type": "code",
   "execution_count": 4,
   "metadata": {},
   "outputs": [
    {
     "name": "stdout",
     "output_type": "stream",
     "text": [
      "[[ 0.24497323 -0.16492942]\n",
      " [-0.45330644 -0.47164732]\n",
      " [ 0.82943965 -0.33647055]\n",
      " [ 0.16974659 -0.00330585]\n",
      " [-0.13310656 -0.79820031]]\n",
      "[[ 69.3295108   0.       ]\n",
      " [  0.        214.6704892]]\n",
      "[[ 0.01460404  0.72859799 -0.68478587]\n",
      " [ 0.42615127  0.61500884  0.66344497]]\n"
     ]
    }
   ],
   "source": [
    "# The column v[:, i] is the normalized eigenvector corresponding to the eigenvalue w[i]\n",
    "# from the above step we can observe:\n",
    "# s = [[6.93295108e+01 0]\n",
    "#      [0 2.14670489e+02]]\n",
    "\n",
    "# u = v2\n",
    "# v = v1\n",
    "# s = w1\n",
    "\n",
    "s = np.diag(w1[1:])\n",
    "u = v2[:, 3:]\n",
    "vt = v1[:, 1:].T\n",
    "\n",
    "print(u)\n",
    "print(s)\n",
    "print(vt)\n",
    "\n"
   ]
  },
  {
   "cell_type": "code",
   "execution_count": 7,
   "metadata": {},
   "outputs": [
    {
     "name": "stdout",
     "output_type": "stream",
     "text": [
      "[[ -15.0880902   -21.77468318  -23.48958742]\n",
      " [ -43.14728751  -62.26888248  -67.17298006]\n",
      " [ -30.78103271  -44.42227123  -47.92082691]\n",
      " [  -0.30242616   -0.43645244   -0.47082603]\n",
      " [ -73.02104176 -105.3817964  -113.68132888]]\n"
     ]
    }
   ],
   "source": [
    "# set s[0] = 0\n",
    "\n",
    "xr = np.linalg.multi_dot((u[:, 1:], s[1:, 1:], vt[1:, :]))\n",
    "print(xr)"
   ]
  },
  {
   "cell_type": "code",
   "execution_count": 10,
   "metadata": {},
   "outputs": [
    {
     "name": "stdout",
     "output_type": "stream",
     "text": [
      "[[ 0.31622777  0.          0.9486833 ]\n",
      " [ 0.38100038  0.88900089  0.25400025]\n",
      " [ 0.23570226 -0.23570226  0.94280904]\n",
      " [ 0.         -0.70710678  0.70710678]\n",
      " [ 0.42562827  0.68100522  0.59587957]]\n",
      "[[-0.42615127 -0.61500884 -0.66344497]\n",
      " [-0.42615127 -0.61500884 -0.66344497]\n",
      " [-0.42615127 -0.61500884 -0.66344497]\n",
      " [-0.42615127 -0.61500884 -0.66344497]\n",
      " [-0.42615127 -0.61500884 -0.66344497]]\n"
     ]
    }
   ],
   "source": [
    "from sklearn.preprocessing import normalize\n",
    "# M_norm = normalize(M, axis=1, norm='l1')\n",
    "# xr_norm = normalize(xr, axis=1, norm='l1')\n",
    "M_norm = M / np.linalg.norm(M, axis=-1)[:, np.newaxis]\n",
    "xr_norm = xr / np.linalg.norm(xr, axis=-1)[:, np.newaxis]\n",
    "print(M_norm)\n",
    "print(xr_norm)"
   ]
  },
  {
   "cell_type": "code",
   "execution_count": null,
   "metadata": {},
   "outputs": [],
   "source": []
  }
 ],
 "metadata": {
  "kernelspec": {
   "display_name": "Python 3",
   "language": "python",
   "name": "python3"
  },
  "language_info": {
   "codemirror_mode": {
    "name": "ipython",
    "version": 3
   },
   "file_extension": ".py",
   "mimetype": "text/x-python",
   "name": "python",
   "nbconvert_exporter": "python",
   "pygments_lexer": "ipython3",
   "version": "3.6.5"
  }
 },
 "nbformat": 4,
 "nbformat_minor": 2
}
