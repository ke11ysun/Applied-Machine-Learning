{
 "cells": [
  {
   "cell_type": "markdown",
   "metadata": {},
   "source": [
    "# a"
   ]
  },
  {
   "cell_type": "code",
   "execution_count": 1,
   "metadata": {
    "scrolled": false
   },
   "outputs": [
    {
     "name": "stdout",
     "output_type": "stream",
     "text": [
      "(42000, 785)\n",
      "4132\n",
      "4684\n",
      "4177\n",
      "4351\n",
      "4072\n",
      "3795\n",
      "4137\n",
      "4401\n",
      "4063\n",
      "4188\n",
      "10\n"
     ]
    }
   ],
   "source": [
    "import pandas as pd\n",
    "import numpy as np\n",
    "import matplotlib.pyplot as plt\n",
    "import math\n",
    "\n",
    "# load data\n",
    "df = pd.read_csv('/Users/sjx/Desktop/CS5785/ass1/digit/train.csv')\n",
    "train_array = df.values.reshape((-1, 785))\n",
    "print(train_array.shape)\n",
    "\n",
    "digits = []\n",
    "labels = df['label']\n",
    "for i in range(labels.unique().shape[0]):\n",
    "    digits.append(df.loc[df['label'] == i].iloc[:, 1:])\n",
    "    print(len(digits[i]))\n",
    "\n",
    "print(len(digits))\n",
    "\n",
    "# print(digits[0].iloc[0, :])\n",
    "# print(type(digits[0].iloc[0, :]))\n",
    "# Name: 1, Length: 784, dtype: int64\n",
    "# <class 'pandas.core.series.Series'>"
   ]
  },
  {
   "cell_type": "code",
   "execution_count": 3,
   "metadata": {},
   "outputs": [
    {
     "name": "stdout",
     "output_type": "stream",
     "text": [
      "(4132, 785)\n",
      "(4684, 785)\n"
     ]
    }
   ],
   "source": [
    "zeros = []\n",
    "ones = []\n",
    "\n",
    "for i in range(0, train_array.shape[0]):\n",
    "    row = train_array[i]\n",
    "#     labels.append(row[0])\n",
    "    if row[0] == 0:\n",
    "        zeros.append(row)\n",
    "    elif row[0] == 1:\n",
    "        ones.append(row)\n",
    "\n",
    "zeros = np.asarray(zeros).reshape(-1, 785)\n",
    "ones = np.asarray(ones).reshape(-1, 785)\n",
    "print(zeros.shape)\n",
    "print(ones.shape)"
   ]
  },
  {
   "cell_type": "markdown",
   "metadata": {},
   "source": [
    "# b"
   ]
  },
  {
   "cell_type": "code",
   "execution_count": 4,
   "metadata": {},
   "outputs": [
    {
     "data": {
      "image/png": "[encoded data removed]",
      "text/plain": [
       "<Figure size 432x288 with 10 Axes>"
      ]
     },
     "metadata": {
      "needs_background": "light"
     },
     "output_type": "display_data"
    }
   ],
   "source": [
    "def display_digits(digit_list):\n",
    "    for i in range(len(digit_list)):\n",
    "        pixel_array = digit_list[i].values.reshape(28,28)   \n",
    "        plt.subplot(len(digit_list)/len(digits), len(digits), i+1)\n",
    "        plt.imshow(pixel_array, cmap='gray')\n",
    "        plt.axis(\"off\")\n",
    "\n",
    "examples = []\n",
    "for i in range(len(digits)):\n",
    "    examples.append(digits[i].iloc[i*10,:])\n",
    "display_digits(examples)   \n"
   ]
  },
  {
   "cell_type": "markdown",
   "metadata": {},
   "source": [
    "# c"
   ]
  },
  {
   "cell_type": "code",
   "execution_count": 5,
   "metadata": {},
   "outputs": [
    {
     "name": "stdout",
     "output_type": "stream",
     "text": [
      "[0.11152380952380953, 0.09838095238095237, 0.09695238095238096, 0.10478571428571429, 0.1035952380952381, 0.09035714285714286, 0.09673809523809523, 0.09971428571428571, 0.09945238095238096, 0.0985]\n"
     ]
    },
    {
     "data": {
      "image/png": "[encoded data removed]",
      "text/plain": [
       "<Figure size 432x288 with 1 Axes>"
      ]
     },
     "metadata": {
      "needs_background": "light"
     },
     "output_type": "display_data"
    }
   ],
   "source": [
    "from collections import Counter\n",
    "counter = Counter(labels)\n",
    "ppb = []\n",
    "for i in range(len(digits)):\n",
    "    ppb.append(list(counter.values())[i]/len(labels))\n",
    "print(ppb)\n",
    "\n",
    "plt.hist(labels, 10, density = True, align = 'left', range=(0,10), rwidth=0.8)\n",
    "plt.xlabel('label')\n",
    "plt.ylabel('#samples')\n",
    "plt.title('Normalized Histogram of Digit Counts')\n",
    "plt.xticks(np.arange(0, 10, step=1))\n",
    "plt.show()"
   ]
  },
  {
   "cell_type": "markdown",
   "metadata": {},
   "source": [
    "# d"
   ]
  },
  {
   "cell_type": "code",
   "execution_count": 6,
   "metadata": {},
   "outputs": [
    {
     "name": "stdout",
     "output_type": "stream",
     "text": [
      "12950 0 1046.5954328201515\n",
      "40339 1 1257.0787564826637\n",
      "27826 2 1210.1371823062045\n",
      "21320 3 1549.2294859058163\n",
      "17891 4 980.6125636560038\n",
      "900 5 1376.716746466026\n",
      "20211 6 709.3609800376674\n",
      "39434 7 710.1063300661388\n",
      "4167 8 1119.3364105576125\n",
      "33307 9 816.7649600711333\n"
     ]
    }
   ],
   "source": [
    "def best_match(eg_series):\n",
    "    dist = float(\"inf\")\n",
    "    label = -1\n",
    "    idx = -1\n",
    "    for i in range(0, len(labels)):\n",
    "        eg_row = eg_series.values\n",
    "        pixel_row = df.iloc[i,1:].values\n",
    "        label_temp = df.iloc[i,0]\n",
    "#         dist_temp = math.sqrt(sum([(a - b) ** 2 for a, b in zip(eg_row, pixel_row)]))\n",
    "        dist_temp = np.linalg.norm(eg_row - pixel_row)\n",
    "        if dist_temp < dist and dist_temp > 0.0:\n",
    "            dist = dist_temp\n",
    "            label = label_temp\n",
    "            idx = i\n",
    "    return (idx, label, dist)\n",
    "\n",
    "best_matches = []\n",
    "for i in range(len(examples)):\n",
    "    best_idx, best_label, best_dist = best_match(examples[i])\n",
    "    best_matches.append(df.iloc[best_idx,1:])\n",
    "    print(best_idx, best_label, best_dist)\n",
    "\n",
    "# display_digits(best_matches)"
   ]
  },
  {
   "cell_type": "code",
   "execution_count": 7,
   "metadata": {},
   "outputs": [
    {
     "data": {
      "image/png": "[encoded data removed]",
      "text/plain": [
       "<Figure size 432x288 with 20 Axes>"
      ]
     },
     "metadata": {
      "needs_background": "light"
     },
     "output_type": "display_data"
    }
   ],
   "source": [
    "display_digits(examples+best_matches)"
   ]
  },
  {
   "cell_type": "markdown",
   "metadata": {},
   "source": [
    "# e"
   ]
  },
  {
   "cell_type": "code",
   "execution_count": 8,
   "metadata": {},
   "outputs": [
    {
     "name": "stdout",
     "output_type": "stream",
     "text": [
      "Done.\n",
      "Done.\n",
      "Done.\n",
      "19502232\n",
      "19354288\n"
     ]
    }
   ],
   "source": [
    "# used array, df too slow\n",
    "\n",
    "from sklearn.metrics.pairwise import euclidean_distances\n",
    "from sklearn import preprocessing\n",
    "\n",
    "genuines = []\n",
    "imposters = []\n",
    "for i in range(0, zeros.shape[0]):\n",
    "    for j in range(i+1, zeros.shape[0]):\n",
    "        dist = np.linalg.norm(zeros[i] - zeros[j])\n",
    "        genuines.append(dist)\n",
    "print(\"Done.\")\n",
    "        \n",
    "for i in range(0, ones.shape[0]):\n",
    "    for j in range(i+1, ones.shape[0]):\n",
    "        dist = np.linalg.norm(ones[i] - ones[j])\n",
    "        genuines.append(dist)\n",
    "print(\"Done.\")\n",
    "\n",
    "for i in range(0, zeros.shape[0]):\n",
    "    for j in range(0, ones.shape[0]):\n",
    "        dist = np.linalg.norm(zeros[i] - ones[j])\n",
    "        imposters.append(dist)\n",
    "print(\"Done.\")\n",
    "\n",
    "# dist = np.linalg.norm(digits[0].iloc[i, :].values - digits[0].iloc[j, :].values)\n",
    "# genuine_normalized = preprocessing.normalize(genuines.reshape(1, -1), norm='l2')       \n",
    "# imposter_normalized = preprocessing.normalize(imposters.reshape(1, -1), norm='l2')\n",
    "\n",
    "print(len(genuines))\n",
    "print(len(imposters))"
   ]
  },
  {
   "cell_type": "code",
   "execution_count": 9,
   "metadata": {},
   "outputs": [
    {
     "data": {
      "image/png": "[encoded data removed]",
      "text/plain": [
       "<Figure size 432x288 with 1 Axes>"
      ]
     },
     "metadata": {
      "needs_background": "light"
     },
     "output_type": "display_data"
    }
   ],
   "source": [
    "# plt.hist(genuine0, density = True, rwidth=0.8, color='r', label='genuine0')\n",
    "# plt.hist(genuine1, density = True, rwidth=0.8, color='g', label='genuine1')\n",
    "# plt.hist(imposter, density = True, rwidth=0.8, color='b', label='imposter')\n",
    "\n",
    "plt.hist(genuines, density = True, rwidth=0.8, color='b', label='genuines')\n",
    "plt.hist(imposters, density = True, rwidth=0.8, color='g', label='imposters')\n",
    "plt.show()"
   ]
  },
  {
   "cell_type": "markdown",
   "metadata": {},
   "source": [
    "# f"
   ]
  },
  {
   "cell_type": "code",
   "execution_count": 10,
   "metadata": {},
   "outputs": [],
   "source": [
    "from sklearn.metrics import roc_curve, auc\n",
    "dist_binary = genuines + imposters\n",
    "label_binary = [1]*len(genuines) + [0]*len(imposters)\n",
    "\n",
    "fpr, tpr, _ = roc_curve(label_binary, dist_binary, pos_label=0)    #why????"
   ]
  },
  {
   "cell_type": "code",
   "execution_count": 11,
   "metadata": {},
   "outputs": [
    {
     "data": {
      "image/png": "[encoded data removed]",
      "text/plain": [
       "<Figure size 432x288 with 1 Axes>"
      ]
     },
     "metadata": {
      "needs_background": "light"
     },
     "output_type": "display_data"
    }
   ],
   "source": [
    "plt.figure()\n",
    "plt.plot(fpr, tpr, color='darkorange', lw=2, label='ROC')\n",
    "plt.plot([0, 1], [0, 1], color='navy', lw=2, linestyle='--')\n",
    "plt.plot([0, 1], [1, 0], color='r', lw=2, label='EER')\n",
    "plt.xlim([0.0, 1.0])\n",
    "plt.ylim([0.0, 1.0])\n",
    "plt.xlabel('False Positive Rate')\n",
    "plt.ylabel('True Positive Rate')\n",
    "plt.legend(loc=\"lower right\")\n",
    "plt.show()"
   ]
  },
  {
   "cell_type": "markdown",
   "metadata": {},
   "source": [
    "# g"
   ]
  },
  {
   "cell_type": "code",
   "execution_count": 12,
   "metadata": {},
   "outputs": [
    {
     "name": "stdout",
     "output_type": "stream",
     "text": [
      "[[(0, 5)], [(0, 5)], [(0, 5)]]\n"
     ]
    }
   ],
   "source": [
    "from sklearn.metrics.pairwise import euclidean_distances\n",
    "from collections import Counter\n",
    "\n",
    "def knn(k, test_array, train_array):\n",
    "    y_pred = []\n",
    "    y_train = train_array[:, 0].flatten()\n",
    "    dists = euclidean_distances(test_array, train_array[:, 1:])\n",
    "#     dists = np.sqrt(-2 * np.dot(X, self.X_train.T) + np.matrix(np.square(X).sum(axis = 1)).T + np.square(self.X_train).sum(axis = 1))\n",
    "    \n",
    "    for i in range(dists.shape[0]):\n",
    "        labels = y_train[np.argsort(dists[i, :])].flatten()\n",
    "        first_k = [x for x in labels[:k]]\n",
    "        predicted = Counter(first_k).most_common(1)\n",
    "        y_pred.append(predicted)\n",
    "    return y_pred\n",
    "\n",
    "print(knn(5, zeros[0:3, 1:], train_array))"
   ]
  },
  {
   "cell_type": "code",
   "execution_count": null,
   "metadata": {
    "scrolled": true
   },
   "outputs": [],
   "source": [
    "# deprecated, point-wise too slow\n",
    "\n",
    "from collections import Counter\n",
    "def knn(k, test_row, train_array):\n",
    "    dists = []\n",
    "    time = 0\n",
    "    for i in range(train_array.shape[0]):\n",
    "        dist = np.linalg.norm(test_row - train_array[i][1:])\n",
    "        dists.append((dist, train_array[i][0]))\n",
    "#     print(dists)\n",
    "    dists.sort()\n",
    "    first_k = [x[1] for x in dists[:k]]\n",
    "    predicted = Counter(first_k).most_common(1)\n",
    "    return predicted\n",
    "\n",
    "# print(knn(5, zeros[0][1:], train_array))\n",
    "            "
   ]
  },
  {
   "cell_type": "markdown",
   "metadata": {},
   "source": [
    "# h"
   ]
  },
  {
   "cell_type": "code",
   "execution_count": 13,
   "metadata": {
    "scrolled": true
   },
   "outputs": [
    {
     "name": "stdout",
     "output_type": "stream",
     "text": [
      "time: 67.63s\n",
      "acc: 0.9658571428571429\n",
      "time: 48.44s\n",
      "acc: 0.966\n",
      "time: 45.88s\n",
      "acc: 0.9664285714285714\n",
      "avg_acc: 0.9664285714285714\n"
     ]
    }
   ],
   "source": [
    "import time\n",
    "split = [[], [], []]\n",
    "\n",
    "for i in range(0, train_array.shape[0]):\n",
    "    split[i%3].append(train_array[i])\n",
    "for i in range(0,3):\n",
    "    j = (i+1)%3\n",
    "    k = (i+2)%3\n",
    "\n",
    "    test = np.asarray(split[i]).reshape(-1, 785)\n",
    "    train = np.asarray(split[j] + split[k]).reshape(-1, 785)\n",
    "    \n",
    "    X_test = [x[1:] for x in test]\n",
    "    y_test = [x[0] for x in test]\n",
    "    \n",
    "    count = 0\n",
    "    correct = 0\n",
    "    y_pred = []\n",
    "    accs = []\n",
    "    \n",
    "    start = time.time()\n",
    "    predicted = knn(5, X_test, train)\n",
    "    for i in range(len(predicted)):\n",
    "        y_pred.append(predicted[i][0][0])\n",
    "        if predicted[i][0][0] == y_test[i]:    #bc predicted is nested list with tuples (actually one tuple, duh)\n",
    "            correct = correct + 1\n",
    "    end = time.time()\n",
    "    print(\"time: \" + format(end - start, '.2f') + \"s\")\n",
    "    acc = correct/len(X_test)\n",
    "    print(\"acc: \" + str(acc))\n",
    "    accs.append(acc)\n",
    "    \n",
    "avg_acc = sum(accs)/len(accs)\n",
    "print(\"avg_acc: \" + str(avg_acc))"
   ]
  },
  {
   "cell_type": "code",
   "execution_count": null,
   "metadata": {
    "scrolled": true
   },
   "outputs": [],
   "source": [
    "# do external libs allowed in this step tho lol?\n",
    "# deprecated, point-wise too slow\n",
    "\n",
    "split = [[], [], []]\n",
    "\n",
    "for i in range(0, train_array.shape[0]):\n",
    "    split[i%3].append(train_array[i])\n",
    "for i in range(0,3):\n",
    "    j = (i+1)%3\n",
    "    k = (i+2)%3\n",
    "\n",
    "    test = np.asarray(split[i]).reshape(-1, 785)\n",
    "    train = np.asarray(split[j] + split[k]).reshape(-1, 785)\n",
    "    \n",
    "    # train, test = train_test_split(train_array, test_size=0.00033)\n",
    "    X_test = [x[1:] for x in test]\n",
    "    y_test = [x[0] for x in test]\n",
    "    print(len(X_test))\n",
    "\n",
    "    count = 0\n",
    "    correct = 0\n",
    "    y_pred = []\n",
    "    accs = []\n",
    "    for i in range(0, len(X_test)):\n",
    "        predicted = knn(50, X_test[i], train)\n",
    "        y_pred.append(predicted)\n",
    "        count = count + 1\n",
    "        if predicted[0][0] == y_test[i]:\n",
    "            correct = correct + 1\n",
    "        print(count, y_test[i], predicted, correct)\n",
    "        \n",
    "    acc = correct/len(X_test)\n",
    "    print(\"acc: \" + str(acc))\n",
    "    accs.append(acc)\n",
    "\n",
    "avg_acc = sum(accs)/len(accs)\n",
    "print(\"avg_acc: \" + str(avg_acc))"
   ]
  },
  {
   "cell_type": "markdown",
   "metadata": {},
   "source": [
    "# i"
   ]
  },
  {
   "cell_type": "code",
   "execution_count": 14,
   "metadata": {},
   "outputs": [
    {
     "name": "stdout",
     "output_type": "stream",
     "text": [
      "Normalized confusion matrix\n",
      "[[9.92e-01 0.00e+00 7.41e-04 0.00e+00 7.41e-04 7.41e-04 5.93e-03 0.00e+00\n",
      "  0.00e+00 0.00e+00]\n",
      " [0.00e+00 9.96e-01 0.00e+00 6.20e-04 0.00e+00 0.00e+00 6.20e-04 2.48e-03\n",
      "  0.00e+00 0.00e+00]\n",
      " [8.66e-03 8.66e-03 9.54e-01 3.61e-03 1.44e-03 7.22e-04 1.44e-03 1.88e-02\n",
      "  2.89e-03 0.00e+00]\n",
      " [1.37e-03 1.37e-03 6.87e-03 9.62e-01 0.00e+00 1.37e-02 0.00e+00 5.49e-03\n",
      "  4.81e-03 4.12e-03]\n",
      " [0.00e+00 7.49e-03 0.00e+00 0.00e+00 9.58e-01 0.00e+00 4.49e-03 3.00e-03\n",
      "  0.00e+00 2.70e-02]\n",
      " [2.33e-03 7.76e-04 0.00e+00 1.24e-02 0.00e+00 9.62e-01 1.01e-02 2.33e-03\n",
      "  2.33e-03 7.76e-03]\n",
      " [5.05e-03 2.16e-03 0.00e+00 7.21e-04 7.21e-04 4.33e-03 9.87e-01 0.00e+00\n",
      "  0.00e+00 0.00e+00]\n",
      " [7.07e-04 1.34e-02 3.54e-03 0.00e+00 3.54e-03 0.00e+00 0.00e+00 9.65e-01\n",
      "  0.00e+00 1.41e-02]\n",
      " [2.97e-03 1.26e-02 2.23e-03 2.00e-02 3.71e-03 1.71e-02 5.19e-03 2.97e-03\n",
      "  9.23e-01 1.04e-02]\n",
      " [1.41e-03 2.11e-03 0.00e+00 7.03e-03 1.19e-02 0.00e+00 7.03e-04 1.48e-02\n",
      "  2.11e-03 9.60e-01]]\n"
     ]
    },
    {
     "data": {
      "image/png": "[encoded data removed]",
      "text/plain": [
       "<Figure size 720x720 with 2 Axes>"
      ]
     },
     "metadata": {
      "needs_background": "light"
     },
     "output_type": "display_data"
    }
   ],
   "source": [
    "from sklearn.metrics import confusion_matrix\n",
    "import itertools\n",
    "\n",
    "def plot_confusion_matrix(cm, classes,\n",
    "                          normalize=False,\n",
    "                          title='Confusion matrix',\n",
    "                          cmap=plt.cm.Blues):\n",
    "    \n",
    "    if normalize:\n",
    "        cm = cm.astype('float') / cm.sum(axis=1)[:, np.newaxis]\n",
    "        print(\"Normalized confusion matrix\")\n",
    "    else:\n",
    "        print('Confusion matrix, without normalization')\n",
    "\n",
    "    print(cm)\n",
    "\n",
    "    plt.gcf().set_size_inches(10, 10)\n",
    "    plt.imshow(cm, interpolation='nearest', cmap=cmap)\n",
    "    plt.title(title)\n",
    "    plt.colorbar()\n",
    "    tick_marks = np.arange(len(classes))\n",
    "    plt.xticks(tick_marks, classes, rotation=45)\n",
    "    plt.yticks(tick_marks, classes)\n",
    "\n",
    "    fmt = '.2f' if normalize else 'd'\n",
    "    thresh = cm.max() / 2.\n",
    "    for i, j in itertools.product(range(cm.shape[0]), range(cm.shape[1])):\n",
    "        plt.text(j, i, format(cm[i, j], fmt),\n",
    "                 horizontalalignment=\"center\",\n",
    "                 color=\"white\" if cm[i, j] > thresh else \"black\")\n",
    "\n",
    "    plt.tight_layout()\n",
    "    plt.ylabel('True label')\n",
    "    plt.xlabel('Predicted label')\n",
    "\n",
    "# Compute confusion matrix\n",
    "cnf_matrix = confusion_matrix(y_test, y_pred)\n",
    "np.set_printoptions(precision=2)\n",
    "\n",
    "# Plot normalized confusion matrix\n",
    "plt.figure()\n",
    "plot_confusion_matrix(cnf_matrix, classes=list(range(10)), normalize=True, title='Normalized confusion matrix')\n",
    "\n",
    "plt.show()"
   ]
  },
  {
   "cell_type": "markdown",
   "metadata": {},
   "source": [
    "# j"
   ]
  },
  {
   "cell_type": "code",
   "execution_count": 15,
   "metadata": {},
   "outputs": [
    {
     "name": "stdout",
     "output_type": "stream",
     "text": [
      "(28000, 784)\n",
      "time: 564.48s\n",
      "Out to file.\n"
     ]
    }
   ],
   "source": [
    "df = pd.read_csv('/Users/sjx/Desktop/CS5785/ass1/digit/test.csv')\n",
    "test_array = df.values.reshape((-1, 784))\n",
    "print(test_array.shape)\n",
    "\n",
    "y_pred = []\n",
    "\n",
    "start = time.time()\n",
    "predicted = knn(5, test_array, train_array)\n",
    "for i in range(len(predicted)):\n",
    "    y_pred.append(predicted[i][0][0])\n",
    "end = time.time()\n",
    "print(\"time: \" + format(end - start, '.2f') + \"s\")\n",
    " \n",
    "#save to file\n",
    "output = {'ImageID': list(range(1, test_array.shape[0]+1)),\n",
    "         'Label': y_pred}\n",
    "# print(output)\n",
    "df = pd.DataFrame(output, columns = ['ImageID', 'Label'])\n",
    "df.to_csv('mnist_matrix_out.csv')\n",
    "print(\"Out to file.\")"
   ]
  },
  {
   "cell_type": "code",
   "execution_count": null,
   "metadata": {},
   "outputs": [],
   "source": []
  }
 ],
 "metadata": {
  "kernelspec": {
   "display_name": "Python 3",
   "language": "python",
   "name": "python3"
  },
  "language_info": {
   "codemirror_mode": {
    "name": "ipython",
    "version": 3
   },
   "file_extension": ".py",
   "mimetype": "text/x-python",
   "name": "python",
   "nbconvert_exporter": "python",
   "pygments_lexer": "ipython3",
   "version": "3.6.5"
  }
 },
 "nbformat": 4,
 "nbformat_minor": 2
}
